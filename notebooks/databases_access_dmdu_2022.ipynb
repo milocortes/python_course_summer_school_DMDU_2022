{
 "cells": [
  {
   "cell_type": "markdown",
   "id": "9dfdef3c",
   "metadata": {
    "slideshow": {
     "slide_type": "slide"
    }
   },
   "source": [
    "# Working with Databases"
   ]
  },
  {
   "cell_type": "markdown",
   "id": "2af1019f",
   "metadata": {
    "slideshow": {
     "slide_type": "slide"
    }
   },
   "source": [
    "##  Working with Databases\n",
    "A *database* is an organized collection of data that can be easily accessed, managed, and updated.\n",
    "\n",
    "There are two categories of databases: \n",
    "* Relational databases and ,\n",
    "* nonrelational databases(NoSQL)\n",
    "\n",
    "Relational databases have a rigid structure implemented in the form of a schema for the data being stored. \n",
    "\n",
    "This approach helps ensure the integrity, consistency, and overall accuracy of the data.\n",
    "\n",
    "However, the major drawback of relational databases is that they dont scale well as data volumes increase.\n",
    "\n",
    "In contrast, NoSQL dabatabases don't impose restrictions on the structure of the data being stored, thus allowing for more flexibility, adaptability and scalability.\n"
   ]
  },
  {
   "cell_type": "markdown",
   "id": "ebf582d5",
   "metadata": {
    "slideshow": {
     "slide_type": "slide"
    }
   },
   "source": [
    "## Relational Databases\n",
    "\n",
    "*Relational Databases*, also known as *row-and-column databases*, are the most common type of database in use today. \n",
    "\n",
    "Relational Databases are designed to allow the effiecient insertion, updating, and/or deleting of small of vast amounts of structured data. \n",
    "\n",
    "In particular, relational databases are well suited for *online transaction processing* (OLTP) applications, which process a high volume os transactions for a large number of users.\n",
    "\n",
    "Some common relational database systems are:\n",
    "\n",
    "* MySQL\n",
    "* MariaDB\n",
    "* PostgreSQ"
   ]
  },
  {
   "cell_type": "markdown",
   "id": "3b7a1860",
   "metadata": {
    "slideshow": {
     "slide_type": "slide"
    }
   },
   "source": [
    "## SQL statements\n",
    "\n",
    "*SQL*, or *Structured Query Language*, is the primary tool for interactiong with a relational database. \n",
    "\n",
    "SQL statements are text commands recognized and executed by a database engine like MySQL. \n",
    "\n",
    "For example, this SQL statement ask a database to retrieve all the rows from a table called <code>orders</code> whose <code>status</code> field is set to <code>Shipped</code>:\n",
    "\n",
    "```\n",
    "SELECT * FROM orders WHERE status='Shipped';\n",
    "```"
   ]
  },
  {
   "cell_type": "markdown",
   "id": "f6f8243e",
   "metadata": {
    "slideshow": {
     "slide_type": "slide"
    }
   },
   "source": [
    "SQL statements tipically have three major components:\n",
    "* an *operation* to be performed,\n",
    "* a *target* for that operation,\n",
    "* and a *condition* that narrows the scope of the operation.\n",
    "\n",
    "In the preceding example, <code>SELECT</code> is the SQL operation. The <code>orders</code> table is the target for the operation, as defined by the <code>FROM</code> clause. The condition is specified in the <code>WHERE</code> clause of the statement.\n",
    "\n",
    "All SQL statement must have an operation and a target, but the condition is optional."
   ]
  },
  {
   "cell_type": "markdown",
   "id": "0e496030",
   "metadata": {
    "slideshow": {
     "slide_type": "slide"
    }
   },
   "source": [
    "You can also refine SQL statement to only affect certain columns of a table. Here's how to retrieve only <code>pono</code> and <code>date</code> columns of all the rows in the <code>orders</code> table:\n",
    "\n",
    "```\n",
    "SELECT pono,date FROM orders;\n",
    "```"
   ]
  },
  {
   "cell_type": "markdown",
   "id": "d0f87a32",
   "metadata": {
    "slideshow": {
     "slide_type": "slide"
    }
   },
   "source": [
    "### *Data Manipulation Language (DML) statements*\n",
    "\n",
    "<code>SELECT</code> operations like those just shown are examples of *Data Manipulation Language (DML) statements*, a category of SQL statements that you use to access and manipulate database data.\n",
    "\n",
    "Other DML operations include <code>INSERT</code>, <code>UPDATE</code>, and <code>DELETE</code>, which add, change, and remove records from a database, respectively."
   ]
  },
  {
   "cell_type": "markdown",
   "id": "8fcff932",
   "metadata": {
    "slideshow": {
     "slide_type": "slide"
    }
   },
   "source": [
    "### *Data Definition Language (DDL) statements*\n",
    "\n",
    "*Data Definition Language (DDL) statements* are another common category of SQL statements.\n",
    "\n",
    "You use these to actually define the database structure.\n",
    "\n",
    "Typical DDL operations include <code>CREATE</code> to make, <code>ALTER</code> to modify, and <code>DROP</code> to delete data cointainers, whether that be columns, tables, or whole databases."
   ]
  },
  {
   "cell_type": "markdown",
   "id": "8f674521",
   "metadata": {},
   "source": [
    "## [Install and setup PostgreSQL](https://colab.research.google.com/github/tensorflow/io/blob/master/docs/tutorials/postgresql.ipynb#scrollTo=yZmI7l_GykcW)\n"
   ]
  },
  {
   "cell_type": "code",
   "execution_count": null,
   "id": "b77dcb06",
   "metadata": {},
   "outputs": [],
   "source": [
    "# Install postgresql server\n",
    "!sudo apt-get -y -qq update\n",
    "!sudo apt-get -y -qq install postgresql\n",
    "!sudo service postgresql start\n",
    "\n",
    "# Setup a password `postgres` for username `postgres`\n",
    "!sudo -u postgres psql -U postgres -c \"ALTER USER postgres PASSWORD 'postgres';\"\n",
    "\n",
    "# Setup a database with name `tfio_demo` to be used\n",
    "!sudo -u postgres psql -U postgres -c 'DROP DATABASE IF EXISTS airq_db;'\n",
    "!sudo -u postgres psql -U postgres -c 'CREATE DATABASE airq_db;'"
   ]
  },
  {
   "cell_type": "markdown",
   "id": "f1db5069",
   "metadata": {},
   "source": [
    "#### Setup necessary environmental variables\n",
    "\n",
    "The following environmental variables are based on the PostgreSQL setup in the last section. If you have a different setup or you are using an existing database, they should be changed accordingly:"
   ]
  },
  {
   "cell_type": "code",
   "execution_count": null,
   "id": "8313c4d0",
   "metadata": {},
   "outputs": [],
   "source": [
    "%env DEMO_DATABASE_NAME=airq_db\n",
    "%env DEMO_DATABASE_HOST=localhost\n",
    "%env DEMO_DATABASE_PORT=5432\n",
    "%env DEMO_DATABASE_USER=postgres\n",
    "%env DEMO_DATABASE_PASS=postgres"
   ]
  },
  {
   "cell_type": "markdown",
   "id": "ca593445",
   "metadata": {
    "slideshow": {
     "slide_type": "slide"
    }
   },
   "source": [
    "### Prepare data in PostgreSQL server\n",
    "\n",
    "For demo purposes this tutorial will create a database and populate the database with some data. The data used in this tutorial is from [Air Quality Data Set](https://archive.ics.uci.edu/ml/datasets/Air+Quality), available from [UCI Machine Learning Repository](http://archive.ics.uci.edu/ml).\n",
    "\n",
    "Below is a sneak preview of a subset of the Air Quality Data Set:\n",
    "\n",
    "Date|Time|CO(GT)|PT08.S1(CO)|NMHC(GT)|C6H6(GT)|PT08.S2(NMHC)|NOx(GT)|PT08.S3(NOx)|NO2(GT)|PT08.S4(NO2)|PT08.S5(O3)|T|RH|AH|\n",
    "----|----|------|-----------|--------|--------|-------------|----|----------|-------|------------|-----------|-|--|--|\n",
    "10/03/2004|18.00.00|2,6|1360|150|11,9|1046|166|1056|113|1692|1268|13,6|48,9|0,7578|\n",
    "10/03/2004|19.00.00|2|1292|112|9,4|955|103|1174|92|1559|972|13,3|47,7|0,7255|\n",
    "10/03/2004|20.00.00|2,2|1402|88|9,0|939|131|1140|114|1555|1074|11,9|54,0|0,7502|\n",
    "10/03/2004|21.00.00|2,2|1376|80|9,2|948|172|1092|122|1584|1203|11,0|60,0|0,7867|\n",
    "10/03/2004|22.00.00|1,6|1272|51|6,5|836|131|1205|116|1490|1110|11,2|59,6|0,7888|\n",
    "\n",
    "More information about Air Quality Data Set and UCI Machine Learning Repository are availabel in [References](#references) section.\n",
    "\n",
    "To help simplify the data preparation, a sql version of the Air Quality Data Set has been prepared and is available as [AirQualityUCI.sql](https://github.com/tensorflow/io/blob/master/docs/tutorials/postgresql/AirQualityUCI.sql).\n",
    "\n",
    "The statement to create the table is:"
   ]
  },
  {
   "cell_type": "markdown",
   "id": "537c6a38",
   "metadata": {},
   "source": [
    "The statement to create the table is:\n",
    "```\n",
    "CREATE TABLE AirQualityUCI (\n",
    "  Date DATE,\n",
    "  Time TIME,\n",
    "  CO REAL,\n",
    "  PT08S1 INT,\n",
    "  NMHC REAL,\n",
    "  C6H6 REAL,\n",
    "  PT08S2 INT,\n",
    "  NOx REAL,\n",
    "  PT08S3 INT,\n",
    "  NO2 REAL,\n",
    "  PT08S4 INT,\n",
    "  PT08S5 INT,\n",
    "  T REAL,\n",
    "  RH REAL,\n",
    "  AH REAL\n",
    ");\n",
    "```\n",
    "\n",
    "The complete commands to create the table in database and populate the data are:"
   ]
  },
  {
   "cell_type": "code",
   "execution_count": null,
   "id": "40226af1",
   "metadata": {},
   "outputs": [],
   "source": [
    "!curl -s -OL https://github.com/tensorflow/io/raw/master/docs/tutorials/postgresql/AirQualityUCI.sql\n",
    "\n",
    "!PGPASSWORD=$DEMO_DATABASE_PASS psql -q -h $DEMO_DATABASE_HOST -p $DEMO_DATABASE_PORT -U $DEMO_DATABASE_USER -d $DEMO_DATABASE_NAME -f AirQualityUCI.sql"
   ]
  },
  {
   "cell_type": "markdown",
   "id": "6af27b13",
   "metadata": {},
   "source": [
    "### Interact with the database from Python code\n",
    "\n",
    "You'll interact with the database from your Python code through the PostgreSQL Connector/Python driver. \n",
    "\n",
    "You can install it via <code>pip</code>, as follows:"
   ]
  },
  {
   "cell_type": "code",
   "execution_count": null,
   "id": "9c113c09",
   "metadata": {},
   "outputs": [],
   "source": [
    "pip install psycopg2"
   ]
  },
  {
   "cell_type": "code",
   "execution_count": null,
   "id": "b08fe731",
   "metadata": {},
   "outputs": [],
   "source": [
    "import psycopg2\n",
    "\n",
    "\"\"\" Connect to the PostgreSQL database server \"\"\"\n",
    "conn = None\n",
    "\n",
    "# connect to the PostgreSQL server\n",
    "print('Connecting to the PostgreSQL database...')\n",
    "conn = psycopg2.connect(host=\"localhost\",\n",
    "                        database=\"airq_db\",\n",
    "                        user=\"postgres\",\n",
    "                        password=\"postgres\")\n",
    "# create a cursor\n",
    "cur = conn.cursor()\n",
    "\n",
    "# execute a statement\n",
    "print('PostgreSQL database version:')\n",
    "cur.execute('SELECT version()')\n",
    "# display the PostgreSQL database server version\n",
    "db_version = cur.fetchone()\n",
    "print(db_version)\n",
    "\n",
    "cur.execute(\"SELECT * FROM AirQualityUCI\")\n",
    "print(\"The number of parts: \", cur.rowcount)\n",
    "\n",
    "ac_row = []\n",
    "row = cur.fetchone()\n",
    "while row is not None:\n",
    "    print(row)\n",
    "    ac_row.append(row)\n",
    "    row = cur.fetchone()\n",
    "    \n",
    "# get columns name\n",
    "column_names = [desc[0] for desc in cur.description]\n",
    "# close the communication with the PostgreSQL\n",
    "cur.close()"
   ]
  },
  {
   "cell_type": "code",
   "execution_count": null,
   "id": "c94c7468",
   "metadata": {},
   "outputs": [],
   "source": [
    "# convert the query to Pandas DataFrame\n",
    "import pandas as pd\n",
    "import datetime\n",
    "\n",
    "air_quality_UCI = pd.DataFrame(ac_row,columns=column_names)\n",
    "air_quality_UCI"
   ]
  },
  {
   "cell_type": "markdown",
   "id": "33478ab1",
   "metadata": {},
   "source": [
    "# Create rezago_social_db "
   ]
  },
  {
   "cell_type": "code",
   "execution_count": null,
   "id": "b9199a71",
   "metadata": {},
   "outputs": [],
   "source": [
    "# Setup a database with name `tfio_demo` to be used\n",
    "!sudo -u postgres psql -U postgres -c 'DROP DATABASE IF EXISTS rezago_social_db;'\n",
    "!sudo -u postgres psql -U postgres -c 'CREATE DATABASE rezago_social_db;'"
   ]
  },
  {
   "cell_type": "code",
   "execution_count": null,
   "id": "160b0b17",
   "metadata": {},
   "outputs": [],
   "source": [
    "%env DEMO_DATABASE_NAME = rezago_social_db"
   ]
  },
  {
   "cell_type": "code",
   "execution_count": null,
   "id": "699d857f",
   "metadata": {},
   "outputs": [],
   "source": [
    "!curl -s -OL https://raw.githubusercontent.com/milocortes/diplomado_ciencia_datos_mide/main/datos/sql/rezago_social_coneval.sql\n",
    "!curl -s -OL https://raw.githubusercontent.com/milocortes/diplomado_ciencia_datos_mide/main/datos/rezago_coneval_2020.csv"
   ]
  },
  {
   "cell_type": "code",
   "execution_count": null,
   "id": "ba0dfd17",
   "metadata": {},
   "outputs": [],
   "source": [
    "!PGPASSWORD=$DEMO_DATABASE_PASS psql -q -h $DEMO_DATABASE_HOST -p $DEMO_DATABASE_PORT -U $DEMO_DATABASE_USER -d $DEMO_DATABASE_NAME -a -f rezago_social_coneval.sql"
   ]
  },
  {
   "cell_type": "code",
   "execution_count": null,
   "id": "608036fe",
   "metadata": {},
   "outputs": [],
   "source": [
    "\"\"\" Connect to the PostgreSQL database server \"\"\"\n",
    "conn = None\n",
    "\n",
    "# connect to the PostgreSQL server\n",
    "print('Connecting to the PostgreSQL database...')\n",
    "conn = psycopg2.connect(host=\"localhost\",\n",
    "                        database=\"rezago_social_db\",\n",
    "                        user=\"postgres\",\n",
    "                        password=\"postgres\")\n",
    "# create a cursor\n",
    "cur = conn.cursor()\n",
    "\n",
    "# execute a statement\n",
    "print('PostgreSQL database version:')\n",
    "cur.execute('SELECT version()')\n",
    "# display the PostgreSQL database server version\n",
    "db_version = cur.fetchone()\n",
    "print(db_version)\n",
    "\n",
    "cur.execute(\"SELECT * FROM tb_rezago_social\")\n",
    "print(\"The number of parts: \", cur.rowcount)\n",
    "\n",
    "ac_row = []\n",
    "row = cur.fetchone()\n",
    "while row is not None:\n",
    "    print(row)\n",
    "    ac_row.append(row)\n",
    "    row = cur.fetchone()\n",
    "\n",
    "# get columns name\n",
    "column_names = [desc[0] for desc in cur.description]\n",
    "# close the communication with the PostgreSQL\n",
    "cur.close()"
   ]
  },
  {
   "cell_type": "code",
   "execution_count": null,
   "id": "14a1b9b3",
   "metadata": {},
   "outputs": [],
   "source": [
    "# convert the query to Pandas DataFrame\n",
    "rezago_social = pd.DataFrame(ac_row,columns=column_names)\n",
    "rezago_social"
   ]
  },
  {
   "cell_type": "markdown",
   "id": "a2223c1b",
   "metadata": {},
   "source": [
    "# SIR Model"
   ]
  },
  {
   "cell_type": "markdown",
   "id": "64b8c212",
   "metadata": {},
   "source": [
    "Sea:\n",
    "\n",
    "* $S(t)$: individuos en el tiempo $t$ que son suseptibles a ser contagiados. Estos individuos entran en la categoría de susceptibles, $S$. \n",
    "* $I(y)$: individuos en el tiempo $t$ que se encuentran en la categoría de infectados, I.\n",
    "* $R(t)$: individuos en la categoría de removidos, $R$, es decir aquellos que murieron por la enfermedad o que fueron contagiados y alcanzaron inmunidad.\n",
    "\n",
    "Las tres ecuaciones diferenciales del modelo son:\n",
    "\n",
    "\n",
    "\\begin{equation}\n",
    "  \\dot{S}(t)= - \\beta S(t)I(t)\n",
    "\\end{equation}\n",
    "\n",
    "\\begin{equation}\n",
    "  \\dot{I}(t)= \\beta S(t)I(t)-\\gamma I(t) \n",
    "\\end{equation}\n",
    "\n",
    "\\begin{equation}\n",
    "  \\dot{R}(t)= \\gamma I(t)\n",
    "\\end{equation}\n",
    "\n",
    "\n",
    "This differential equation model (and also its discrete counterpart above) is known\n",
    "as an $\\textbf{SIR}$ model. \n",
    "\n",
    "The input data to the differential equation model consist of the parameter values for $\\beta$ and $\\gamma$ , as well as the initial conditions $S(0)$ = $S_0$ , $I(0)$ = $I_0$ ,\n",
    "and $R(0)$ = $R_0$ ."
   ]
  },
  {
   "cell_type": "code",
   "execution_count": null,
   "id": "fee98eb7",
   "metadata": {},
   "outputs": [],
   "source": [
    "import numpy as np\n",
    "from numpy import exp\n",
    "\n",
    "import matplotlib.pyplot as plt\n",
    "from scipy.integrate import odeint\n",
    "\n",
    "## Parámetros \n",
    "β = 0.0008\n",
    "γ = 0.1\n",
    "\n",
    "# Condiciones iniciales de L,w,a,N\n",
    "S_0 = 1500  \n",
    "I_0 = 1\n",
    "R_0 = 0\n",
    "\n",
    "\n",
    "x_0 = S_0,I_0,R_0\n",
    "\n",
    "def F(x, t):\n",
    "    \"\"\"\n",
    "    Derivada con respecto al tiempo del vector de estado.\n",
    "        * x es el vector de estado (arreglo)\n",
    "        * t es el tiempo (escalar)\n",
    "    \"\"\"\n",
    "    S,I,R  = x\n",
    "\n",
    "    # Derivadas con respecto al tiempo\n",
    "    dS = -β*S*I\n",
    "    dI = β*S*I - γ*I\n",
    "    dR = γ*I\n",
    "\n",
    "    return dS,dI,dR\n",
    "\n",
    "## Se define una función para generar las trayectorias\n",
    "def solve_path(t_vec, x_init=x_0):\n",
    "    G = lambda x, t: F(x, t)\n",
    "    S_path, I_path, R_path = odeint(G, x_init, t_vec).transpose()\n",
    "\n",
    "    return S_path, I_path, R_path\n",
    "\n",
    "## Se resuelve para 50 años\n",
    "t_length = 50\n",
    "t_vec = np.arange(0,50,1)\n",
    "S_end,I_end,R_end = solve_path(t_vec)\n"
   ]
  },
  {
   "cell_type": "code",
   "execution_count": null,
   "id": "d0c21768",
   "metadata": {},
   "outputs": [],
   "source": [
    "# Plot results\n",
    "plt.plot(S_end, label = \"S\")\n",
    "plt.plot(I_end, label = \"I\")\n",
    "plt.plot(R_end, label = \"R\")\n",
    "leg = plt.legend(loc='upper right')\n",
    "plt.show()"
   ]
  },
  {
   "cell_type": "code",
   "execution_count": null,
   "id": "578a3220",
   "metadata": {},
   "outputs": [],
   "source": [
    "betas = np.arange(0.0001,0.0009,0.00008)\n",
    "\n",
    "for β in betas:\n",
    "    S_end,I_end,R_end = solve_path(t_vec)\n",
    "    plt.plot(I_end,label = str(β))\n",
    "    leg = plt.legend(loc='center left', bbox_to_anchor=(1, 0.5))\n",
    "\n",
    "plt.show()"
   ]
  },
  {
   "cell_type": "code",
   "execution_count": null,
   "id": "9e508128",
   "metadata": {},
   "outputs": [],
   "source": [
    "# Setup a database with name `tfio_demo` to be used\n",
    "!sudo -u postgres psql -U postgres -c 'DROP DATABASE IF EXISTS sir_db;'\n",
    "!sudo -u postgres psql -U postgres -c 'CREATE DATABASE sir_db;'\n",
    "%env DEMO_DATABASE_NAME = sir_db\n",
    "!curl -s -OL https://raw.githubusercontent.com/milocortes/diplomado_ciencia_datos_mide/main/datos/sql/sir_db.sql\n",
    "!PGPASSWORD=$DEMO_DATABASE_PASS psql -q -h $DEMO_DATABASE_HOST -p $DEMO_DATABASE_PORT -U $DEMO_DATABASE_USER -d $DEMO_DATABASE_NAME -f sir_db.sql"
   ]
  },
  {
   "cell_type": "code",
   "execution_count": null,
   "id": "5562dd32",
   "metadata": {},
   "outputs": [],
   "source": [
    "def build_sql(run_id,beta,gamma,suceptible,infected,recovered,day_time):\n",
    "    sql = \"\"\"INSERT INTO tb_sir(run_id,beta,gamma,suceptible,infected,recovered,day_time) VALUES({},{},{},{},{},{},{});\"\"\".format(run_id,beta,gamma,suceptible,infected,recovered,day_time)\n",
    "    return sql"
   ]
  },
  {
   "cell_type": "code",
   "execution_count": null,
   "id": "3ddab7b3",
   "metadata": {},
   "outputs": [],
   "source": [
    "\"\"\" Connect to the PostgreSQL database server \"\"\"\n",
    "conn = None\n",
    "\n",
    "# connect to the PostgreSQL server\n",
    "print('Connecting to the PostgreSQL database...')\n",
    "conn = psycopg2.connect(host=\"localhost\",\n",
    "                        database=\"sir_db\",\n",
    "                        user=\"postgres\",\n",
    "                        password=\"postgres\")\n",
    "# create a cursor\n",
    "cur = conn.cursor()\n",
    "\n",
    "betas = np.arange(0.0001,0.0009,0.00008)\n",
    "\n",
    "for run_id,β in enumerate(betas):\n",
    "    print(run_id)\n",
    "    S_end,I_end,R_end = solve_path(t_vec)\n",
    "    for (t,s),i,r in zip(enumerate(S_end),I_end,R_end):\n",
    "        # execute the INSERT statement\n",
    "        sql = build_sql(run_id,β,γ,s,i,r,t)\n",
    "        cur.execute(sql)\n",
    "        # commit the changes to the database\n",
    "        conn.commit()\n",
    "\n",
    "# close the communication with the PostgreSQL\n",
    "cur.close()"
   ]
  },
  {
   "cell_type": "code",
   "execution_count": null,
   "id": "e1eb0d65",
   "metadata": {},
   "outputs": [],
   "source": [
    "\"\"\" Connect to the PostgreSQL database server \"\"\"\n",
    "conn = None\n",
    "\n",
    "# connect to the PostgreSQL server\n",
    "print('Connecting to the PostgreSQL database...')\n",
    "conn = psycopg2.connect(host=\"localhost\",\n",
    "                        database=\"sir_db\",\n",
    "                        user=\"postgres\",\n",
    "                        password=\"postgres\")\n",
    "# create a cursor\n",
    "cur = conn.cursor()\n",
    "\n",
    "# execute a statement\n",
    "print('PostgreSQL database version:')\n",
    "cur.execute('SELECT version()')\n",
    "# display the PostgreSQL database server version\n",
    "db_version = cur.fetchone()\n",
    "print(db_version)\n",
    "\n",
    "cur.execute(\"SELECT * FROM tb_sir\")\n",
    "print(\"The number of parts: \", cur.rowcount)\n",
    "\n",
    "ac_row = []\n",
    "row = cur.fetchone()\n",
    "while row is not None:\n",
    "    print(row)\n",
    "    ac_row.append(row)\n",
    "    row = cur.fetchone()\n",
    "\n",
    "# get columns name\n",
    "column_names = [desc[0] for desc in cur.description]\n",
    "# close the communication with the PostgreSQL\n",
    "cur.close()"
   ]
  },
  {
   "cell_type": "code",
   "execution_count": null,
   "id": "68a24d99",
   "metadata": {},
   "outputs": [],
   "source": [
    "# convert the query to Pandas DataFrame\n",
    "sir = pd.DataFrame(ac_row,columns=column_names)\n",
    "sir"
   ]
  }
 ],
 "metadata": {
  "celltoolbar": "Slideshow",
  "kernelspec": {
   "display_name": "Python 3 (ipykernel)",
   "language": "python",
   "name": "python3"
  },
  "language_info": {
   "codemirror_mode": {
    "name": "ipython",
    "version": 3
   },
   "file_extension": ".py",
   "mimetype": "text/x-python",
   "name": "python",
   "nbconvert_exporter": "python",
   "pygments_lexer": "ipython3",
   "version": "3.7.11"
  }
 },
 "nbformat": 4,
 "nbformat_minor": 5
}
