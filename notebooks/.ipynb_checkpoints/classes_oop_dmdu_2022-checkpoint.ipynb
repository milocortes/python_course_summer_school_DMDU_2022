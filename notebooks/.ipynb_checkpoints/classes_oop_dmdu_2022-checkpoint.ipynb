{
 "cells": [
  {
   "cell_type": "markdown",
   "id": "63928d78",
   "metadata": {
    "slideshow": {
     "slide_type": "slide"
    }
   },
   "source": [
    "# Classes and object-oriented programming"
   ]
  },
  {
   "cell_type": "markdown",
   "id": "c85f3217",
   "metadata": {
    "slideshow": {
     "slide_type": "slide"
    }
   },
   "source": [
    "## Defining classes\n",
    "\n",
    "A *class* in Python is effectively a data type. \n",
    "\n",
    "All the data types built into Python are classes.\n",
    "\n",
    "You define a class with the <code>class</code> statement:"
   ]
  },
  {
   "cell_type": "code",
   "execution_count": null,
   "id": "7d1c1128",
   "metadata": {
    "slideshow": {
     "slide_type": "fragment"
    }
   },
   "outputs": [],
   "source": [
    "class MyClass:\n",
    "    body"
   ]
  },
  {
   "cell_type": "markdown",
   "id": "5196fc31",
   "metadata": {
    "slideshow": {
     "slide_type": "fragment"
    }
   },
   "source": [
    "<code>body</code> is a list of Python statements—typically, variable assignments and function definitions. No assignments or function definitions are required. The body can be just a single <code>pass</code> statement."
   ]
  },
  {
   "cell_type": "markdown",
   "id": "817d2d90",
   "metadata": {
    "slideshow": {
     "slide_type": "slide"
    }
   },
   "source": [
    "After you define the class, you can create a new object of the class type (an instance of the class) by calling\n",
    "the class name as a function:"
   ]
  },
  {
   "cell_type": "code",
   "execution_count": 1,
   "id": "bedd95c5",
   "metadata": {},
   "outputs": [],
   "source": [
    "class MyClass:\n",
    "    pass\n",
    "instance = MyClass()"
   ]
  },
  {
   "cell_type": "markdown",
   "id": "3c4c9e3b",
   "metadata": {},
   "source": [
    "### Using a class instance as a structure or record"
   ]
  },
  {
   "cell_type": "markdown",
   "id": "35f85b11",
   "metadata": {},
   "source": [
    "Class instances can be used as structures or records. \n",
    "\n",
    "Unlike C structures or Java classes, the data fields of an instance don’t need to be declared ahead of time; they\n",
    "can be created on the fly."
   ]
  },
  {
   "cell_type": "code",
   "execution_count": 2,
   "id": "32341c98",
   "metadata": {},
   "outputs": [
    {
     "name": "stdout",
     "output_type": "stream",
     "text": [
      "31.400000000000002\n"
     ]
    }
   ],
   "source": [
    "class Circle:\n",
    "    pass\n",
    "\n",
    "my_circle = Circle()\n",
    "my_circle.radius = 5\n",
    "print(2 * 3.14 * my_circle.radius)"
   ]
  },
  {
   "cell_type": "markdown",
   "id": "6d46213e",
   "metadata": {
    "slideshow": {
     "slide_type": "slide"
    }
   },
   "source": [
    "You can initialize fields of an instance automatically by including an <code>\\_\\_init\\_\\_</code> initialization method in the class body.\n",
    "\n",
    "This function is run every time an instance of the class is created, with that new instance as its first argument, <code>self</code> .\n",
    "\n",
    "Also unlike those in Java and C++, Python classes may only have one <code>\\_\\_init\\_\\_</code>  method. This example creates circles with a radius of 1 by default:"
   ]
  },
  {
   "cell_type": "code",
   "execution_count": 4,
   "id": "798265ce",
   "metadata": {
    "slideshow": {
     "slide_type": "fragment"
    }
   },
   "outputs": [
    {
     "name": "stdout",
     "output_type": "stream",
     "text": [
      "6.28\n"
     ]
    }
   ],
   "source": [
    "class Circle:\n",
    "    def __init__(self):\n",
    "        self.radius = 1\n",
    "        \n",
    "my_circle = Circle()\n",
    "print(2 * 3.14 * my_circle.radius)"
   ]
  },
  {
   "cell_type": "code",
   "execution_count": 5,
   "id": "80939ecd",
   "metadata": {
    "slideshow": {
     "slide_type": "fragment"
    }
   },
   "outputs": [
    {
     "name": "stdout",
     "output_type": "stream",
     "text": [
      "31.400000000000002\n"
     ]
    }
   ],
   "source": [
    "my_circle.radius = 5\n",
    "print(2 * 3.14 * my_circle.radius)"
   ]
  },
  {
   "cell_type": "markdown",
   "id": "59e7deb7",
   "metadata": {},
   "source": [
    "By convention, self is always the name of the first argument of <code>\\_\\_init\\_\\_</code> . self is set to the newly created circle instance when <code>\\_\\_init\\_\\_</code> is run."
   ]
  },
  {
   "cell_type": "markdown",
   "id": "20f29f31",
   "metadata": {},
   "source": [
    "## Instance variables\n",
    "\n",
    "Instance variables are the most basic feature of OOP. Take a look at the <code>Circle</code> class again:"
   ]
  },
  {
   "cell_type": "code",
   "execution_count": 6,
   "id": "7eb501d3",
   "metadata": {
    "slideshow": {
     "slide_type": "fragment"
    }
   },
   "outputs": [],
   "source": [
    "class Circle:\n",
    "    def __init__(self):\n",
    "        self.radius = 1"
   ]
  },
  {
   "cell_type": "markdown",
   "id": "fc07b350",
   "metadata": {
    "slideshow": {
     "slide_type": "fragment"
    }
   },
   "source": [
    "<code>radius</code> is an *instance variable* of <code>Circle</code> instances. That is, each instance of the <code>Circle</code> class has its own copy of <code>radius</code> , and the value stored in that copy may be different from the values stored in the <code>radius</code> variable in other instances."
   ]
  },
  {
   "cell_type": "markdown",
   "id": "fec0bede",
   "metadata": {
    "slideshow": {
     "slide_type": "slide"
    }
   },
   "source": [
    "In Python, you can create instance variables as necessary by assigning to a field of a class instance:"
   ]
  },
  {
   "cell_type": "code",
   "execution_count": null,
   "id": "051b206e",
   "metadata": {
    "slideshow": {
     "slide_type": "fragment"
    }
   },
   "outputs": [],
   "source": [
    "instance.variable = value"
   ]
  },
  {
   "cell_type": "markdown",
   "id": "c1a625a8",
   "metadata": {
    "slideshow": {
     "slide_type": "fragment"
    }
   },
   "source": [
    "If the variable doesn’t already exist, it’s created automatically, which is how <code>\\_\\_init\\_\\_</code> creates the <code>radius</code> variable."
   ]
  },
  {
   "cell_type": "markdown",
   "id": "86d946c9",
   "metadata": {
    "slideshow": {
     "slide_type": "slide"
    }
   },
   "source": [
    "## Methods\n",
    "\n",
    "A *method* is a function associated with a particular class.\n",
    "\n",
    "You’ve already seen the special <code>\\_\\_init\\_\\_</code> method, which is called on a new instance when that instance is created. \n",
    "\n",
    "In the following example, you define another method, <code>area</code> , for the <code>Circle</code> class; this\n",
    "method can be used to calculate and return the area for any <code>Circle</code> instance.\n"
   ]
  },
  {
   "cell_type": "code",
   "execution_count": 9,
   "id": "8fdded49",
   "metadata": {
    "slideshow": {
     "slide_type": "fragment"
    }
   },
   "outputs": [
    {
     "name": "stdout",
     "output_type": "stream",
     "text": [
      "28.27431\n"
     ]
    }
   ],
   "source": [
    "class Circle:\n",
    "    def __init__(self):\n",
    "        self.radius = 1\n",
    "    def area(self):\n",
    "        return self.radius * self.radius * 3.14159\n",
    "\n",
    "c = Circle()\n",
    "c.radius = 3\n",
    "print(c.area())"
   ]
  },
  {
   "cell_type": "markdown",
   "id": "44df33a7",
   "metadata": {
    "slideshow": {
     "slide_type": "fragment"
    }
   },
   "source": [
    "Method invocation syntax consists of an instance, followed by a period, followed by the method to be invoked on the instance."
   ]
  },
  {
   "cell_type": "markdown",
   "id": "f51f416d",
   "metadata": {
    "slideshow": {
     "slide_type": "slide"
    }
   },
   "source": [
    "Methods can be invoked with arguments if the method definitions accept those arguments. \n",
    "\n",
    "This version of <code>Circle</code> adds an argument to the <code>\\_\\_init\\_\\_</code> method so that you can create circles of a given radius without needing to set the radius after a circle is created:"
   ]
  },
  {
   "cell_type": "code",
   "execution_count": 10,
   "id": "5be94e4d",
   "metadata": {},
   "outputs": [],
   "source": [
    "class Circle:\n",
    "    def __init__(self,radius):\n",
    "        self.radius = radius\n",
    "    def area(self):\n",
    "        return self.radius * self.radius * 3.14159\n"
   ]
  },
  {
   "cell_type": "markdown",
   "id": "91fe83aa",
   "metadata": {},
   "source": [
    "Using this definition of <code>Circle</code> , you can create circles of any radius with one call on the <code>Circle</code> class. The following creates a <code>Circle</code> of radius 5:"
   ]
  },
  {
   "cell_type": "code",
   "execution_count": 12,
   "id": "0bb1561b",
   "metadata": {},
   "outputs": [],
   "source": [
    "c = Circle(5)"
   ]
  },
  {
   "cell_type": "code",
   "execution_count": 13,
   "id": "c7a4610d",
   "metadata": {},
   "outputs": [],
   "source": [
    "class Circle:\n",
    "    def __init__(self,radius = 3):\n",
    "        self.radius = radius\n",
    "    def area(self):\n",
    "        return self.radius * self.radius * 3.14159"
   ]
  },
  {
   "cell_type": "code",
   "execution_count": 14,
   "id": "fd8c56fa",
   "metadata": {},
   "outputs": [],
   "source": [
    "c = Circle()"
   ]
  },
  {
   "cell_type": "markdown",
   "id": "a7e5eddf",
   "metadata": {},
   "source": [
    "## Static methods \n",
    "\n",
    "Python classes can also have methods that correspond explicitly to static methods in a language such as Java. In addition, Python has *class* methods, which are a bit more advanced.\n",
    "\n",
    "### Static methods\n",
    "\n",
    "Just as in Java, you can invoke static methods even though no instance of that class has been created, although you *can* call them by using a class instance. To create a static method, use the <code>@staticmethod</code> decorator, as shown here."
   ]
  },
  {
   "cell_type": "code",
   "execution_count": 20,
   "id": "6d5f60a0",
   "metadata": {},
   "outputs": [],
   "source": [
    "\n",
    "class Circle:\n",
    "    \"\"\"Circle class\"\"\"\n",
    "    all_circles = []\n",
    "    pi = 3.14159\n",
    "    \n",
    "    def __init__(self,r = 1):\n",
    "        \"\"\"Create a Circle with the given radius\"\"\"\n",
    "        self.radius = r\n",
    "        self.__class__.all_circles.append(self)\n",
    "    \n",
    "    def area(self):\n",
    "        \"\"\"determine the area of the Circle\"\"\"\n",
    "        return self.__class__.pi * self.radius * self.radius\n",
    "    \n",
    "    @staticmethod\n",
    "    def total_area():\n",
    "        \"\"\"Static method to total the areas of all Circles\"\"\"\n",
    "        total = 0\n",
    "        for c in Circle.all_circles:\n",
    "            total = total + c.area()\n",
    "        return total\n",
    "    "
   ]
  },
  {
   "cell_type": "code",
   "execution_count": 21,
   "id": "98a6a622",
   "metadata": {},
   "outputs": [
    {
     "data": {
      "text/plain": [
       "15.70795"
      ]
     },
     "execution_count": 21,
     "metadata": {},
     "output_type": "execute_result"
    }
   ],
   "source": [
    "c1 = Circle(1)\n",
    "c2 = Circle(2)\n",
    "Circle.total_area()"
   ]
  },
  {
   "cell_type": "markdown",
   "id": "799877a6",
   "metadata": {},
   "source": [
    "## Inheritance"
   ]
  },
  {
   "cell_type": "code",
   "execution_count": 38,
   "id": "2b5a5f31",
   "metadata": {},
   "outputs": [],
   "source": [
    "# clase base\n",
    "class Vehiculo:\n",
    "    \n",
    "    def __init__(self, nombre='X', rapidez=0):\n",
    "        self.nombre = nombre\n",
    "        self.rapidez = rapidez\n",
    "        \n",
    "    def info(self):\n",
    "        print(f'Vehículo {self.nombre} va a {self.rapidez} km/h.')\n",
    "    \n",
    "    def acelerar(self, cantidad):\n",
    "        self.rapidez = self.rapidez + cantidad \n",
    "\n",
    "# Tamalero hereda de Vehiculo\n",
    "class Triciclo(Vehiculo):\n",
    "    \n",
    "    # reimplementamos el inicializador\n",
    "    def __init__(self,tamales,nombre='X', rapidez=10):\n",
    "        super().__init__(nombre, rapidez)\n",
    "        self.tamales = tamales\n",
    "    \n",
    "    # reimplementamos el método de acelerar\n",
    "    def acelerar(self, porcentaje):\n",
    "        self.rapidez = self.rapidez + self.rapidez * porcentaje "
   ]
  },
  {
   "cell_type": "markdown",
   "id": "d5abde59",
   "metadata": {},
   "source": [
    "There are (generally) two requirements in using an inherited class in Python. \n",
    "\n",
    "* The first requirement is defining the inheritance hierarchy, which you do by giving the classe  inherited from, in parentheses, immediately after the name of the class being defined with the <code>class</code> keyword.\n",
    "\n",
    "* The second and more subtle element is the necessity to explicitly call the <code>\\_\\_init\\_\\_</code> method of inherited classes. Python doesn’t automatically do this for you, but you can use the <code>super</code> function to have Python figure out which inherited class to use."
   ]
  },
  {
   "cell_type": "code",
   "execution_count": 39,
   "id": "b65b18a3",
   "metadata": {},
   "outputs": [
    {
     "name": "stdout",
     "output_type": "stream",
     "text": [
      "Vehículo X va a 0 km/h.\n",
      "Vehículo X va a 25 km/h.\n"
     ]
    }
   ],
   "source": [
    "# instanciamos Vehiculo\n",
    "vehiculo = Vehiculo()\n",
    "# veamos su estado\n",
    "vehiculo.info()\n",
    "# modfiquemos el estado\n",
    "vehiculo.acelerar(25)\n",
    "# veamos su estado\n",
    "vehiculo.info()"
   ]
  },
  {
   "cell_type": "code",
   "execution_count": 41,
   "id": "c3282974",
   "metadata": {},
   "outputs": [
    {
     "name": "stdout",
     "output_type": "stream",
     "text": [
      "Vehículo triciclo va a 10 km/h.\n",
      "Vehículo triciclo va a 12.5 km/h.\n"
     ]
    }
   ],
   "source": [
    "# instanciamos Triciclo\n",
    "tamalero = Triciclo(100,\"triciclo\",10)\n",
    "# veamos su estado\n",
    "tamalero.info()\n",
    "# modfiquemos el estado\n",
    "tamalero.acelerar(0.25)\n",
    "# veamos su estado\n",
    "tamalero.info()"
   ]
  },
  {
   "cell_type": "markdown",
   "id": "0dd318dd",
   "metadata": {},
   "source": [
    "### Tarea\n",
    "\n",
    "Implementa la clase <code>Micro</code> que herede de la clase <code>Vehiculo</code>, además:\n",
    "\n",
    "* Implemementa el método <code>desacelerar(cantidad)</code> sin permitir que la rapidez sea menor a 0 km/h.\n",
    "* Reimplementa el inicilizador <code>\\_\\_init\\_\\_</code> para que reciba como argumento la ruta del </code>Micro</code> (por ejemplo, Zapata-Mixcoac).\n",
    "* Reimplementa el el método <code>info</code> para que el mensaje sea 'El Micro X con dirección D va a N km/h!', donde X es el nombre del Micro, D la ruta y N la velocidad."
   ]
  }
 ],
 "metadata": {
  "celltoolbar": "Slideshow",
  "kernelspec": {
   "display_name": "Python 3 (ipykernel)",
   "language": "python",
   "name": "python3"
  },
  "language_info": {
   "codemirror_mode": {
    "name": "ipython",
    "version": 3
   },
   "file_extension": ".py",
   "mimetype": "text/x-python",
   "name": "python",
   "nbconvert_exporter": "python",
   "pygments_lexer": "ipython3",
   "version": "3.7.13"
  }
 },
 "nbformat": 4,
 "nbformat_minor": 5
}
