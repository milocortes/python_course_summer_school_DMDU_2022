{
 "cells": [
  {
   "cell_type": "markdown",
   "id": "0826d463",
   "metadata": {
    "slideshow": {
     "slide_type": "slide"
    }
   },
   "source": [
    "# The Series object"
   ]
  },
  {
   "cell_type": "markdown",
   "id": "1af60558",
   "metadata": {
    "slideshow": {
     "slide_type": "slide"
    }
   },
   "source": [
    "The <code>Series</code> is a one-dimensional labeled array for homogeneous data. The term *homogeneous* means that the values are of the sama data types.\n",
    "    \n",
    "Pandas assigns each <code>Series</code> value a *label*-and identifier we can use to locate the value. \n",
    "    \n",
    "The <Series> is a one-dimensional data structure because we need one reference point to access a value: either a label or a position. \n",
    "    \n",
    " Let's create a <code>Series</code> object from the <code>Series</code> class. The first argument to the <code>Series</code> constructor is an iterable object whose values will populate the <code>Series</code>."
   ]
  },
  {
   "cell_type": "code",
   "execution_count": 6,
   "id": "4acd5fa8",
   "metadata": {
    "slideshow": {
     "slide_type": "fragment"
    }
   },
   "outputs": [
    {
     "data": {
      "text/plain": [
       "0     Chocolate\n",
       "1       Vanilla\n",
       "2    Strawberry\n",
       "3    Rum Raisin\n",
       "dtype: object"
      ]
     },
     "execution_count": 6,
     "metadata": {},
     "output_type": "execute_result"
    }
   ],
   "source": [
    "import pandas as pd\n",
    "\n",
    "ice_cream_flavors = [\"Chocolate\",\"Vanilla\",\"Strawberry\",\"Rum Raisin\",]\n",
    "\n",
    "pd.Series(data = ice_cream_flavors)"
   ]
  },
  {
   "cell_type": "markdown",
   "id": "95e2e7d1",
   "metadata": {
    "slideshow": {
     "slide_type": "slide"
    }
   },
   "source": [
    "In addition to an index position, we can assign each <code>Series</code> value an index label. Index labels can be of any immutable data type: strings, tuples, datetimes, etc. \n",
    "\n",
    "This flexibility makes a <code>Series</code> powerful: we can reference a valye by its order or by a key/label. In a sense, each value has two identifiers."
   ]
  },
  {
   "cell_type": "code",
   "execution_count": 9,
   "id": "bf0efc09",
   "metadata": {
    "slideshow": {
     "slide_type": "fragment"
    }
   },
   "outputs": [
    {
     "data": {
      "text/plain": [
       "Monday        Chocolate\n",
       "Wednesday       Vanilla\n",
       "Friday       Strawberry\n",
       "Saturday     Rum Raisin\n",
       "dtype: object"
      ]
     },
     "execution_count": 9,
     "metadata": {},
     "output_type": "execute_result"
    }
   ],
   "source": [
    "days_of_week = (\"Monday\", \"Wednesday\", \"Friday\", \"Saturday\")\n",
    "# The two lines below are equivalent\n",
    "pd.Series(ice_cream_flavors, days_of_week)\n",
    "pd.Series(data = ice_cream_flavors, index = days_of_week)"
   ]
  },
  {
   "cell_type": "markdown",
   "id": "15e4ace0",
   "metadata": {
    "slideshow": {
     "slide_type": "slide"
    }
   },
   "source": [
    "we can access the value <code>\"Vanilla\"</code> either by the index label  <code>\"Wednesday\" </code> or by index position 1"
   ]
  },
  {
   "cell_type": "code",
   "execution_count": 10,
   "id": "32d34a4c",
   "metadata": {
    "slideshow": {
     "slide_type": "fragment"
    }
   },
   "outputs": [
    {
     "data": {
      "text/plain": [
       "'Vanilla'"
      ]
     },
     "execution_count": 10,
     "metadata": {},
     "output_type": "execute_result"
    }
   ],
   "source": [
    "serie = pd.Series(ice_cream_flavors, days_of_week)\n",
    "serie[1]"
   ]
  },
  {
   "cell_type": "code",
   "execution_count": 11,
   "id": "57d05517",
   "metadata": {
    "slideshow": {
     "slide_type": "fragment"
    }
   },
   "outputs": [
    {
     "data": {
      "text/plain": [
       "'Vanilla'"
      ]
     },
     "execution_count": 11,
     "metadata": {},
     "output_type": "execute_result"
    }
   ],
   "source": [
    "serie[\"Wednesday\"]"
   ]
  },
  {
   "cell_type": "markdown",
   "id": "5bd46a3f",
   "metadata": {
    "slideshow": {
     "slide_type": "slide"
    }
   },
   "source": [
    "The <code>dtype</code> statement at the bottom reflects the data type of the values in the <code>Series</code>. For most data types, pandas will display a predictable type (such as <code>bool</code>,<code>float</code>, or  <code>int</code>). For strings an more-complex objects (such as nested data structures), pandas will show <code>dtype:object<code>."
   ]
  },
  {
   "cell_type": "code",
   "execution_count": 12,
   "id": "2077b92a",
   "metadata": {
    "slideshow": {
     "slide_type": "fragment"
    }
   },
   "outputs": [
    {
     "data": {
      "text/plain": [
       "0     True\n",
       "1    False\n",
       "2    False\n",
       "dtype: bool"
      ]
     },
     "execution_count": 12,
     "metadata": {},
     "output_type": "execute_result"
    }
   ],
   "source": [
    "bunch_of_bools = [True, False, False]\n",
    "pd.Series(bunch_of_bools)"
   ]
  },
  {
   "cell_type": "code",
   "execution_count": 14,
   "id": "9a3b4261",
   "metadata": {
    "slideshow": {
     "slide_type": "fragment"
    }
   },
   "outputs": [
    {
     "data": {
      "text/plain": [
       "Open     985.32\n",
       "Close    950.44\n",
       "dtype: float64"
      ]
     },
     "execution_count": 14,
     "metadata": {},
     "output_type": "execute_result"
    }
   ],
   "source": [
    "stock_prices = [985.32, 950.44]\n",
    "time_of_day = [\"Open\", \"Close\"]\n",
    "pd.Series(data = stock_prices, index = time_of_day)"
   ]
  },
  {
   "cell_type": "code",
   "execution_count": 15,
   "id": "79e95cf7",
   "metadata": {
    "slideshow": {
     "slide_type": "fragment"
    }
   },
   "outputs": [
    {
     "data": {
      "text/plain": [
       "0     4\n",
       "1     8\n",
       "2    15\n",
       "3    16\n",
       "4    23\n",
       "5    42\n",
       "dtype: int64"
      ]
     },
     "execution_count": 15,
     "metadata": {},
     "output_type": "execute_result"
    }
   ],
   "source": [
    "lucky_numbers = [4, 8, 15, 16, 23, 42]\n",
    "pd.Series(lucky_numbers)"
   ]
  },
  {
   "cell_type": "markdown",
   "id": "14f7901a",
   "metadata": {
    "slideshow": {
     "slide_type": "slide"
    }
   },
   "source": [
    "The next example passes an integer list to the constructor but asks for a floating-point <code>Series</code>:"
   ]
  },
  {
   "cell_type": "code",
   "execution_count": 16,
   "id": "3634334f",
   "metadata": {
    "slideshow": {
     "slide_type": "fragment"
    }
   },
   "outputs": [
    {
     "data": {
      "text/plain": [
       "0     4.0\n",
       "1     8.0\n",
       "2    15.0\n",
       "3    16.0\n",
       "4    23.0\n",
       "5    42.0\n",
       "dtype: float64"
      ]
     },
     "execution_count": 16,
     "metadata": {},
     "output_type": "execute_result"
    }
   ],
   "source": [
    "lucky_numbers = [4, 8, 15, 16, 23, 42]\n",
    "pd.Series(lucky_numbers, dtype = \"float\")"
   ]
  },
  {
   "cell_type": "markdown",
   "id": "43715935",
   "metadata": {
    "slideshow": {
     "slide_type": "slide"
    }
   },
   "source": [
    "## Creating <code>Series</code> with missing values\n",
    "\n",
    "When pandas sees a missing value during a file import, the library substitutes NumPy’s <code>nan</code> object: <code>nan</code> is a placeholder object that represents nullness or absence."
   ]
  },
  {
   "cell_type": "code",
   "execution_count": 18,
   "id": "53ce15df",
   "metadata": {
    "slideshow": {
     "slide_type": "fragment"
    }
   },
   "outputs": [
    {
     "data": {
      "text/plain": [
       "0    94.0\n",
       "1    88.0\n",
       "2     NaN\n",
       "3    91.0\n",
       "dtype: float64"
      ]
     },
     "execution_count": 18,
     "metadata": {},
     "output_type": "execute_result"
    }
   ],
   "source": [
    "import numpy as np\n",
    "temperatures = [94, 88, np.nan, 91]\n",
    "pd.Series(data = temperatures)"
   ]
  },
  {
   "cell_type": "markdown",
   "id": "89ed32ee",
   "metadata": {
    "slideshow": {
     "slide_type": "fragment"
    }
   },
   "source": [
    "Notice that the Series dtype is float64 . Pandas automatically converts numeric values from integers to floating-points when it spots a <code>nan</code> value"
   ]
  },
  {
   "cell_type": "markdown",
   "id": "00c7cfc0",
   "metadata": {
    "slideshow": {
     "slide_type": "slide"
    }
   },
   "source": [
    "## Creating a Series from Python objects\n",
    "\n",
    "The <code>Series</code> constructor’s <code>data</code> parameter accepts various inputs, including native Python data structures and objects from other libraries.\n",
    "\n",
    "In this section, we’ll explore how the <code>Series</code> constructor deals with dictionaries, tuples, and NumPy arrays.\n",
    "\n",
    "When passed a dictionary, the constructor sets each key as a corresponding index label in the <code>Series</code>:"
   ]
  },
  {
   "cell_type": "code",
   "execution_count": 19,
   "id": "7c6ff7a4",
   "metadata": {
    "slideshow": {
     "slide_type": "fragment"
    }
   },
   "outputs": [
    {
     "data": {
      "text/plain": [
       "Cereal              125\n",
       "Chocolate Bar       406\n",
       "Ice Cream Sundae    342\n",
       "dtype: int64"
      ]
     },
     "execution_count": 19,
     "metadata": {},
     "output_type": "execute_result"
    }
   ],
   "source": [
    "calorie_info = {\"Cereal\": 125,\"Chocolate Bar\": 406,\"Ice Cream Sundae\": 342,}\n",
    "diet = pd.Series(calorie_info)\n",
    "diet"
   ]
  },
  {
   "cell_type": "markdown",
   "id": "0c63987c",
   "metadata": {
    "slideshow": {
     "slide_type": "fragment"
    }
   },
   "source": [
    "When passed a tuple, the constructor populates the Series in an expected manner:"
   ]
  },
  {
   "cell_type": "code",
   "execution_count": 20,
   "id": "3848b4d1",
   "metadata": {
    "slideshow": {
     "slide_type": "fragment"
    }
   },
   "outputs": [
    {
     "data": {
      "text/plain": [
       "0      Red\n",
       "1    Green\n",
       "2     Blue\n",
       "dtype: object"
      ]
     },
     "execution_count": 20,
     "metadata": {},
     "output_type": "execute_result"
    }
   ],
   "source": [
    "pd.Series(data = (\"Red\", \"Green\", \"Blue\"))"
   ]
  },
  {
   "cell_type": "markdown",
   "id": "0a798348",
   "metadata": {
    "slideshow": {
     "slide_type": "slide"
    }
   },
   "source": [
    "The <code>Series</code> constructor’s <code>data</code> parameter also accepts a NumPy <code>ndarray</code> object. The next example feeds the <code>Series</code> constructor an <code>ndarray</code> generated by NumPy’s <code>randint</code> function:"
   ]
  },
  {
   "cell_type": "code",
   "execution_count": 21,
   "id": "734e3c27",
   "metadata": {
    "slideshow": {
     "slide_type": "fragment"
    }
   },
   "outputs": [
    {
     "data": {
      "text/plain": [
       "array([24, 42, 88, 57, 53, 36, 38, 74, 35, 71])"
      ]
     },
     "execution_count": 21,
     "metadata": {},
     "output_type": "execute_result"
    }
   ],
   "source": [
    "random_data = np.random.randint(1, 101, 10)\n",
    "random_data"
   ]
  },
  {
   "cell_type": "code",
   "execution_count": 22,
   "id": "3e54c5f5",
   "metadata": {
    "slideshow": {
     "slide_type": "fragment"
    }
   },
   "outputs": [
    {
     "data": {
      "text/plain": [
       "0    24\n",
       "1    42\n",
       "2    88\n",
       "3    57\n",
       "4    53\n",
       "5    36\n",
       "6    38\n",
       "7    74\n",
       "8    35\n",
       "9    71\n",
       "dtype: int64"
      ]
     },
     "execution_count": 22,
     "metadata": {},
     "output_type": "execute_result"
    }
   ],
   "source": [
    "pd.Series(random_data)"
   ]
  },
  {
   "cell_type": "markdown",
   "id": "aa68c2d3",
   "metadata": {
    "slideshow": {
     "slide_type": "slide"
    }
   },
   "source": [
    "## Series attributes\n",
    "\n",
    "The <code>values</code> attribute exposes object that stores the values:"
   ]
  },
  {
   "cell_type": "code",
   "execution_count": 26,
   "id": "965345f7",
   "metadata": {
    "slideshow": {
     "slide_type": "fragment"
    }
   },
   "outputs": [
    {
     "data": {
      "text/plain": [
       "array([125, 406, 342])"
      ]
     },
     "execution_count": 26,
     "metadata": {},
     "output_type": "execute_result"
    }
   ],
   "source": [
    "diet = pd.Series(calorie_info)\n",
    "diet.values"
   ]
  },
  {
   "cell_type": "markdown",
   "id": "b191e05d",
   "metadata": {
    "slideshow": {
     "slide_type": "fragment"
    }
   },
   "source": [
    "Pandas delegates the responsibility of storing <code>Series</code> values to an object from a different library. That’s why NumPy is a dependency of pandas. The <code>ndarray</code> object optimizes for speed and efficiency by relying on the lower-level C programming language for many of its calculations. \n",
    "\n",
    "In many ways,the <code>Series</code> is a wrapper—an additional layer of functionality around a core NumPy library object."
   ]
  },
  {
   "cell_type": "markdown",
   "id": "12fb8d06",
   "metadata": {
    "slideshow": {
     "slide_type": "slide"
    }
   },
   "source": [
    "The <code>index</code> attribute returns the <code>Index</code> object that stores the <code>Series</code> labels:"
   ]
  },
  {
   "cell_type": "code",
   "execution_count": 27,
   "id": "9d2b5f2e",
   "metadata": {
    "slideshow": {
     "slide_type": "fragment"
    }
   },
   "outputs": [
    {
     "data": {
      "text/plain": [
       "Index(['Cereal', 'Chocolate Bar', 'Ice Cream Sundae'], dtype='object')"
      ]
     },
     "execution_count": 27,
     "metadata": {},
     "output_type": "execute_result"
    }
   ],
   "source": [
    "diet.index"
   ]
  },
  {
   "cell_type": "markdown",
   "id": "04d78409",
   "metadata": {
    "slideshow": {
     "slide_type": "fragment"
    }
   },
   "source": [
    "Some attributes reveal helpful details about the object. <code>dtype</code> , for example, returns the data type of the <code>Series</code>’ values:"
   ]
  },
  {
   "cell_type": "code",
   "execution_count": 28,
   "id": "b40ca8cf",
   "metadata": {
    "slideshow": {
     "slide_type": "fragment"
    }
   },
   "outputs": [
    {
     "data": {
      "text/plain": [
       "dtype('int64')"
      ]
     },
     "execution_count": 28,
     "metadata": {},
     "output_type": "execute_result"
    }
   ],
   "source": [
    "diet.dtype"
   ]
  },
  {
   "cell_type": "markdown",
   "id": "c613dee7",
   "metadata": {
    "slideshow": {
     "slide_type": "fragment"
    }
   },
   "source": [
    "The <code>is_unique</code> attribute returns <code>True</code> if all <code>Series</code> values are unique:"
   ]
  },
  {
   "cell_type": "code",
   "execution_count": 29,
   "id": "12cd22ab",
   "metadata": {},
   "outputs": [
    {
     "data": {
      "text/plain": [
       "True"
      ]
     },
     "execution_count": 29,
     "metadata": {},
     "output_type": "execute_result"
    }
   ],
   "source": [
    "diet.is_unique"
   ]
  },
  {
   "cell_type": "markdown",
   "id": "ebe8059c",
   "metadata": {
    "slideshow": {
     "slide_type": "slide"
    }
   },
   "source": [
    "## Mathematical operations\n",
    "\n",
    "### Statistical operations"
   ]
  },
  {
   "cell_type": "code",
   "execution_count": 30,
   "id": "7908c3dd",
   "metadata": {
    "slideshow": {
     "slide_type": "fragment"
    }
   },
   "outputs": [
    {
     "data": {
      "text/plain": [
       "0    1.0\n",
       "1    2.0\n",
       "2    3.0\n",
       "3    NaN\n",
       "4    4.0\n",
       "5    5.0\n",
       "dtype: float64"
      ]
     },
     "execution_count": 30,
     "metadata": {},
     "output_type": "execute_result"
    }
   ],
   "source": [
    "numbers = pd.Series([1, 2, 3, np.nan, 4, 5])\n",
    "numbers"
   ]
  },
  {
   "cell_type": "markdown",
   "id": "8f3e787b",
   "metadata": {
    "slideshow": {
     "slide_type": "fragment"
    }
   },
   "source": [
    "The <code>count</code> method counts the number of non-null values:"
   ]
  },
  {
   "cell_type": "code",
   "execution_count": 32,
   "id": "16933a0e",
   "metadata": {
    "slideshow": {
     "slide_type": "fragment"
    }
   },
   "outputs": [
    {
     "data": {
      "text/plain": [
       "5"
      ]
     },
     "execution_count": 32,
     "metadata": {},
     "output_type": "execute_result"
    }
   ],
   "source": [
    "numbers.count()"
   ]
  },
  {
   "cell_type": "markdown",
   "id": "b6be6f81",
   "metadata": {
    "slideshow": {
     "slide_type": "fragment"
    }
   },
   "source": [
    "The <code>sum</code> method adds the <code>Series</code>’ values together:"
   ]
  },
  {
   "cell_type": "code",
   "execution_count": 34,
   "id": "e0400d6a",
   "metadata": {
    "slideshow": {
     "slide_type": "fragment"
    }
   },
   "outputs": [
    {
     "data": {
      "text/plain": [
       "15.0"
      ]
     },
     "execution_count": 34,
     "metadata": {},
     "output_type": "execute_result"
    }
   ],
   "source": [
    "numbers.sum()"
   ]
  },
  {
   "cell_type": "markdown",
   "id": "e410ac26",
   "metadata": {
    "slideshow": {
     "slide_type": "slide"
    }
   },
   "source": [
    "Most mathematical methods ignore missing values by default. We can pass an argument of <code>False</code> to the <code>skipna</code> parameter to force the inclusion of missing values."
   ]
  },
  {
   "cell_type": "code",
   "execution_count": 35,
   "id": "ea73c77e",
   "metadata": {
    "slideshow": {
     "slide_type": "fragment"
    }
   },
   "outputs": [
    {
     "data": {
      "text/plain": [
       "nan"
      ]
     },
     "execution_count": 35,
     "metadata": {},
     "output_type": "execute_result"
    }
   ],
   "source": [
    "numbers.sum(skipna = False)"
   ]
  },
  {
   "cell_type": "markdown",
   "id": "6765d34b",
   "metadata": {
    "slideshow": {
     "slide_type": "fragment"
    }
   },
   "source": [
    "The <code>product</code> method multiplies all <code>Series</code> values together:"
   ]
  },
  {
   "cell_type": "code",
   "execution_count": null,
   "id": "dc37ce04",
   "metadata": {
    "slideshow": {
     "slide_type": "fragment"
    }
   },
   "outputs": [],
   "source": [
    "numbers.product()"
   ]
  },
  {
   "cell_type": "markdown",
   "id": "a3bceb8c",
   "metadata": {
    "slideshow": {
     "slide_type": "slide"
    }
   },
   "source": [
    "The <code>cumsum</code> (cumulative sum) method returns a new <code>Series</code> with a rolling sum of values. Each index position holds the sum of values up to and including the value at that index. A cumulative sum helps determine which values contribute most to the total:"
   ]
  },
  {
   "cell_type": "code",
   "execution_count": 37,
   "id": "4f06f14f",
   "metadata": {
    "slideshow": {
     "slide_type": "fragment"
    }
   },
   "outputs": [
    {
     "data": {
      "text/plain": [
       "0    1.0\n",
       "1    2.0\n",
       "2    3.0\n",
       "3    NaN\n",
       "4    4.0\n",
       "5    5.0\n",
       "dtype: float64"
      ]
     },
     "execution_count": 37,
     "metadata": {},
     "output_type": "execute_result"
    }
   ],
   "source": [
    "numbers"
   ]
  },
  {
   "cell_type": "code",
   "execution_count": 36,
   "id": "84d85519",
   "metadata": {
    "slideshow": {
     "slide_type": "fragment"
    }
   },
   "outputs": [
    {
     "data": {
      "text/plain": [
       "0     1.0\n",
       "1     3.0\n",
       "2     6.0\n",
       "3     NaN\n",
       "4    10.0\n",
       "5    15.0\n",
       "dtype: float64"
      ]
     },
     "execution_count": 36,
     "metadata": {},
     "output_type": "execute_result"
    }
   ],
   "source": [
    "numbers.cumsum()"
   ]
  },
  {
   "cell_type": "markdown",
   "id": "74e14aae",
   "metadata": {
    "slideshow": {
     "slide_type": "slide"
    }
   },
   "source": [
    "The mean method returns the average of the values in the Series ."
   ]
  },
  {
   "cell_type": "code",
   "execution_count": 38,
   "id": "8f031bad",
   "metadata": {
    "slideshow": {
     "slide_type": "fragment"
    }
   },
   "outputs": [
    {
     "data": {
      "text/plain": [
       "3.0"
      ]
     },
     "execution_count": 38,
     "metadata": {},
     "output_type": "execute_result"
    }
   ],
   "source": [
    "numbers.mean()"
   ]
  },
  {
   "cell_type": "markdown",
   "id": "d3edee87",
   "metadata": {
    "slideshow": {
     "slide_type": "fragment"
    }
   },
   "source": [
    "The median method returns the middle number in a sorted Series of values"
   ]
  },
  {
   "cell_type": "code",
   "execution_count": 39,
   "id": "326ab8f7",
   "metadata": {
    "slideshow": {
     "slide_type": "fragment"
    }
   },
   "outputs": [
    {
     "data": {
      "text/plain": [
       "3.0"
      ]
     },
     "execution_count": 39,
     "metadata": {},
     "output_type": "execute_result"
    }
   ],
   "source": [
    "numbers.median()"
   ]
  },
  {
   "cell_type": "markdown",
   "id": "2491d848",
   "metadata": {
    "slideshow": {
     "slide_type": "fragment"
    }
   },
   "source": [
    "The std method returns the standard deviation, a measure of the variation in the data"
   ]
  },
  {
   "cell_type": "code",
   "execution_count": 40,
   "id": "54bf5c88",
   "metadata": {},
   "outputs": [
    {
     "data": {
      "text/plain": [
       "1.5811388300841898"
      ]
     },
     "execution_count": 40,
     "metadata": {},
     "output_type": "execute_result"
    }
   ],
   "source": [
    "numbers.std()"
   ]
  },
  {
   "cell_type": "markdown",
   "id": "b9936250",
   "metadata": {},
   "source": [
    "The max and min methods retrieve the largest and smallest value from the Series :"
   ]
  },
  {
   "cell_type": "code",
   "execution_count": null,
   "id": "d0e01ddc",
   "metadata": {},
   "outputs": [],
   "source": [
    "numbers.max(),numbers.min()"
   ]
  },
  {
   "cell_type": "markdown",
   "id": "84b678b0",
   "metadata": {},
   "source": [
    "describe returns a Series of statistical evaluations, including count, mean, and standard deviation:"
   ]
  },
  {
   "cell_type": "code",
   "execution_count": 41,
   "id": "764f448b",
   "metadata": {},
   "outputs": [
    {
     "data": {
      "text/plain": [
       "count    5.000000\n",
       "mean     3.000000\n",
       "std      1.581139\n",
       "min      1.000000\n",
       "25%      2.000000\n",
       "50%      3.000000\n",
       "75%      4.000000\n",
       "max      5.000000\n",
       "dtype: float64"
      ]
     },
     "execution_count": 41,
     "metadata": {},
     "output_type": "execute_result"
    }
   ],
   "source": [
    "numbers.describe()"
   ]
  },
  {
   "cell_type": "markdown",
   "id": "c1631384",
   "metadata": {},
   "source": [
    "The sample method selects a random assortment of values from the Series ."
   ]
  },
  {
   "cell_type": "code",
   "execution_count": 42,
   "id": "03482da6",
   "metadata": {},
   "outputs": [
    {
     "data": {
      "text/plain": [
       "2    3.0\n",
       "1    2.0\n",
       "5    5.0\n",
       "dtype: float64"
      ]
     },
     "execution_count": 42,
     "metadata": {},
     "output_type": "execute_result"
    }
   ],
   "source": [
    "numbers.sample(3)"
   ]
  },
  {
   "cell_type": "markdown",
   "id": "fb3bc0b7",
   "metadata": {
    "slideshow": {
     "slide_type": "slide"
    }
   },
   "source": [
    "### Arithmetic operations\n",
    "Pandas gives us additional ways to perform arithmetic calculations with a Series ."
   ]
  },
  {
   "cell_type": "code",
   "execution_count": 43,
   "id": "fe62deee",
   "metadata": {
    "slideshow": {
     "slide_type": "fragment"
    }
   },
   "outputs": [
    {
     "data": {
      "text/plain": [
       "A     5.0\n",
       "B     NaN\n",
       "C    15.0\n",
       "dtype: float64"
      ]
     },
     "execution_count": 43,
     "metadata": {},
     "output_type": "execute_result"
    }
   ],
   "source": [
    "s1 = pd.Series(data = [5, np.nan, 15], index = [\"A\", \"B\", \"C\"])\n",
    "s1"
   ]
  },
  {
   "cell_type": "markdown",
   "id": "38176ef6",
   "metadata": {
    "slideshow": {
     "slide_type": "fragment"
    }
   },
   "source": [
    "We can perform arithmetic on a Series with Python’s standard mathematical operators:\n",
    "* <code>+</code> for addition\n",
    "* <code>-</code> for subtraction\n",
    "* <code>/</code> for multiplication\n",
    "* <code>*</code> for division"
   ]
  },
  {
   "cell_type": "markdown",
   "id": "d4cd295e",
   "metadata": {
    "slideshow": {
     "slide_type": "fragment"
    }
   },
   "source": [
    "The next example adds 3 to each value in the s1 Series :"
   ]
  },
  {
   "cell_type": "code",
   "execution_count": 44,
   "id": "892eb671",
   "metadata": {},
   "outputs": [
    {
     "data": {
      "text/plain": [
       "A     8.0\n",
       "B     NaN\n",
       "C    18.0\n",
       "dtype: float64"
      ]
     },
     "execution_count": 44,
     "metadata": {},
     "output_type": "execute_result"
    }
   ],
   "source": [
    "s1 + 3"
   ]
  },
  {
   "cell_type": "markdown",
   "id": "4ab6c48d",
   "metadata": {},
   "source": [
    "If you prefer a method-based approach, the add method achieves the same result:"
   ]
  },
  {
   "cell_type": "code",
   "execution_count": 45,
   "id": "e679f690",
   "metadata": {},
   "outputs": [
    {
     "data": {
      "text/plain": [
       "A     8.0\n",
       "B     NaN\n",
       "C    18.0\n",
       "dtype: float64"
      ]
     },
     "execution_count": 45,
     "metadata": {},
     "output_type": "execute_result"
    }
   ],
   "source": [
    "s1.add(3)"
   ]
  },
  {
   "cell_type": "markdown",
   "id": "f2856ae8",
   "metadata": {},
   "source": [
    "The next three examples show the complementary syntax options for subtraction ( <code>-</code> ), multiplication ( <code>*</code>), and division ( <code>/</code> ). Often, there are multiple ways to accomplish the same operation in pandas:"
   ]
  },
  {
   "cell_type": "code",
   "execution_count": 46,
   "id": "7c84e563",
   "metadata": {},
   "outputs": [
    {
     "data": {
      "text/plain": [
       "A     0.0\n",
       "B     NaN\n",
       "C    10.0\n",
       "dtype: float64"
      ]
     },
     "execution_count": 46,
     "metadata": {},
     "output_type": "execute_result"
    }
   ],
   "source": [
    "s1 - 5\n",
    "s1.sub(5)"
   ]
  },
  {
   "cell_type": "code",
   "execution_count": 47,
   "id": "894a205a",
   "metadata": {},
   "outputs": [
    {
     "data": {
      "text/plain": [
       "A    10.0\n",
       "B     NaN\n",
       "C    30.0\n",
       "dtype: float64"
      ]
     },
     "execution_count": 47,
     "metadata": {},
     "output_type": "execute_result"
    }
   ],
   "source": [
    "s1 * 2\n",
    "s1.mul(2)"
   ]
  },
  {
   "cell_type": "code",
   "execution_count": 48,
   "id": "0d914445",
   "metadata": {},
   "outputs": [
    {
     "data": {
      "text/plain": [
       "A    2.5\n",
       "B    NaN\n",
       "C    7.5\n",
       "dtype: float64"
      ]
     },
     "execution_count": 48,
     "metadata": {},
     "output_type": "execute_result"
    }
   ],
   "source": [
    "s1 / 2\n",
    "s1.div(2)"
   ]
  },
  {
   "cell_type": "markdown",
   "id": "960195b8",
   "metadata": {},
   "source": [
    "### Broadcasting\n",
    "\n",
    "Recall that pandas stores its Series values in a NumPy ndarray under the hood.\n",
    "\n",
    "The NumPy documentation uses the term broadcasting to describe the derivation of one array of values from another.\n",
    "\n",
    "Broadcasting also describes mathematical operations between multiple Series objects.\n",
    "\n",
    "**As a rule of thumb, pandas uses shared index labels to align values across different data structures.**\n",
    "\n",
    "Let’s instantiate two Series with the same three-element index:"
   ]
  },
  {
   "cell_type": "code",
   "execution_count": 50,
   "id": "1975d2d2",
   "metadata": {},
   "outputs": [
    {
     "data": {
      "text/plain": [
       "A    5\n",
       "B    7\n",
       "C    9\n",
       "dtype: int64"
      ]
     },
     "execution_count": 50,
     "metadata": {},
     "output_type": "execute_result"
    }
   ],
   "source": [
    "s1 = pd.Series([1, 2, 3], index = [\"A\", \"B\", \"C\"])\n",
    "s2 = pd.Series([4, 5, 6], index = [\"A\", \"B\", \"C\"])\n",
    "s1 + s2"
   ]
  },
  {
   "attachments": {
    "series_no_match.png": {
     "image/png": "[encoded data removed]"
    }
   },
   "cell_type": "markdown",
   "id": "ed495bc4",
   "metadata": {
    "slideshow": {
     "slide_type": "fragment"
    }
   },
   "source": [
    "Comparison operations between Series become trickier when the indices differ. One index may have a greater or smaller number of labels, or there may be a mismatch between the labels themselves.\n",
    "\n",
    "The next example creates two Series that share only two index labels, B and C:\n",
    "![series_no_match.png](attachment:series_no_match.png)"
   ]
  },
  {
   "cell_type": "code",
   "execution_count": 54,
   "id": "c4be8714",
   "metadata": {},
   "outputs": [
    {
     "data": {
      "text/plain": [
       "A     NaN\n",
       "B    14.0\n",
       "C    23.0\n",
       "D     NaN\n",
       "E     NaN\n",
       "dtype: float64"
      ]
     },
     "execution_count": 54,
     "metadata": {},
     "output_type": "execute_result"
    }
   ],
   "source": [
    "s1 = pd.Series(\n",
    "data = [5, 10, 15], index = [\"A\", \"B\", \"C\"]\n",
    ")\n",
    "s2 = pd.Series(\n",
    "data = [4, 8, 12, 14], index = [\"B\", \"C\", \"D\", \"E\"]\n",
    ")\n",
    "\n",
    "s1 + s2"
   ]
  },
  {
   "cell_type": "code",
   "execution_count": 55,
   "id": "70ad4f6e",
   "metadata": {},
   "outputs": [
    {
     "data": {
      "text/plain": [
       "0    12.0\n",
       "1    14.0\n",
       "2    16.0\n",
       "3     NaN\n",
       "dtype: float64"
      ]
     },
     "execution_count": 55,
     "metadata": {},
     "output_type": "execute_result"
    }
   ],
   "source": [
    "pd.Series([2,4,6]) + pd.Series([10,10,10,10])"
   ]
  },
  {
   "cell_type": "code",
   "execution_count": null,
   "id": "66463289",
   "metadata": {},
   "outputs": [],
   "source": []
  }
 ],
 "metadata": {
  "celltoolbar": "Slideshow",
  "kernelspec": {
   "display_name": "Python 3 (ipykernel)",
   "language": "python",
   "name": "python3"
  },
  "language_info": {
   "codemirror_mode": {
    "name": "ipython",
    "version": 3
   },
   "file_extension": ".py",
   "mimetype": "text/x-python",
   "name": "python",
   "nbconvert_exporter": "python",
   "pygments_lexer": "ipython3",
   "version": "3.7.11"
  }
 },
 "nbformat": 4,
 "nbformat_minor": 5
}
