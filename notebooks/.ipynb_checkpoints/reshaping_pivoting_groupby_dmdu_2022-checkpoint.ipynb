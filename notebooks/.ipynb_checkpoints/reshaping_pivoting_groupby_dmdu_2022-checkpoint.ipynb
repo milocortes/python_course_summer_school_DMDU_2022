{
 "cells": [
  {
   "cell_type": "markdown",
   "id": "c61cf6e7",
   "metadata": {
    "slideshow": {
     "slide_type": "slide"
    }
   },
   "source": [
    "# Reshaping, pivoting and GroupBy"
   ]
  },
  {
   "cell_type": "markdown",
   "id": "f5becf8a",
   "metadata": {
    "slideshow": {
     "slide_type": "slide"
    }
   },
   "source": [
    "*Reshaping* a data set means manipulating it into a different shape.\n",
    "\n",
    "Reshaping offers a new view or perspective on the data.\n",
    "\n",
    "Hadley Wickham estimates that 80% of data analysis consists of cleaning up data and contorting it into the proper shape. \n",
    "\n",
    "https://vita.had.co.nz/papers/tidy-data.pdf"
   ]
  },
  {
   "cell_type": "markdown",
   "id": "1aba7e1c",
   "metadata": {
    "slideshow": {
     "slide_type": "slide"
    }
   },
   "source": [
    "## Wide vs. narrow (long) data\n",
    "\n",
    "A *narrow* data set is also called a *long* or a tall data set.\n",
    "\n",
    "These names reflect the direction in which the data set expands as we add more values to it. \n",
    "\n",
    "A *wide* data set increases in width; it grows out.\n",
    "\n",
    "A narrow/long/tall data set increases in height; it grows down."
   ]
  },
  {
   "cell_type": "markdown",
   "id": "9855c814",
   "metadata": {
    "slideshow": {
     "slide_type": "slide"
    }
   },
   "source": [
    "Take a peek at the following table, which measures temperatures in two cities over two days:"
   ]
  },
  {
   "cell_type": "code",
   "execution_count": 6,
   "id": "0bbd24e4",
   "metadata": {
    "slideshow": {
     "slide_type": "fragment"
    }
   },
   "outputs": [
    {
     "data": {
      "text/html": [
       "<div>\n",
       "<style scoped>\n",
       "    .dataframe tbody tr th:only-of-type {\n",
       "        vertical-align: middle;\n",
       "    }\n",
       "\n",
       "    .dataframe tbody tr th {\n",
       "        vertical-align: top;\n",
       "    }\n",
       "\n",
       "    .dataframe thead th {\n",
       "        text-align: right;\n",
       "    }\n",
       "</style>\n",
       "<table border=\"1\" class=\"dataframe\">\n",
       "  <thead>\n",
       "    <tr style=\"text-align: right;\">\n",
       "      <th></th>\n",
       "      <th>Weekday</th>\n",
       "      <th>Miami</th>\n",
       "      <th>New York</th>\n",
       "    </tr>\n",
       "  </thead>\n",
       "  <tbody>\n",
       "    <tr>\n",
       "      <th>0</th>\n",
       "      <td>Monday</td>\n",
       "      <td>100</td>\n",
       "      <td>65</td>\n",
       "    </tr>\n",
       "    <tr>\n",
       "      <th>1</th>\n",
       "      <td>Tuesday</td>\n",
       "      <td>105</td>\n",
       "      <td>70</td>\n",
       "    </tr>\n",
       "  </tbody>\n",
       "</table>\n",
       "</div>"
      ],
      "text/plain": [
       "   Weekday  Miami  New York\n",
       "0   Monday    100        65\n",
       "1  Tuesday    105        70"
      ]
     },
     "execution_count": 6,
     "metadata": {},
     "output_type": "execute_result"
    }
   ],
   "source": [
    "import pandas as pd \n",
    "\n",
    "cities_temp_wide = pd.DataFrame({\"Weekday\": [\"Monday\",\"Tuesday\"],\"Miami\":[100,105],\"New York\":[65,70]})\n",
    "cities_temp_wide"
   ]
  },
  {
   "cell_type": "markdown",
   "id": "41ffcc94",
   "metadata": {
    "slideshow": {
     "slide_type": "fragment"
    }
   },
   "source": [
    "This data set stores the same variable—temperature—across two columns instead of one.\n",
    "\n",
    "We can categorize this table as being a wide data set. \n",
    "\n",
    "A wide data set expands horizontally."
   ]
  },
  {
   "cell_type": "markdown",
   "id": "55642e6d",
   "metadata": {
    "slideshow": {
     "slide_type": "slide"
    }
   },
   "source": [
    "Suppose that we introduced temperature measurements for two more cities.\n",
    "\n",
    "The data grows wider, not taller:"
   ]
  },
  {
   "cell_type": "code",
   "execution_count": 7,
   "id": "786df38e",
   "metadata": {
    "slideshow": {
     "slide_type": "fragment"
    }
   },
   "outputs": [
    {
     "data": {
      "text/html": [
       "<div>\n",
       "<style scoped>\n",
       "    .dataframe tbody tr th:only-of-type {\n",
       "        vertical-align: middle;\n",
       "    }\n",
       "\n",
       "    .dataframe tbody tr th {\n",
       "        vertical-align: top;\n",
       "    }\n",
       "\n",
       "    .dataframe thead th {\n",
       "        text-align: right;\n",
       "    }\n",
       "</style>\n",
       "<table border=\"1\" class=\"dataframe\">\n",
       "  <thead>\n",
       "    <tr style=\"text-align: right;\">\n",
       "      <th></th>\n",
       "      <th>Weekday</th>\n",
       "      <th>Miami</th>\n",
       "      <th>New York</th>\n",
       "      <th>Chicago</th>\n",
       "      <th>San Francisco</th>\n",
       "    </tr>\n",
       "  </thead>\n",
       "  <tbody>\n",
       "    <tr>\n",
       "      <th>0</th>\n",
       "      <td>Monday</td>\n",
       "      <td>100</td>\n",
       "      <td>65</td>\n",
       "      <td>50</td>\n",
       "      <td>60</td>\n",
       "    </tr>\n",
       "    <tr>\n",
       "      <th>1</th>\n",
       "      <td>Tuesday</td>\n",
       "      <td>105</td>\n",
       "      <td>70</td>\n",
       "      <td>58</td>\n",
       "      <td>62</td>\n",
       "    </tr>\n",
       "  </tbody>\n",
       "</table>\n",
       "</div>"
      ],
      "text/plain": [
       "   Weekday  Miami  New York  Chicago  San Francisco\n",
       "0   Monday    100        65       50             60\n",
       "1  Tuesday    105        70       58             62"
      ]
     },
     "execution_count": 7,
     "metadata": {},
     "output_type": "execute_result"
    }
   ],
   "source": [
    "cities_temp_wide[\"Chicago\"] = [50, 58]\n",
    "cities_temp_wide[\"San Francisco\"] = [60, 62]\n",
    "cities_temp_wide"
   ]
  },
  {
   "cell_type": "markdown",
   "id": "8f7faf68",
   "metadata": {
    "slideshow": {
     "slide_type": "slide"
    }
   },
   "source": [
    "A narrow data set grows vertically. A narrow format makes it easier to manipulate existing data and to add new records. Each variable is isolated to a single column."
   ]
  },
  {
   "cell_type": "code",
   "execution_count": 10,
   "id": "f4aa58ae",
   "metadata": {},
   "outputs": [
    {
     "data": {
      "text/html": [
       "<div>\n",
       "<style scoped>\n",
       "    .dataframe tbody tr th:only-of-type {\n",
       "        vertical-align: middle;\n",
       "    }\n",
       "\n",
       "    .dataframe tbody tr th {\n",
       "        vertical-align: top;\n",
       "    }\n",
       "\n",
       "    .dataframe thead th {\n",
       "        text-align: right;\n",
       "    }\n",
       "</style>\n",
       "<table border=\"1\" class=\"dataframe\">\n",
       "  <thead>\n",
       "    <tr style=\"text-align: right;\">\n",
       "      <th></th>\n",
       "      <th>Weekday</th>\n",
       "      <th>City</th>\n",
       "      <th>Temperature</th>\n",
       "    </tr>\n",
       "  </thead>\n",
       "  <tbody>\n",
       "    <tr>\n",
       "      <th>0</th>\n",
       "      <td>Monday</td>\n",
       "      <td>Miami</td>\n",
       "      <td>100</td>\n",
       "    </tr>\n",
       "    <tr>\n",
       "      <th>1</th>\n",
       "      <td>Monday</td>\n",
       "      <td>New York</td>\n",
       "      <td>65</td>\n",
       "    </tr>\n",
       "    <tr>\n",
       "      <th>2</th>\n",
       "      <td>Tuesday</td>\n",
       "      <td>Miami</td>\n",
       "      <td>105</td>\n",
       "    </tr>\n",
       "    <tr>\n",
       "      <th>3</th>\n",
       "      <td>Tuesday</td>\n",
       "      <td>New York</td>\n",
       "      <td>70</td>\n",
       "    </tr>\n",
       "  </tbody>\n",
       "</table>\n",
       "</div>"
      ],
      "text/plain": [
       "   Weekday      City  Temperature\n",
       "0   Monday     Miami          100\n",
       "1   Monday  New York           65\n",
       "2  Tuesday     Miami          105\n",
       "3  Tuesday  New York           70"
      ]
     },
     "execution_count": 10,
     "metadata": {},
     "output_type": "execute_result"
    }
   ],
   "source": [
    "cities_temp_long = pd.DataFrame([(\"Monday\",\"Miami\",100),\n",
    "                                 (\"Monday\",\"New York\",65),\n",
    "                                 (\"Tuesday\",\"Miami\",105),\n",
    "                                 (\"Tuesday\",\"New York\",70)], columns=[\"Weekday\",\"City\",\"Temperature\"])\n",
    "cities_temp_long"
   ]
  },
  {
   "cell_type": "markdown",
   "id": "0c100d0c",
   "metadata": {},
   "source": [
    "To include temperatures for two more cities, we would add rows instead of columns.\n",
    "\n",
    "The data grows taller, not wider:"
   ]
  },
  {
   "cell_type": "code",
   "execution_count": 14,
   "id": "494a2a22",
   "metadata": {},
   "outputs": [
    {
     "data": {
      "text/html": [
       "<div>\n",
       "<style scoped>\n",
       "    .dataframe tbody tr th:only-of-type {\n",
       "        vertical-align: middle;\n",
       "    }\n",
       "\n",
       "    .dataframe tbody tr th {\n",
       "        vertical-align: top;\n",
       "    }\n",
       "\n",
       "    .dataframe thead th {\n",
       "        text-align: right;\n",
       "    }\n",
       "</style>\n",
       "<table border=\"1\" class=\"dataframe\">\n",
       "  <thead>\n",
       "    <tr style=\"text-align: right;\">\n",
       "      <th></th>\n",
       "      <th>Weekday</th>\n",
       "      <th>City</th>\n",
       "      <th>Temperature</th>\n",
       "    </tr>\n",
       "  </thead>\n",
       "  <tbody>\n",
       "    <tr>\n",
       "      <th>0</th>\n",
       "      <td>Monday</td>\n",
       "      <td>Miami</td>\n",
       "      <td>100</td>\n",
       "    </tr>\n",
       "    <tr>\n",
       "      <th>1</th>\n",
       "      <td>Monday</td>\n",
       "      <td>New York</td>\n",
       "      <td>65</td>\n",
       "    </tr>\n",
       "    <tr>\n",
       "      <th>2</th>\n",
       "      <td>Monday</td>\n",
       "      <td>Chicago</td>\n",
       "      <td>50</td>\n",
       "    </tr>\n",
       "    <tr>\n",
       "      <th>3</th>\n",
       "      <td>Monday</td>\n",
       "      <td>San Francisco</td>\n",
       "      <td>60</td>\n",
       "    </tr>\n",
       "    <tr>\n",
       "      <th>4</th>\n",
       "      <td>Tuesday</td>\n",
       "      <td>Miami</td>\n",
       "      <td>105</td>\n",
       "    </tr>\n",
       "    <tr>\n",
       "      <th>5</th>\n",
       "      <td>Tuesday</td>\n",
       "      <td>New York</td>\n",
       "      <td>70</td>\n",
       "    </tr>\n",
       "    <tr>\n",
       "      <th>6</th>\n",
       "      <td>Tuesday</td>\n",
       "      <td>Chicago</td>\n",
       "      <td>58</td>\n",
       "    </tr>\n",
       "    <tr>\n",
       "      <th>7</th>\n",
       "      <td>Tuesday</td>\n",
       "      <td>San Francisco</td>\n",
       "      <td>68</td>\n",
       "    </tr>\n",
       "  </tbody>\n",
       "</table>\n",
       "</div>"
      ],
      "text/plain": [
       "   Weekday           City  Temperature\n",
       "0   Monday          Miami          100\n",
       "1   Monday       New York           65\n",
       "2   Monday        Chicago           50\n",
       "3   Monday  San Francisco           60\n",
       "4  Tuesday          Miami          105\n",
       "5  Tuesday       New York           70\n",
       "6  Tuesday        Chicago           58\n",
       "7  Tuesday  San Francisco           68"
      ]
     },
     "execution_count": 14,
     "metadata": {},
     "output_type": "execute_result"
    }
   ],
   "source": [
    "cities_temp_long = pd.DataFrame([(\"Monday\",\"Miami\",100),\n",
    "                                 (\"Monday\",\"New York\",65),\n",
    "                                 (\"Monday\",\"Chicago\",50),\n",
    "                                 (\"Monday\",\"San Francisco\",60),\n",
    "                                 (\"Tuesday\",\"Miami\",105),\n",
    "                                 (\"Tuesday\",\"New York\",70),\n",
    "                                 (\"Tuesday\",\"Chicago\",58),\n",
    "                                 (\"Tuesday\",\"San Francisco\",68)], columns=[\"Weekday\",\"City\",\"Temperature\"])\n",
    "cities_temp_long\n",
    "# But it is easier to calculate the average temperature because we have isolated the temperature values to a single column."
   ]
  },
  {
   "cell_type": "markdown",
   "id": "69d1f724",
   "metadata": {},
   "source": [
    "The optimal storage format for a data set depends on the insight we’re trying to glean from it. \n",
    "\n",
    "Pandas offers tools to transform <code>DataFrame</code>s from narrow formats to wide formats and vice versa."
   ]
  },
  {
   "cell_type": "markdown",
   "id": "666c5f2a",
   "metadata": {},
   "source": [
    "## Creating a pivot table from a DataFrame"
   ]
  },
  {
   "cell_type": "code",
   "execution_count": 20,
   "id": "583c9a47",
   "metadata": {},
   "outputs": [
    {
     "data": {
      "text/html": [
       "<div>\n",
       "<style scoped>\n",
       "    .dataframe tbody tr th:only-of-type {\n",
       "        vertical-align: middle;\n",
       "    }\n",
       "\n",
       "    .dataframe tbody tr th {\n",
       "        vertical-align: top;\n",
       "    }\n",
       "\n",
       "    .dataframe thead th {\n",
       "        text-align: right;\n",
       "    }\n",
       "</style>\n",
       "<table border=\"1\" class=\"dataframe\">\n",
       "  <thead>\n",
       "    <tr style=\"text-align: right;\">\n",
       "      <th></th>\n",
       "      <th>Date</th>\n",
       "      <th>Name</th>\n",
       "      <th>Customer</th>\n",
       "      <th>Revenue</th>\n",
       "      <th>Expenses</th>\n",
       "    </tr>\n",
       "  </thead>\n",
       "  <tbody>\n",
       "    <tr>\n",
       "      <th>0</th>\n",
       "      <td>2020-01-01</td>\n",
       "      <td>Oscar</td>\n",
       "      <td>Logistics XYZ</td>\n",
       "      <td>5250</td>\n",
       "      <td>531</td>\n",
       "    </tr>\n",
       "    <tr>\n",
       "      <th>1</th>\n",
       "      <td>2020-01-01</td>\n",
       "      <td>Oscar</td>\n",
       "      <td>Money Corp.</td>\n",
       "      <td>4406</td>\n",
       "      <td>661</td>\n",
       "    </tr>\n",
       "    <tr>\n",
       "      <th>2</th>\n",
       "      <td>2020-01-02</td>\n",
       "      <td>Oscar</td>\n",
       "      <td>PaperMaven</td>\n",
       "      <td>8661</td>\n",
       "      <td>1401</td>\n",
       "    </tr>\n",
       "    <tr>\n",
       "      <th>3</th>\n",
       "      <td>2020-01-03</td>\n",
       "      <td>Oscar</td>\n",
       "      <td>PaperGenius</td>\n",
       "      <td>7075</td>\n",
       "      <td>906</td>\n",
       "    </tr>\n",
       "    <tr>\n",
       "      <th>4</th>\n",
       "      <td>2020-01-04</td>\n",
       "      <td>Oscar</td>\n",
       "      <td>Paper Pound</td>\n",
       "      <td>2524</td>\n",
       "      <td>1767</td>\n",
       "    </tr>\n",
       "  </tbody>\n",
       "</table>\n",
       "</div>"
      ],
      "text/plain": [
       "        Date   Name       Customer  Revenue  Expenses\n",
       "0 2020-01-01  Oscar  Logistics XYZ     5250       531\n",
       "1 2020-01-01  Oscar    Money Corp.     4406       661\n",
       "2 2020-01-02  Oscar     PaperMaven     8661      1401\n",
       "3 2020-01-03  Oscar    PaperGenius     7075       906\n",
       "4 2020-01-04  Oscar    Paper Pound     2524      1767"
      ]
     },
     "execution_count": 20,
     "metadata": {},
     "output_type": "execute_result"
    }
   ],
   "source": [
    "sales = pd.read_csv(\"../data/sales_by_employee.csv\", parse_dates = [\"Date\"])\n",
    "sales.head(5)"
   ]
  },
  {
   "cell_type": "markdown",
   "id": "74912fa0",
   "metadata": {
    "slideshow": {
     "slide_type": "slide"
    }
   },
   "source": [
    "### The <code>pivot_table</code> method\n",
    "\n",
    "A *pivot table* aggregates a column’s values and groups the results by using other columns’ values.\n",
    "\n",
    "The word *aggregate* describes a summary computation that involves multiple values.\n",
    "\n",
    "Example aggregations include average, sum, median, and count.\n",
    "\n",
    "Multiple salesmen closed deals on the same date. \n",
    "\n",
    "In addition, the same salesmen closed multiple deals on the same date. \n",
    "\n",
    "What if we want to sum the revenue by date and see how much each salesman contributed to the daily totals?"
   ]
  },
  {
   "cell_type": "markdown",
   "id": "5b3ece0e",
   "metadata": {
    "slideshow": {
     "slide_type": "slide"
    }
   },
   "source": [
    "We follow four steps to create a pivot table:\n",
    "\n",
    "* Select the column(s) whose values we want to aggregate.\n",
    "* Choose the aggregation operation to apply to the column(s).\n",
    "* Select the column(s) whose values will group the aggregated data into categories.\n",
    "* Determine whether to place the groups on the row axis, the column axis, or both axes."
   ]
  },
  {
   "cell_type": "markdown",
   "id": "a395eeba",
   "metadata": {},
   "source": [
    "First, we’ll need to invoke the <code>pivot_table</code> method on our existing <code>sales DataFrame</code> .\n",
    "\n",
    "The method’s <code>index</code> parameter accepts the column whose values will make up the pivot table’s index labels."
   ]
  },
  {
   "cell_type": "code",
   "execution_count": 22,
   "id": "d881a09e",
   "metadata": {},
   "outputs": [
    {
     "data": {
      "text/html": [
       "<div>\n",
       "<style scoped>\n",
       "    .dataframe tbody tr th:only-of-type {\n",
       "        vertical-align: middle;\n",
       "    }\n",
       "\n",
       "    .dataframe tbody tr th {\n",
       "        vertical-align: top;\n",
       "    }\n",
       "\n",
       "    .dataframe thead th {\n",
       "        text-align: right;\n",
       "    }\n",
       "</style>\n",
       "<table border=\"1\" class=\"dataframe\">\n",
       "  <thead>\n",
       "    <tr style=\"text-align: right;\">\n",
       "      <th></th>\n",
       "      <th>Expenses</th>\n",
       "      <th>Revenue</th>\n",
       "    </tr>\n",
       "    <tr>\n",
       "      <th>Date</th>\n",
       "      <th></th>\n",
       "      <th></th>\n",
       "    </tr>\n",
       "  </thead>\n",
       "  <tbody>\n",
       "    <tr>\n",
       "      <th>2020-01-01</th>\n",
       "      <td>637.500000</td>\n",
       "      <td>4293.500000</td>\n",
       "    </tr>\n",
       "    <tr>\n",
       "      <th>2020-01-02</th>\n",
       "      <td>1244.400000</td>\n",
       "      <td>7303.000000</td>\n",
       "    </tr>\n",
       "    <tr>\n",
       "      <th>2020-01-03</th>\n",
       "      <td>1313.666667</td>\n",
       "      <td>4865.833333</td>\n",
       "    </tr>\n",
       "    <tr>\n",
       "      <th>2020-01-04</th>\n",
       "      <td>1450.600000</td>\n",
       "      <td>3948.000000</td>\n",
       "    </tr>\n",
       "    <tr>\n",
       "      <th>2020-01-05</th>\n",
       "      <td>1196.250000</td>\n",
       "      <td>4834.750000</td>\n",
       "    </tr>\n",
       "  </tbody>\n",
       "</table>\n",
       "</div>"
      ],
      "text/plain": [
       "               Expenses      Revenue\n",
       "Date                                \n",
       "2020-01-01   637.500000  4293.500000\n",
       "2020-01-02  1244.400000  7303.000000\n",
       "2020-01-03  1313.666667  4865.833333\n",
       "2020-01-04  1450.600000  3948.000000\n",
       "2020-01-05  1196.250000  4834.750000"
      ]
     },
     "execution_count": 22,
     "metadata": {},
     "output_type": "execute_result"
    }
   ],
   "source": [
    "# Date column’s values for the index labels of the pivot table\n",
    "sales.pivot_table(index = \"Date\")"
   ]
  },
  {
   "cell_type": "markdown",
   "id": "d1f852d8",
   "metadata": {},
   "source": [
    "Pandas applies its default aggregation operation, an average, to all numeric columns in <code>sales</code> (Expenses and Revenue)"
   ]
  },
  {
   "cell_type": "markdown",
   "id": "36d5c480",
   "metadata": {},
   "source": [
    "let’s swap the <code>aggfunc</code> parameter’s argument to \"<code>sum</code>\" to add the values in Expenses and Revenue:"
   ]
  },
  {
   "cell_type": "code",
   "execution_count": 24,
   "id": "0b8e6ee6",
   "metadata": {},
   "outputs": [
    {
     "data": {
      "text/html": [
       "<div>\n",
       "<style scoped>\n",
       "    .dataframe tbody tr th:only-of-type {\n",
       "        vertical-align: middle;\n",
       "    }\n",
       "\n",
       "    .dataframe tbody tr th {\n",
       "        vertical-align: top;\n",
       "    }\n",
       "\n",
       "    .dataframe thead th {\n",
       "        text-align: right;\n",
       "    }\n",
       "</style>\n",
       "<table border=\"1\" class=\"dataframe\">\n",
       "  <thead>\n",
       "    <tr style=\"text-align: right;\">\n",
       "      <th></th>\n",
       "      <th>Expenses</th>\n",
       "      <th>Revenue</th>\n",
       "    </tr>\n",
       "    <tr>\n",
       "      <th>Date</th>\n",
       "      <th></th>\n",
       "      <th></th>\n",
       "    </tr>\n",
       "  </thead>\n",
       "  <tbody>\n",
       "    <tr>\n",
       "      <th>2020-01-01</th>\n",
       "      <td>3825</td>\n",
       "      <td>25761</td>\n",
       "    </tr>\n",
       "    <tr>\n",
       "      <th>2020-01-02</th>\n",
       "      <td>6222</td>\n",
       "      <td>36515</td>\n",
       "    </tr>\n",
       "    <tr>\n",
       "      <th>2020-01-03</th>\n",
       "      <td>7882</td>\n",
       "      <td>29195</td>\n",
       "    </tr>\n",
       "    <tr>\n",
       "      <th>2020-01-04</th>\n",
       "      <td>7253</td>\n",
       "      <td>19740</td>\n",
       "    </tr>\n",
       "    <tr>\n",
       "      <th>2020-01-05</th>\n",
       "      <td>4785</td>\n",
       "      <td>19339</td>\n",
       "    </tr>\n",
       "  </tbody>\n",
       "</table>\n",
       "</div>"
      ],
      "text/plain": [
       "            Expenses  Revenue\n",
       "Date                         \n",
       "2020-01-01      3825    25761\n",
       "2020-01-02      6222    36515\n",
       "2020-01-03      7882    29195\n",
       "2020-01-04      7253    19740\n",
       "2020-01-05      4785    19339"
      ]
     },
     "execution_count": 24,
     "metadata": {},
     "output_type": "execute_result"
    }
   ],
   "source": [
    "sales.pivot_table(index = \"Date\", aggfunc = \"sum\")"
   ]
  },
  {
   "cell_type": "markdown",
   "id": "995e0d4c",
   "metadata": {
    "slideshow": {
     "slide_type": "slide"
    }
   },
   "source": [
    "To aggregate only one column’s values, we can pass the parameter a string with the column name:"
   ]
  },
  {
   "cell_type": "code",
   "execution_count": 25,
   "id": "85b5273e",
   "metadata": {
    "slideshow": {
     "slide_type": "fragment"
    }
   },
   "outputs": [
    {
     "data": {
      "text/html": [
       "<div>\n",
       "<style scoped>\n",
       "    .dataframe tbody tr th:only-of-type {\n",
       "        vertical-align: middle;\n",
       "    }\n",
       "\n",
       "    .dataframe tbody tr th {\n",
       "        vertical-align: top;\n",
       "    }\n",
       "\n",
       "    .dataframe thead th {\n",
       "        text-align: right;\n",
       "    }\n",
       "</style>\n",
       "<table border=\"1\" class=\"dataframe\">\n",
       "  <thead>\n",
       "    <tr style=\"text-align: right;\">\n",
       "      <th></th>\n",
       "      <th>Revenue</th>\n",
       "    </tr>\n",
       "    <tr>\n",
       "      <th>Date</th>\n",
       "      <th></th>\n",
       "    </tr>\n",
       "  </thead>\n",
       "  <tbody>\n",
       "    <tr>\n",
       "      <th>2020-01-01</th>\n",
       "      <td>25761</td>\n",
       "    </tr>\n",
       "    <tr>\n",
       "      <th>2020-01-02</th>\n",
       "      <td>36515</td>\n",
       "    </tr>\n",
       "    <tr>\n",
       "      <th>2020-01-03</th>\n",
       "      <td>29195</td>\n",
       "    </tr>\n",
       "    <tr>\n",
       "      <th>2020-01-04</th>\n",
       "      <td>19740</td>\n",
       "    </tr>\n",
       "    <tr>\n",
       "      <th>2020-01-05</th>\n",
       "      <td>19339</td>\n",
       "    </tr>\n",
       "  </tbody>\n",
       "</table>\n",
       "</div>"
      ],
      "text/plain": [
       "            Revenue\n",
       "Date               \n",
       "2020-01-01    25761\n",
       "2020-01-02    36515\n",
       "2020-01-03    29195\n",
       "2020-01-04    19740\n",
       "2020-01-05    19339"
      ]
     },
     "execution_count": 25,
     "metadata": {},
     "output_type": "execute_result"
    }
   ],
   "source": [
    "sales.pivot_table(index = \"Date\", values = \"Revenue\", aggfunc = \"sum\")"
   ]
  },
  {
   "cell_type": "markdown",
   "id": "9bc7e954",
   "metadata": {
    "slideshow": {
     "slide_type": "fragment"
    }
   },
   "source": [
    "To aggregate values across multiple columns, we can pass <code>values</code> a list of columns."
   ]
  },
  {
   "cell_type": "markdown",
   "id": "c4dfde76",
   "metadata": {},
   "source": [
    "We have a sum of revenue grouped by date.\n",
    "\n",
    "Our final step is communicating how much each salesman contributed to the daily total.\n",
    "\n",
    "One presentational view that seems to be optimal is placing each salesman’s name in a separate column.\n",
    "\n",
    "Let’s add a columns parameter to the method invocation and pass it an argument of \"<code>Name</code>\" :"
   ]
  },
  {
   "cell_type": "code",
   "execution_count": 30,
   "id": "df677407",
   "metadata": {},
   "outputs": [
    {
     "data": {
      "text/html": [
       "<div>\n",
       "<style scoped>\n",
       "    .dataframe tbody tr th:only-of-type {\n",
       "        vertical-align: middle;\n",
       "    }\n",
       "\n",
       "    .dataframe tbody tr th {\n",
       "        vertical-align: top;\n",
       "    }\n",
       "\n",
       "    .dataframe thead th {\n",
       "        text-align: right;\n",
       "    }\n",
       "</style>\n",
       "<table border=\"1\" class=\"dataframe\">\n",
       "  <thead>\n",
       "    <tr style=\"text-align: right;\">\n",
       "      <th>Name</th>\n",
       "      <th>Creed</th>\n",
       "      <th>Dwight</th>\n",
       "      <th>Jim</th>\n",
       "      <th>Michael</th>\n",
       "      <th>Oscar</th>\n",
       "    </tr>\n",
       "    <tr>\n",
       "      <th>Date</th>\n",
       "      <th></th>\n",
       "      <th></th>\n",
       "      <th></th>\n",
       "      <th></th>\n",
       "      <th></th>\n",
       "    </tr>\n",
       "  </thead>\n",
       "  <tbody>\n",
       "    <tr>\n",
       "      <th>2020-01-01</th>\n",
       "      <td>4430.0</td>\n",
       "      <td>2639.0</td>\n",
       "      <td>1864.0</td>\n",
       "      <td>7172.0</td>\n",
       "      <td>9656.0</td>\n",
       "    </tr>\n",
       "    <tr>\n",
       "      <th>2020-01-02</th>\n",
       "      <td>13214.0</td>\n",
       "      <td>NaN</td>\n",
       "      <td>8278.0</td>\n",
       "      <td>6362.0</td>\n",
       "      <td>8661.0</td>\n",
       "    </tr>\n",
       "    <tr>\n",
       "      <th>2020-01-03</th>\n",
       "      <td>NaN</td>\n",
       "      <td>11912.0</td>\n",
       "      <td>4226.0</td>\n",
       "      <td>5982.0</td>\n",
       "      <td>7075.0</td>\n",
       "    </tr>\n",
       "    <tr>\n",
       "      <th>2020-01-04</th>\n",
       "      <td>3144.0</td>\n",
       "      <td>NaN</td>\n",
       "      <td>6155.0</td>\n",
       "      <td>7917.0</td>\n",
       "      <td>2524.0</td>\n",
       "    </tr>\n",
       "    <tr>\n",
       "      <th>2020-01-05</th>\n",
       "      <td>938.0</td>\n",
       "      <td>7771.0</td>\n",
       "      <td>NaN</td>\n",
       "      <td>7837.0</td>\n",
       "      <td>2793.0</td>\n",
       "    </tr>\n",
       "  </tbody>\n",
       "</table>\n",
       "</div>"
      ],
      "text/plain": [
       "Name          Creed   Dwight     Jim  Michael   Oscar\n",
       "Date                                                 \n",
       "2020-01-01   4430.0   2639.0  1864.0   7172.0  9656.0\n",
       "2020-01-02  13214.0      NaN  8278.0   6362.0  8661.0\n",
       "2020-01-03      NaN  11912.0  4226.0   5982.0  7075.0\n",
       "2020-01-04   3144.0      NaN  6155.0   7917.0  2524.0\n",
       "2020-01-05    938.0   7771.0     NaN   7837.0  2793.0"
      ]
     },
     "execution_count": 30,
     "metadata": {},
     "output_type": "execute_result"
    }
   ],
   "source": [
    "sales.pivot_table(\n",
    "                index = \"Date\",\n",
    "                columns = \"Name\",\n",
    "                values = \"Revenue\",\n",
    "                aggfunc = \"sum\"\n",
    ")"
   ]
  },
  {
   "cell_type": "markdown",
   "id": "8e8d7c66",
   "metadata": {},
   "source": [
    "We can use the <code>fill_value</code> parameter to replace all pivot table <code>NaN</code> s with a fixed value. Let’s fill in the data gaps with zeroes:"
   ]
  },
  {
   "cell_type": "code",
   "execution_count": 31,
   "id": "f0072021",
   "metadata": {},
   "outputs": [
    {
     "data": {
      "text/html": [
       "<div>\n",
       "<style scoped>\n",
       "    .dataframe tbody tr th:only-of-type {\n",
       "        vertical-align: middle;\n",
       "    }\n",
       "\n",
       "    .dataframe tbody tr th {\n",
       "        vertical-align: top;\n",
       "    }\n",
       "\n",
       "    .dataframe thead th {\n",
       "        text-align: right;\n",
       "    }\n",
       "</style>\n",
       "<table border=\"1\" class=\"dataframe\">\n",
       "  <thead>\n",
       "    <tr style=\"text-align: right;\">\n",
       "      <th>Name</th>\n",
       "      <th>Creed</th>\n",
       "      <th>Dwight</th>\n",
       "      <th>Jim</th>\n",
       "      <th>Michael</th>\n",
       "      <th>Oscar</th>\n",
       "    </tr>\n",
       "    <tr>\n",
       "      <th>Date</th>\n",
       "      <th></th>\n",
       "      <th></th>\n",
       "      <th></th>\n",
       "      <th></th>\n",
       "      <th></th>\n",
       "    </tr>\n",
       "  </thead>\n",
       "  <tbody>\n",
       "    <tr>\n",
       "      <th>2020-01-01</th>\n",
       "      <td>4430</td>\n",
       "      <td>2639</td>\n",
       "      <td>1864</td>\n",
       "      <td>7172</td>\n",
       "      <td>9656</td>\n",
       "    </tr>\n",
       "    <tr>\n",
       "      <th>2020-01-02</th>\n",
       "      <td>13214</td>\n",
       "      <td>0</td>\n",
       "      <td>8278</td>\n",
       "      <td>6362</td>\n",
       "      <td>8661</td>\n",
       "    </tr>\n",
       "    <tr>\n",
       "      <th>2020-01-03</th>\n",
       "      <td>0</td>\n",
       "      <td>11912</td>\n",
       "      <td>4226</td>\n",
       "      <td>5982</td>\n",
       "      <td>7075</td>\n",
       "    </tr>\n",
       "    <tr>\n",
       "      <th>2020-01-04</th>\n",
       "      <td>3144</td>\n",
       "      <td>0</td>\n",
       "      <td>6155</td>\n",
       "      <td>7917</td>\n",
       "      <td>2524</td>\n",
       "    </tr>\n",
       "    <tr>\n",
       "      <th>2020-01-05</th>\n",
       "      <td>938</td>\n",
       "      <td>7771</td>\n",
       "      <td>0</td>\n",
       "      <td>7837</td>\n",
       "      <td>2793</td>\n",
       "    </tr>\n",
       "  </tbody>\n",
       "</table>\n",
       "</div>"
      ],
      "text/plain": [
       "Name        Creed  Dwight   Jim  Michael  Oscar\n",
       "Date                                           \n",
       "2020-01-01   4430    2639  1864     7172   9656\n",
       "2020-01-02  13214       0  8278     6362   8661\n",
       "2020-01-03      0   11912  4226     5982   7075\n",
       "2020-01-04   3144       0  6155     7917   2524\n",
       "2020-01-05    938    7771     0     7837   2793"
      ]
     },
     "execution_count": 31,
     "metadata": {},
     "output_type": "execute_result"
    }
   ],
   "source": [
    "sales.pivot_table(\n",
    "                index = \"Date\",\n",
    "                columns = \"Name\",\n",
    "                values = \"Revenue\",\n",
    "                aggfunc = \"sum\",\n",
    "                fill_value = 0\n",
    ")"
   ]
  },
  {
   "cell_type": "markdown",
   "id": "1328c0b5",
   "metadata": {},
   "source": [
    "We may also want to see the revenue subtotals for each combination of date and salesman. \n",
    "\n",
    "We can pass an argument of <code>True</code> to the <code>margins</code> parameter to add totals for each row and column:"
   ]
  },
  {
   "cell_type": "code",
   "execution_count": 32,
   "id": "029d42c6",
   "metadata": {},
   "outputs": [
    {
     "data": {
      "text/html": [
       "<div>\n",
       "<style scoped>\n",
       "    .dataframe tbody tr th:only-of-type {\n",
       "        vertical-align: middle;\n",
       "    }\n",
       "\n",
       "    .dataframe tbody tr th {\n",
       "        vertical-align: top;\n",
       "    }\n",
       "\n",
       "    .dataframe thead th {\n",
       "        text-align: right;\n",
       "    }\n",
       "</style>\n",
       "<table border=\"1\" class=\"dataframe\">\n",
       "  <thead>\n",
       "    <tr style=\"text-align: right;\">\n",
       "      <th>Name</th>\n",
       "      <th>Creed</th>\n",
       "      <th>Dwight</th>\n",
       "      <th>Jim</th>\n",
       "      <th>Michael</th>\n",
       "      <th>Oscar</th>\n",
       "      <th>All</th>\n",
       "    </tr>\n",
       "    <tr>\n",
       "      <th>Date</th>\n",
       "      <th></th>\n",
       "      <th></th>\n",
       "      <th></th>\n",
       "      <th></th>\n",
       "      <th></th>\n",
       "      <th></th>\n",
       "    </tr>\n",
       "  </thead>\n",
       "  <tbody>\n",
       "    <tr>\n",
       "      <th>2020-01-01 00:00:00</th>\n",
       "      <td>4430</td>\n",
       "      <td>2639</td>\n",
       "      <td>1864</td>\n",
       "      <td>7172</td>\n",
       "      <td>9656</td>\n",
       "      <td>25761</td>\n",
       "    </tr>\n",
       "    <tr>\n",
       "      <th>2020-01-02 00:00:00</th>\n",
       "      <td>13214</td>\n",
       "      <td>0</td>\n",
       "      <td>8278</td>\n",
       "      <td>6362</td>\n",
       "      <td>8661</td>\n",
       "      <td>36515</td>\n",
       "    </tr>\n",
       "    <tr>\n",
       "      <th>2020-01-03 00:00:00</th>\n",
       "      <td>0</td>\n",
       "      <td>11912</td>\n",
       "      <td>4226</td>\n",
       "      <td>5982</td>\n",
       "      <td>7075</td>\n",
       "      <td>29195</td>\n",
       "    </tr>\n",
       "    <tr>\n",
       "      <th>2020-01-04 00:00:00</th>\n",
       "      <td>3144</td>\n",
       "      <td>0</td>\n",
       "      <td>6155</td>\n",
       "      <td>7917</td>\n",
       "      <td>2524</td>\n",
       "      <td>19740</td>\n",
       "    </tr>\n",
       "    <tr>\n",
       "      <th>2020-01-05 00:00:00</th>\n",
       "      <td>938</td>\n",
       "      <td>7771</td>\n",
       "      <td>0</td>\n",
       "      <td>7837</td>\n",
       "      <td>2793</td>\n",
       "      <td>19339</td>\n",
       "    </tr>\n",
       "    <tr>\n",
       "      <th>All</th>\n",
       "      <td>21726</td>\n",
       "      <td>22322</td>\n",
       "      <td>20523</td>\n",
       "      <td>35270</td>\n",
       "      <td>30709</td>\n",
       "      <td>130550</td>\n",
       "    </tr>\n",
       "  </tbody>\n",
       "</table>\n",
       "</div>"
      ],
      "text/plain": [
       "Name                 Creed  Dwight    Jim  Michael  Oscar     All\n",
       "Date                                                             \n",
       "2020-01-01 00:00:00   4430    2639   1864     7172   9656   25761\n",
       "2020-01-02 00:00:00  13214       0   8278     6362   8661   36515\n",
       "2020-01-03 00:00:00      0   11912   4226     5982   7075   29195\n",
       "2020-01-04 00:00:00   3144       0   6155     7917   2524   19740\n",
       "2020-01-05 00:00:00    938    7771      0     7837   2793   19339\n",
       "All                  21726   22322  20523    35270  30709  130550"
      ]
     },
     "execution_count": 32,
     "metadata": {},
     "output_type": "execute_result"
    }
   ],
   "source": [
    "sales.pivot_table(\n",
    "            index = \"Date\",\n",
    "            columns = \"Name\",\n",
    "            values = \"Revenue\",\n",
    "            aggfunc = \"sum\",\n",
    "            fill_value = 0,\n",
    "            margins = True\n",
    ")"
   ]
  },
  {
   "cell_type": "markdown",
   "id": "883341fd",
   "metadata": {},
   "source": [
    "### Additional options for pivot tables\n",
    "\n",
    "Suppose that we’re interested in the number of business deals closed per day. \n",
    "\n",
    "We can pass aggfunc an <code>argument</code> of \"<code>count</code>\" to count the number of <code>sales</code> rows for each combination of date and employee:"
   ]
  },
  {
   "cell_type": "code",
   "execution_count": 33,
   "id": "75e042ff",
   "metadata": {},
   "outputs": [
    {
     "data": {
      "text/html": [
       "<div>\n",
       "<style scoped>\n",
       "    .dataframe tbody tr th:only-of-type {\n",
       "        vertical-align: middle;\n",
       "    }\n",
       "\n",
       "    .dataframe tbody tr th {\n",
       "        vertical-align: top;\n",
       "    }\n",
       "\n",
       "    .dataframe thead th {\n",
       "        text-align: right;\n",
       "    }\n",
       "</style>\n",
       "<table border=\"1\" class=\"dataframe\">\n",
       "  <thead>\n",
       "    <tr style=\"text-align: right;\">\n",
       "      <th>Name</th>\n",
       "      <th>Creed</th>\n",
       "      <th>Dwight</th>\n",
       "      <th>Jim</th>\n",
       "      <th>Michael</th>\n",
       "      <th>Oscar</th>\n",
       "    </tr>\n",
       "    <tr>\n",
       "      <th>Date</th>\n",
       "      <th></th>\n",
       "      <th></th>\n",
       "      <th></th>\n",
       "      <th></th>\n",
       "      <th></th>\n",
       "    </tr>\n",
       "  </thead>\n",
       "  <tbody>\n",
       "    <tr>\n",
       "      <th>2020-01-01</th>\n",
       "      <td>1</td>\n",
       "      <td>1</td>\n",
       "      <td>1</td>\n",
       "      <td>1</td>\n",
       "      <td>2</td>\n",
       "    </tr>\n",
       "    <tr>\n",
       "      <th>2020-01-02</th>\n",
       "      <td>2</td>\n",
       "      <td>0</td>\n",
       "      <td>1</td>\n",
       "      <td>1</td>\n",
       "      <td>1</td>\n",
       "    </tr>\n",
       "    <tr>\n",
       "      <th>2020-01-03</th>\n",
       "      <td>0</td>\n",
       "      <td>3</td>\n",
       "      <td>1</td>\n",
       "      <td>1</td>\n",
       "      <td>1</td>\n",
       "    </tr>\n",
       "    <tr>\n",
       "      <th>2020-01-04</th>\n",
       "      <td>1</td>\n",
       "      <td>0</td>\n",
       "      <td>2</td>\n",
       "      <td>1</td>\n",
       "      <td>1</td>\n",
       "    </tr>\n",
       "    <tr>\n",
       "      <th>2020-01-05</th>\n",
       "      <td>1</td>\n",
       "      <td>1</td>\n",
       "      <td>0</td>\n",
       "      <td>1</td>\n",
       "      <td>1</td>\n",
       "    </tr>\n",
       "  </tbody>\n",
       "</table>\n",
       "</div>"
      ],
      "text/plain": [
       "Name        Creed  Dwight  Jim  Michael  Oscar\n",
       "Date                                          \n",
       "2020-01-01      1       1    1        1      2\n",
       "2020-01-02      2       0    1        1      1\n",
       "2020-01-03      0       3    1        1      1\n",
       "2020-01-04      1       0    2        1      1\n",
       "2020-01-05      1       1    0        1      1"
      ]
     },
     "execution_count": 33,
     "metadata": {},
     "output_type": "execute_result"
    }
   ],
   "source": [
    "sales.pivot_table(\n",
    "            index = \"Date\",\n",
    "            columns = \"Name\",\n",
    "            values = \"Revenue\",\n",
    "            aggfunc = \"count\",\n",
    "            fill_value = 0\n",
    ")"
   ]
  },
  {
   "attachments": {
    "agg_function_pivot_table.png": {
     "image/png": "[encoded data removed]"
    }
   },
   "cell_type": "markdown",
   "id": "b787c77e",
   "metadata": {
    "slideshow": {
     "slide_type": "slide"
    }
   },
   "source": [
    "Some additional options for the aggfunc parameter are listed in the following table:\n",
    "\n",
    "![agg_function_pivot_table.png](attachment:agg_function_pivot_table.png)"
   ]
  },
  {
   "cell_type": "markdown",
   "id": "404ed3aa",
   "metadata": {},
   "source": [
    "We can also stack multiple groupings on a single axis by passing the <code>index</code> parameter a list of columns. \n",
    "\n",
    "The next example aggregates the sum of expenses by salesman and date on the row axis.\n",
    "\n",
    "Pandas return a <code>DataFrame</code> with a two-level <code>MultiIndex</code>:"
   ]
  },
  {
   "cell_type": "code",
   "execution_count": 36,
   "id": "17798409",
   "metadata": {},
   "outputs": [
    {
     "data": {
      "text/html": [
       "<div>\n",
       "<style scoped>\n",
       "    .dataframe tbody tr th:only-of-type {\n",
       "        vertical-align: middle;\n",
       "    }\n",
       "\n",
       "    .dataframe tbody tr th {\n",
       "        vertical-align: top;\n",
       "    }\n",
       "\n",
       "    .dataframe thead th {\n",
       "        text-align: right;\n",
       "    }\n",
       "</style>\n",
       "<table border=\"1\" class=\"dataframe\">\n",
       "  <thead>\n",
       "    <tr style=\"text-align: right;\">\n",
       "      <th></th>\n",
       "      <th></th>\n",
       "      <th>Revenue</th>\n",
       "    </tr>\n",
       "    <tr>\n",
       "      <th>Name</th>\n",
       "      <th>Date</th>\n",
       "      <th></th>\n",
       "    </tr>\n",
       "  </thead>\n",
       "  <tbody>\n",
       "    <tr>\n",
       "      <th rowspan=\"4\" valign=\"top\">Creed</th>\n",
       "      <th>2020-01-01</th>\n",
       "      <td>4430</td>\n",
       "    </tr>\n",
       "    <tr>\n",
       "      <th>2020-01-02</th>\n",
       "      <td>13214</td>\n",
       "    </tr>\n",
       "    <tr>\n",
       "      <th>2020-01-04</th>\n",
       "      <td>3144</td>\n",
       "    </tr>\n",
       "    <tr>\n",
       "      <th>2020-01-05</th>\n",
       "      <td>938</td>\n",
       "    </tr>\n",
       "    <tr>\n",
       "      <th rowspan=\"3\" valign=\"top\">Dwight</th>\n",
       "      <th>2020-01-01</th>\n",
       "      <td>2639</td>\n",
       "    </tr>\n",
       "    <tr>\n",
       "      <th>2020-01-03</th>\n",
       "      <td>11912</td>\n",
       "    </tr>\n",
       "    <tr>\n",
       "      <th>2020-01-05</th>\n",
       "      <td>7771</td>\n",
       "    </tr>\n",
       "    <tr>\n",
       "      <th rowspan=\"3\" valign=\"top\">Jim</th>\n",
       "      <th>2020-01-01</th>\n",
       "      <td>1864</td>\n",
       "    </tr>\n",
       "    <tr>\n",
       "      <th>2020-01-02</th>\n",
       "      <td>8278</td>\n",
       "    </tr>\n",
       "    <tr>\n",
       "      <th>2020-01-03</th>\n",
       "      <td>4226</td>\n",
       "    </tr>\n",
       "  </tbody>\n",
       "</table>\n",
       "</div>"
      ],
      "text/plain": [
       "                   Revenue\n",
       "Name   Date               \n",
       "Creed  2020-01-01     4430\n",
       "       2020-01-02    13214\n",
       "       2020-01-04     3144\n",
       "       2020-01-05      938\n",
       "Dwight 2020-01-01     2639\n",
       "       2020-01-03    11912\n",
       "       2020-01-05     7771\n",
       "Jim    2020-01-01     1864\n",
       "       2020-01-02     8278\n",
       "       2020-01-03     4226"
      ]
     },
     "execution_count": 36,
     "metadata": {},
     "output_type": "execute_result"
    }
   ],
   "source": [
    "sales.pivot_table(\n",
    "                    index = [\"Name\", \"Date\"], values = \"Revenue\", aggfunc = \"sum\"\n",
    "                 ).head(10)"
   ]
  },
  {
   "cell_type": "markdown",
   "id": "b9bdb5d3",
   "metadata": {},
   "source": [
    "Switch the order of strings in the <code>index</code> list to rearrange the levels in the pivot table’s <code>MultiIndex</code> . \n",
    "\n",
    "The next example swaps the positions of Name and Date:"
   ]
  },
  {
   "cell_type": "code",
   "execution_count": 42,
   "id": "0bed09f9",
   "metadata": {},
   "outputs": [
    {
     "data": {
      "text/html": [
       "<div>\n",
       "<style scoped>\n",
       "    .dataframe tbody tr th:only-of-type {\n",
       "        vertical-align: middle;\n",
       "    }\n",
       "\n",
       "    .dataframe tbody tr th {\n",
       "        vertical-align: top;\n",
       "    }\n",
       "\n",
       "    .dataframe thead th {\n",
       "        text-align: right;\n",
       "    }\n",
       "</style>\n",
       "<table border=\"1\" class=\"dataframe\">\n",
       "  <thead>\n",
       "    <tr style=\"text-align: right;\">\n",
       "      <th></th>\n",
       "      <th></th>\n",
       "      <th>Revenue</th>\n",
       "    </tr>\n",
       "    <tr>\n",
       "      <th>Date</th>\n",
       "      <th>Name</th>\n",
       "      <th></th>\n",
       "    </tr>\n",
       "  </thead>\n",
       "  <tbody>\n",
       "    <tr>\n",
       "      <th rowspan=\"5\" valign=\"top\">2020-01-01</th>\n",
       "      <th>Creed</th>\n",
       "      <td>4430</td>\n",
       "    </tr>\n",
       "    <tr>\n",
       "      <th>Dwight</th>\n",
       "      <td>2639</td>\n",
       "    </tr>\n",
       "    <tr>\n",
       "      <th>Jim</th>\n",
       "      <td>1864</td>\n",
       "    </tr>\n",
       "    <tr>\n",
       "      <th>Michael</th>\n",
       "      <td>7172</td>\n",
       "    </tr>\n",
       "    <tr>\n",
       "      <th>Oscar</th>\n",
       "      <td>9656</td>\n",
       "    </tr>\n",
       "    <tr>\n",
       "      <th rowspan=\"4\" valign=\"top\">2020-01-02</th>\n",
       "      <th>Creed</th>\n",
       "      <td>13214</td>\n",
       "    </tr>\n",
       "    <tr>\n",
       "      <th>Jim</th>\n",
       "      <td>8278</td>\n",
       "    </tr>\n",
       "    <tr>\n",
       "      <th>Michael</th>\n",
       "      <td>6362</td>\n",
       "    </tr>\n",
       "    <tr>\n",
       "      <th>Oscar</th>\n",
       "      <td>8661</td>\n",
       "    </tr>\n",
       "    <tr>\n",
       "      <th>2020-01-03</th>\n",
       "      <th>Dwight</th>\n",
       "      <td>11912</td>\n",
       "    </tr>\n",
       "  </tbody>\n",
       "</table>\n",
       "</div>"
      ],
      "text/plain": [
       "                    Revenue\n",
       "Date       Name            \n",
       "2020-01-01 Creed       4430\n",
       "           Dwight      2639\n",
       "           Jim         1864\n",
       "           Michael     7172\n",
       "           Oscar       9656\n",
       "2020-01-02 Creed      13214\n",
       "           Jim         8278\n",
       "           Michael     6362\n",
       "           Oscar       8661\n",
       "2020-01-03 Dwight     11912"
      ]
     },
     "execution_count": 42,
     "metadata": {},
     "output_type": "execute_result"
    }
   ],
   "source": [
    "sales.pivot_table(\n",
    "                    index = [\"Date\", \"Name\"], values = \"Revenue\", aggfunc = \"sum\"\n",
    "                 ).head(10)"
   ]
  },
  {
   "cell_type": "markdown",
   "id": "6cea75e9",
   "metadata": {},
   "source": [
    "## Stacking and unstacking index levels\n",
    "\n",
    "Let’s pivot sales to organize revenue by employee name and date. \n",
    "\n",
    "We’ll place dates on the column axis and names on the row axis:"
   ]
  },
  {
   "cell_type": "code",
   "execution_count": 41,
   "id": "5f4a7dcf",
   "metadata": {},
   "outputs": [
    {
     "data": {
      "text/html": [
       "<div>\n",
       "<style scoped>\n",
       "    .dataframe tbody tr th:only-of-type {\n",
       "        vertical-align: middle;\n",
       "    }\n",
       "\n",
       "    .dataframe tbody tr th {\n",
       "        vertical-align: top;\n",
       "    }\n",
       "\n",
       "    .dataframe thead th {\n",
       "        text-align: right;\n",
       "    }\n",
       "</style>\n",
       "<table border=\"1\" class=\"dataframe\">\n",
       "  <thead>\n",
       "    <tr style=\"text-align: right;\">\n",
       "      <th>Date</th>\n",
       "      <th>2020-01-01</th>\n",
       "      <th>2020-01-02</th>\n",
       "      <th>2020-01-03</th>\n",
       "      <th>2020-01-04</th>\n",
       "      <th>2020-01-05</th>\n",
       "    </tr>\n",
       "    <tr>\n",
       "      <th>Name</th>\n",
       "      <th></th>\n",
       "      <th></th>\n",
       "      <th></th>\n",
       "      <th></th>\n",
       "      <th></th>\n",
       "    </tr>\n",
       "  </thead>\n",
       "  <tbody>\n",
       "    <tr>\n",
       "      <th>Creed</th>\n",
       "      <td>4430.0</td>\n",
       "      <td>13214.0</td>\n",
       "      <td>NaN</td>\n",
       "      <td>3144.0</td>\n",
       "      <td>938.0</td>\n",
       "    </tr>\n",
       "    <tr>\n",
       "      <th>Dwight</th>\n",
       "      <td>2639.0</td>\n",
       "      <td>NaN</td>\n",
       "      <td>11912.0</td>\n",
       "      <td>NaN</td>\n",
       "      <td>7771.0</td>\n",
       "    </tr>\n",
       "    <tr>\n",
       "      <th>Jim</th>\n",
       "      <td>1864.0</td>\n",
       "      <td>8278.0</td>\n",
       "      <td>4226.0</td>\n",
       "      <td>6155.0</td>\n",
       "      <td>NaN</td>\n",
       "    </tr>\n",
       "    <tr>\n",
       "      <th>Michael</th>\n",
       "      <td>7172.0</td>\n",
       "      <td>6362.0</td>\n",
       "      <td>5982.0</td>\n",
       "      <td>7917.0</td>\n",
       "      <td>7837.0</td>\n",
       "    </tr>\n",
       "    <tr>\n",
       "      <th>Oscar</th>\n",
       "      <td>9656.0</td>\n",
       "      <td>8661.0</td>\n",
       "      <td>7075.0</td>\n",
       "      <td>2524.0</td>\n",
       "      <td>2793.0</td>\n",
       "    </tr>\n",
       "  </tbody>\n",
       "</table>\n",
       "</div>"
      ],
      "text/plain": [
       "Date     2020-01-01  2020-01-02  2020-01-03  2020-01-04  2020-01-05\n",
       "Name                                                               \n",
       "Creed        4430.0     13214.0         NaN      3144.0       938.0\n",
       "Dwight       2639.0         NaN     11912.0         NaN      7771.0\n",
       "Jim          1864.0      8278.0      4226.0      6155.0         NaN\n",
       "Michael      7172.0      6362.0      5982.0      7917.0      7837.0\n",
       "Oscar        9656.0      8661.0      7075.0      2524.0      2793.0"
      ]
     },
     "execution_count": 41,
     "metadata": {},
     "output_type": "execute_result"
    }
   ],
   "source": [
    "by_name_and_date = sales.pivot_table(\n",
    "                    index = \"Name\",\n",
    "                    columns = \"Date\",\n",
    "                    values = \"Revenue\",\n",
    "                    aggfunc = \"sum\"\n",
    "                    )\n",
    "by_name_and_date"
   ]
  },
  {
   "cell_type": "markdown",
   "id": "b9380de7",
   "metadata": {},
   "source": [
    "The <code>stack</code> method moves an index level from the column axis to the row axis.\n",
    "\n",
    "The next example moves the Date index level from the column axis to the row axis.\n",
    "\n",
    "Pandas creates a <code>MultiIndex</code> to store the two row levels: Name and Date."
   ]
  },
  {
   "cell_type": "code",
   "execution_count": 43,
   "id": "c2bfe866",
   "metadata": {},
   "outputs": [
    {
     "data": {
      "text/plain": [
       "Name    Date      \n",
       "Creed   2020-01-01     4430.0\n",
       "        2020-01-02    13214.0\n",
       "        2020-01-04     3144.0\n",
       "        2020-01-05      938.0\n",
       "Dwight  2020-01-01     2639.0\n",
       "        2020-01-03    11912.0\n",
       "        2020-01-05     7771.0\n",
       "dtype: float64"
      ]
     },
     "execution_count": 43,
     "metadata": {},
     "output_type": "execute_result"
    }
   ],
   "source": [
    "by_name_and_date.stack().head(7)"
   ]
  },
  {
   "cell_type": "markdown",
   "id": "5422e817",
   "metadata": {},
   "source": [
    "The complementary <code>unstack</code> method moves an index level from the row axis to the column axis. \n",
    "\n",
    "Consider the following pivot table, which groups revenue by customer and salesman."
   ]
  },
  {
   "cell_type": "code",
   "execution_count": 49,
   "id": "b92de1cf",
   "metadata": {},
   "outputs": [
    {
     "data": {
      "text/html": [
       "<div>\n",
       "<style scoped>\n",
       "    .dataframe tbody tr th:only-of-type {\n",
       "        vertical-align: middle;\n",
       "    }\n",
       "\n",
       "    .dataframe tbody tr th {\n",
       "        vertical-align: top;\n",
       "    }\n",
       "\n",
       "    .dataframe thead th {\n",
       "        text-align: right;\n",
       "    }\n",
       "</style>\n",
       "<table border=\"1\" class=\"dataframe\">\n",
       "  <thead>\n",
       "    <tr style=\"text-align: right;\">\n",
       "      <th></th>\n",
       "      <th></th>\n",
       "      <th>Revenue</th>\n",
       "    </tr>\n",
       "    <tr>\n",
       "      <th>Customer</th>\n",
       "      <th>Name</th>\n",
       "      <th></th>\n",
       "    </tr>\n",
       "  </thead>\n",
       "  <tbody>\n",
       "    <tr>\n",
       "      <th rowspan=\"2\" valign=\"top\">Average Paper Co.</th>\n",
       "      <th>Creed</th>\n",
       "      <td>13214</td>\n",
       "    </tr>\n",
       "    <tr>\n",
       "      <th>Jim</th>\n",
       "      <td>2287</td>\n",
       "    </tr>\n",
       "    <tr>\n",
       "      <th rowspan=\"2\" valign=\"top\">Best Paper Co.</th>\n",
       "      <th>Dwight</th>\n",
       "      <td>2703</td>\n",
       "    </tr>\n",
       "    <tr>\n",
       "      <th>Michael</th>\n",
       "      <td>15754</td>\n",
       "    </tr>\n",
       "    <tr>\n",
       "      <th>Logistics XYZ</th>\n",
       "      <th>Dwight</th>\n",
       "      <td>9209</td>\n",
       "    </tr>\n",
       "  </tbody>\n",
       "</table>\n",
       "</div>"
      ],
      "text/plain": [
       "                           Revenue\n",
       "Customer          Name            \n",
       "Average Paper Co. Creed      13214\n",
       "                  Jim         2287\n",
       "Best Paper Co.    Dwight      2703\n",
       "                  Michael    15754\n",
       "Logistics XYZ     Dwight      9209"
      ]
     },
     "execution_count": 49,
     "metadata": {},
     "output_type": "execute_result"
    }
   ],
   "source": [
    "sales_by_customer = sales.pivot_table(\n",
    "                    index = [\"Customer\", \"Name\"],\n",
    "                    values = \"Revenue\",\n",
    "                    aggfunc = \"sum\"\n",
    "                    )\n",
    "sales_by_customer.head()"
   ]
  },
  {
   "cell_type": "markdown",
   "id": "a9814385",
   "metadata": {},
   "source": [
    "The <code>unstack</code> method moves the innermost level of the row index to the column index:"
   ]
  },
  {
   "cell_type": "code",
   "execution_count": 50,
   "id": "94682ffd",
   "metadata": {},
   "outputs": [
    {
     "data": {
      "text/html": [
       "<div>\n",
       "<style scoped>\n",
       "    .dataframe tbody tr th:only-of-type {\n",
       "        vertical-align: middle;\n",
       "    }\n",
       "\n",
       "    .dataframe tbody tr th {\n",
       "        vertical-align: top;\n",
       "    }\n",
       "\n",
       "    .dataframe thead tr th {\n",
       "        text-align: left;\n",
       "    }\n",
       "\n",
       "    .dataframe thead tr:last-of-type th {\n",
       "        text-align: right;\n",
       "    }\n",
       "</style>\n",
       "<table border=\"1\" class=\"dataframe\">\n",
       "  <thead>\n",
       "    <tr>\n",
       "      <th></th>\n",
       "      <th colspan=\"5\" halign=\"left\">Revenue</th>\n",
       "    </tr>\n",
       "    <tr>\n",
       "      <th>Name</th>\n",
       "      <th>Creed</th>\n",
       "      <th>Dwight</th>\n",
       "      <th>Jim</th>\n",
       "      <th>Michael</th>\n",
       "      <th>Oscar</th>\n",
       "    </tr>\n",
       "    <tr>\n",
       "      <th>Customer</th>\n",
       "      <th></th>\n",
       "      <th></th>\n",
       "      <th></th>\n",
       "      <th></th>\n",
       "      <th></th>\n",
       "    </tr>\n",
       "  </thead>\n",
       "  <tbody>\n",
       "    <tr>\n",
       "      <th>Average Paper Co.</th>\n",
       "      <td>13214.0</td>\n",
       "      <td>NaN</td>\n",
       "      <td>2287.0</td>\n",
       "      <td>NaN</td>\n",
       "      <td>NaN</td>\n",
       "    </tr>\n",
       "    <tr>\n",
       "      <th>Best Paper Co.</th>\n",
       "      <td>NaN</td>\n",
       "      <td>2703.0</td>\n",
       "      <td>NaN</td>\n",
       "      <td>15754.0</td>\n",
       "      <td>NaN</td>\n",
       "    </tr>\n",
       "    <tr>\n",
       "      <th>Logistics XYZ</th>\n",
       "      <td>NaN</td>\n",
       "      <td>9209.0</td>\n",
       "      <td>NaN</td>\n",
       "      <td>7172.0</td>\n",
       "      <td>5250.0</td>\n",
       "    </tr>\n",
       "    <tr>\n",
       "      <th>Money Corp.</th>\n",
       "      <td>5368.0</td>\n",
       "      <td>NaN</td>\n",
       "      <td>8278.0</td>\n",
       "      <td>NaN</td>\n",
       "      <td>4406.0</td>\n",
       "    </tr>\n",
       "    <tr>\n",
       "      <th>Paper Pound</th>\n",
       "      <td>NaN</td>\n",
       "      <td>7771.0</td>\n",
       "      <td>4226.0</td>\n",
       "      <td>NaN</td>\n",
       "      <td>5317.0</td>\n",
       "    </tr>\n",
       "    <tr>\n",
       "      <th>PaperGenius</th>\n",
       "      <td>NaN</td>\n",
       "      <td>2639.0</td>\n",
       "      <td>1864.0</td>\n",
       "      <td>12344.0</td>\n",
       "      <td>7075.0</td>\n",
       "    </tr>\n",
       "    <tr>\n",
       "      <th>PaperMaven</th>\n",
       "      <td>3144.0</td>\n",
       "      <td>NaN</td>\n",
       "      <td>3868.0</td>\n",
       "      <td>NaN</td>\n",
       "      <td>8661.0</td>\n",
       "    </tr>\n",
       "  </tbody>\n",
       "</table>\n",
       "</div>"
      ],
      "text/plain": [
       "                   Revenue                                 \n",
       "Name                 Creed  Dwight     Jim  Michael   Oscar\n",
       "Customer                                                   \n",
       "Average Paper Co.  13214.0     NaN  2287.0      NaN     NaN\n",
       "Best Paper Co.         NaN  2703.0     NaN  15754.0     NaN\n",
       "Logistics XYZ          NaN  9209.0     NaN   7172.0  5250.0\n",
       "Money Corp.         5368.0     NaN  8278.0      NaN  4406.0\n",
       "Paper Pound            NaN  7771.0  4226.0      NaN  5317.0\n",
       "PaperGenius            NaN  2639.0  1864.0  12344.0  7075.0\n",
       "PaperMaven          3144.0     NaN  3868.0      NaN  8661.0"
      ]
     },
     "execution_count": 50,
     "metadata": {},
     "output_type": "execute_result"
    }
   ],
   "source": [
    "sales_by_customer.unstack()"
   ]
  },
  {
   "cell_type": "markdown",
   "id": "5ec47c5a",
   "metadata": {},
   "source": [
    "In the new <code>DataFrame</code> , the column axis now has a two-level <code>MultiIndex</code> , and the\n",
    "row axis has a regular one-level index."
   ]
  },
  {
   "cell_type": "markdown",
   "id": "99dd27f8",
   "metadata": {},
   "source": [
    "## Melting a data set\n",
    "\n",
    "A pivot table aggregates the values in a data set. \n",
    "\n",
    "In this section, we’ll learn how to do the opposite: break an aggregated collection of data into an unaggregated one.\n",
    "\n",
    "The next data set, <code>video_game_sales.csv</code>, is a listing of regional sales for more than 16,000 video games. \n",
    "\n",
    "Each row includes the game’s name as well as the number of units sold (in millions) in the North America (NA), Europe (EU), Japan (JP), and other (Other) regions:"
   ]
  },
  {
   "cell_type": "code",
   "execution_count": 54,
   "id": "e0f10917",
   "metadata": {},
   "outputs": [
    {
     "data": {
      "text/html": [
       "<div>\n",
       "<style scoped>\n",
       "    .dataframe tbody tr th:only-of-type {\n",
       "        vertical-align: middle;\n",
       "    }\n",
       "\n",
       "    .dataframe tbody tr th {\n",
       "        vertical-align: top;\n",
       "    }\n",
       "\n",
       "    .dataframe thead th {\n",
       "        text-align: right;\n",
       "    }\n",
       "</style>\n",
       "<table border=\"1\" class=\"dataframe\">\n",
       "  <thead>\n",
       "    <tr style=\"text-align: right;\">\n",
       "      <th></th>\n",
       "      <th>Name</th>\n",
       "      <th>NA</th>\n",
       "      <th>EU</th>\n",
       "      <th>JP</th>\n",
       "      <th>Other</th>\n",
       "    </tr>\n",
       "  </thead>\n",
       "  <tbody>\n",
       "    <tr>\n",
       "      <th>0</th>\n",
       "      <td>Wii Sports</td>\n",
       "      <td>41.49</td>\n",
       "      <td>29.02</td>\n",
       "      <td>3.77</td>\n",
       "      <td>8.46</td>\n",
       "    </tr>\n",
       "    <tr>\n",
       "      <th>1</th>\n",
       "      <td>Super Mario Bros.</td>\n",
       "      <td>29.08</td>\n",
       "      <td>3.58</td>\n",
       "      <td>6.81</td>\n",
       "      <td>0.77</td>\n",
       "    </tr>\n",
       "    <tr>\n",
       "      <th>2</th>\n",
       "      <td>Mario Kart Wii</td>\n",
       "      <td>15.85</td>\n",
       "      <td>12.88</td>\n",
       "      <td>3.79</td>\n",
       "      <td>3.31</td>\n",
       "    </tr>\n",
       "    <tr>\n",
       "      <th>3</th>\n",
       "      <td>Wii Sports Resort</td>\n",
       "      <td>15.75</td>\n",
       "      <td>11.01</td>\n",
       "      <td>3.28</td>\n",
       "      <td>2.96</td>\n",
       "    </tr>\n",
       "    <tr>\n",
       "      <th>4</th>\n",
       "      <td>Pokemon Red/Pokemon Blue</td>\n",
       "      <td>11.27</td>\n",
       "      <td>8.89</td>\n",
       "      <td>10.22</td>\n",
       "      <td>1.00</td>\n",
       "    </tr>\n",
       "  </tbody>\n",
       "</table>\n",
       "</div>"
      ],
      "text/plain": [
       "                       Name     NA     EU     JP  Other\n",
       "0                Wii Sports  41.49  29.02   3.77   8.46\n",
       "1         Super Mario Bros.  29.08   3.58   6.81   0.77\n",
       "2            Mario Kart Wii  15.85  12.88   3.79   3.31\n",
       "3         Wii Sports Resort  15.75  11.01   3.28   2.96\n",
       "4  Pokemon Red/Pokemon Blue  11.27   8.89  10.22   1.00"
      ]
     },
     "execution_count": 54,
     "metadata": {},
     "output_type": "execute_result"
    }
   ],
   "source": [
    "video_game_sales = pd.read_csv(\"../data/video_game_sales.csv\")\n",
    "video_game_sales.head()"
   ]
  },
  {
   "cell_type": "markdown",
   "id": "760d1696",
   "metadata": {},
   "source": [
    "Suppose that we moved the values \"NA\" , \"EU\" , \"JP\" , and \"Other\" to a new Region column. \n",
    "\n",
    "Compare the preceding presentation with the following one:"
   ]
  },
  {
   "cell_type": "code",
   "execution_count": 58,
   "id": "f5c634b6",
   "metadata": {},
   "outputs": [
    {
     "data": {
      "text/html": [
       "<div>\n",
       "<style scoped>\n",
       "    .dataframe tbody tr th:only-of-type {\n",
       "        vertical-align: middle;\n",
       "    }\n",
       "\n",
       "    .dataframe tbody tr th {\n",
       "        vertical-align: top;\n",
       "    }\n",
       "\n",
       "    .dataframe thead th {\n",
       "        text-align: right;\n",
       "    }\n",
       "</style>\n",
       "<table border=\"1\" class=\"dataframe\">\n",
       "  <thead>\n",
       "    <tr style=\"text-align: right;\">\n",
       "      <th></th>\n",
       "      <th>Name</th>\n",
       "      <th>Region</th>\n",
       "      <th>Sales</th>\n",
       "    </tr>\n",
       "  </thead>\n",
       "  <tbody>\n",
       "    <tr>\n",
       "      <th>0</th>\n",
       "      <td>Wii Sports</td>\n",
       "      <td>NA</td>\n",
       "      <td>41.49</td>\n",
       "    </tr>\n",
       "    <tr>\n",
       "      <th>1</th>\n",
       "      <td>Wii Sports</td>\n",
       "      <td>EU</td>\n",
       "      <td>29.02</td>\n",
       "    </tr>\n",
       "    <tr>\n",
       "      <th>2</th>\n",
       "      <td>Wii Sports</td>\n",
       "      <td>JP</td>\n",
       "      <td>3.77</td>\n",
       "    </tr>\n",
       "    <tr>\n",
       "      <th>3</th>\n",
       "      <td>Wii Sports</td>\n",
       "      <td>Other</td>\n",
       "      <td>8.46</td>\n",
       "    </tr>\n",
       "  </tbody>\n",
       "</table>\n",
       "</div>"
      ],
      "text/plain": [
       "         Name Region  Sales\n",
       "0  Wii Sports     NA  41.49\n",
       "1  Wii Sports     EU  29.02\n",
       "2  Wii Sports     JP   3.77\n",
       "3  Wii Sports  Other   8.46"
      ]
     },
     "execution_count": 58,
     "metadata": {},
     "output_type": "execute_result"
    }
   ],
   "source": [
    "pd.DataFrame([(\"Wii Sports\",\"NA\",41.49), \n",
    "              (\"Wii Sports\",\"EU\",29.02), \n",
    "              (\"Wii Sports\",\"JP\",3.77), \n",
    "              (\"Wii Sports\",\"Other\",8.46)], columns = [\"Name\",\"Region\",\"Sales\"])"
   ]
  },
  {
   "cell_type": "markdown",
   "id": "c4a5d006",
   "metadata": {},
   "source": [
    "In a way, we are unpivoting the <code>DataFrame</code>.\n",
    "\n",
    "We are converting an aggregate, summary view of the data to one in which each column stores one variable\n",
    "piece of information."
   ]
  },
  {
   "cell_type": "markdown",
   "id": "b5195053",
   "metadata": {},
   "source": [
    "Pandas melts a <code>DataFrame</code> with the <code>melt</code> method. (*Melting* is the process of converting a wide data set to a narrow one.) \n",
    "\n",
    "The method accepts two primary parameters:\n",
    "\n",
    "* The <code>id_vars</code> parameter sets the identifier column, the column for which the wide data set aggregates data. Name is the identifier column in video_game_sales. The data set aggregates sales per video game.\n",
    "* The <code>value_vars</code> parameter accepts the column(s) whose values pandas will melt and store in a new column."
   ]
  },
  {
   "cell_type": "markdown",
   "id": "cffd686a",
   "metadata": {},
   "source": [
    "Let’s start simple, melting only the NA column’s values.\n",
    "\n",
    "The library stores the former column name (NA) in a new variable column:"
   ]
  },
  {
   "cell_type": "code",
   "execution_count": 59,
   "id": "cdcda3bd",
   "metadata": {},
   "outputs": [
    {
     "data": {
      "text/html": [
       "<div>\n",
       "<style scoped>\n",
       "    .dataframe tbody tr th:only-of-type {\n",
       "        vertical-align: middle;\n",
       "    }\n",
       "\n",
       "    .dataframe tbody tr th {\n",
       "        vertical-align: top;\n",
       "    }\n",
       "\n",
       "    .dataframe thead th {\n",
       "        text-align: right;\n",
       "    }\n",
       "</style>\n",
       "<table border=\"1\" class=\"dataframe\">\n",
       "  <thead>\n",
       "    <tr style=\"text-align: right;\">\n",
       "      <th></th>\n",
       "      <th>Name</th>\n",
       "      <th>variable</th>\n",
       "      <th>value</th>\n",
       "    </tr>\n",
       "  </thead>\n",
       "  <tbody>\n",
       "    <tr>\n",
       "      <th>0</th>\n",
       "      <td>Wii Sports</td>\n",
       "      <td>NA</td>\n",
       "      <td>41.49</td>\n",
       "    </tr>\n",
       "    <tr>\n",
       "      <th>1</th>\n",
       "      <td>Super Mario Bros.</td>\n",
       "      <td>NA</td>\n",
       "      <td>29.08</td>\n",
       "    </tr>\n",
       "    <tr>\n",
       "      <th>2</th>\n",
       "      <td>Mario Kart Wii</td>\n",
       "      <td>NA</td>\n",
       "      <td>15.85</td>\n",
       "    </tr>\n",
       "    <tr>\n",
       "      <th>3</th>\n",
       "      <td>Wii Sports Resort</td>\n",
       "      <td>NA</td>\n",
       "      <td>15.75</td>\n",
       "    </tr>\n",
       "    <tr>\n",
       "      <th>4</th>\n",
       "      <td>Pokemon Red/Pokemon Blue</td>\n",
       "      <td>NA</td>\n",
       "      <td>11.27</td>\n",
       "    </tr>\n",
       "  </tbody>\n",
       "</table>\n",
       "</div>"
      ],
      "text/plain": [
       "                       Name variable  value\n",
       "0                Wii Sports       NA  41.49\n",
       "1         Super Mario Bros.       NA  29.08\n",
       "2            Mario Kart Wii       NA  15.85\n",
       "3         Wii Sports Resort       NA  15.75\n",
       "4  Pokemon Red/Pokemon Blue       NA  11.27"
      ]
     },
     "execution_count": 59,
     "metadata": {},
     "output_type": "execute_result"
    }
   ],
   "source": [
    "video_game_sales.melt(id_vars = \"Name\", value_vars = \"NA\").head()"
   ]
  },
  {
   "cell_type": "markdown",
   "id": "872b8c22",
   "metadata": {},
   "source": [
    "Next, let’s melt all four of the regional sales columns. \n",
    "\n",
    "The next code sample passes the <code>value_vars</code> parameter a list of the four regional sales columns from video_game_sales:"
   ]
  },
  {
   "cell_type": "code",
   "execution_count": 60,
   "id": "6772863a",
   "metadata": {},
   "outputs": [
    {
     "data": {
      "text/html": [
       "<div>\n",
       "<style scoped>\n",
       "    .dataframe tbody tr th:only-of-type {\n",
       "        vertical-align: middle;\n",
       "    }\n",
       "\n",
       "    .dataframe tbody tr th {\n",
       "        vertical-align: top;\n",
       "    }\n",
       "\n",
       "    .dataframe thead th {\n",
       "        text-align: right;\n",
       "    }\n",
       "</style>\n",
       "<table border=\"1\" class=\"dataframe\">\n",
       "  <thead>\n",
       "    <tr style=\"text-align: right;\">\n",
       "      <th></th>\n",
       "      <th>Name</th>\n",
       "      <th>variable</th>\n",
       "      <th>value</th>\n",
       "    </tr>\n",
       "  </thead>\n",
       "  <tbody>\n",
       "    <tr>\n",
       "      <th>0</th>\n",
       "      <td>Wii Sports</td>\n",
       "      <td>NA</td>\n",
       "      <td>41.49</td>\n",
       "    </tr>\n",
       "    <tr>\n",
       "      <th>1</th>\n",
       "      <td>Super Mario Bros.</td>\n",
       "      <td>NA</td>\n",
       "      <td>29.08</td>\n",
       "    </tr>\n",
       "    <tr>\n",
       "      <th>2</th>\n",
       "      <td>Mario Kart Wii</td>\n",
       "      <td>NA</td>\n",
       "      <td>15.85</td>\n",
       "    </tr>\n",
       "    <tr>\n",
       "      <th>3</th>\n",
       "      <td>Wii Sports Resort</td>\n",
       "      <td>NA</td>\n",
       "      <td>15.75</td>\n",
       "    </tr>\n",
       "    <tr>\n",
       "      <th>4</th>\n",
       "      <td>Pokemon Red/Pokemon Blue</td>\n",
       "      <td>NA</td>\n",
       "      <td>11.27</td>\n",
       "    </tr>\n",
       "    <tr>\n",
       "      <th>...</th>\n",
       "      <td>...</td>\n",
       "      <td>...</td>\n",
       "      <td>...</td>\n",
       "    </tr>\n",
       "    <tr>\n",
       "      <th>66259</th>\n",
       "      <td>Woody Woodpecker in Crazy Castle 5</td>\n",
       "      <td>Other</td>\n",
       "      <td>0.00</td>\n",
       "    </tr>\n",
       "    <tr>\n",
       "      <th>66260</th>\n",
       "      <td>Men in Black II: Alien Escape</td>\n",
       "      <td>Other</td>\n",
       "      <td>0.00</td>\n",
       "    </tr>\n",
       "    <tr>\n",
       "      <th>66261</th>\n",
       "      <td>SCORE International Baja 1000: The Official Game</td>\n",
       "      <td>Other</td>\n",
       "      <td>0.00</td>\n",
       "    </tr>\n",
       "    <tr>\n",
       "      <th>66262</th>\n",
       "      <td>Know How 2</td>\n",
       "      <td>Other</td>\n",
       "      <td>0.00</td>\n",
       "    </tr>\n",
       "    <tr>\n",
       "      <th>66263</th>\n",
       "      <td>Spirits &amp; Spells</td>\n",
       "      <td>Other</td>\n",
       "      <td>0.00</td>\n",
       "    </tr>\n",
       "  </tbody>\n",
       "</table>\n",
       "<p>66264 rows × 3 columns</p>\n",
       "</div>"
      ],
      "text/plain": [
       "                                                   Name variable  value\n",
       "0                                            Wii Sports       NA  41.49\n",
       "1                                     Super Mario Bros.       NA  29.08\n",
       "2                                        Mario Kart Wii       NA  15.85\n",
       "3                                     Wii Sports Resort       NA  15.75\n",
       "4                              Pokemon Red/Pokemon Blue       NA  11.27\n",
       "...                                                 ...      ...    ...\n",
       "66259                Woody Woodpecker in Crazy Castle 5    Other   0.00\n",
       "66260                     Men in Black II: Alien Escape    Other   0.00\n",
       "66261  SCORE International Baja 1000: The Official Game    Other   0.00\n",
       "66262                                        Know How 2    Other   0.00\n",
       "66263                                  Spirits & Spells    Other   0.00\n",
       "\n",
       "[66264 rows x 3 columns]"
      ]
     },
     "execution_count": 60,
     "metadata": {},
     "output_type": "execute_result"
    }
   ],
   "source": [
    "regional_sales_columns = [\"NA\", \"EU\", \"JP\", \"Other\"]\n",
    "\n",
    "video_game_sales.melt(id_vars = \"Name\", value_vars = regional_sales_columns)"
   ]
  },
  {
   "cell_type": "markdown",
   "id": "51e68daa",
   "metadata": {},
   "source": [
    "We can customize the melted <code>DataFrame</code>’s column names by passing arguments to the <code>var_name</code> and <code>value_name</code> parameters. \n",
    "\n",
    "The next example uses Region for the variable column and Sales for the value column:"
   ]
  },
  {
   "cell_type": "code",
   "execution_count": 61,
   "id": "cac3c521",
   "metadata": {},
   "outputs": [
    {
     "data": {
      "text/html": [
       "<div>\n",
       "<style scoped>\n",
       "    .dataframe tbody tr th:only-of-type {\n",
       "        vertical-align: middle;\n",
       "    }\n",
       "\n",
       "    .dataframe tbody tr th {\n",
       "        vertical-align: top;\n",
       "    }\n",
       "\n",
       "    .dataframe thead th {\n",
       "        text-align: right;\n",
       "    }\n",
       "</style>\n",
       "<table border=\"1\" class=\"dataframe\">\n",
       "  <thead>\n",
       "    <tr style=\"text-align: right;\">\n",
       "      <th></th>\n",
       "      <th>Name</th>\n",
       "      <th>Region</th>\n",
       "      <th>Sales</th>\n",
       "    </tr>\n",
       "  </thead>\n",
       "  <tbody>\n",
       "    <tr>\n",
       "      <th>0</th>\n",
       "      <td>Wii Sports</td>\n",
       "      <td>NA</td>\n",
       "      <td>41.49</td>\n",
       "    </tr>\n",
       "    <tr>\n",
       "      <th>1</th>\n",
       "      <td>Super Mario Bros.</td>\n",
       "      <td>NA</td>\n",
       "      <td>29.08</td>\n",
       "    </tr>\n",
       "    <tr>\n",
       "      <th>2</th>\n",
       "      <td>Mario Kart Wii</td>\n",
       "      <td>NA</td>\n",
       "      <td>15.85</td>\n",
       "    </tr>\n",
       "    <tr>\n",
       "      <th>3</th>\n",
       "      <td>Wii Sports Resort</td>\n",
       "      <td>NA</td>\n",
       "      <td>15.75</td>\n",
       "    </tr>\n",
       "    <tr>\n",
       "      <th>4</th>\n",
       "      <td>Pokemon Red/Pokemon Blue</td>\n",
       "      <td>NA</td>\n",
       "      <td>11.27</td>\n",
       "    </tr>\n",
       "  </tbody>\n",
       "</table>\n",
       "</div>"
      ],
      "text/plain": [
       "                       Name Region  Sales\n",
       "0                Wii Sports     NA  41.49\n",
       "1         Super Mario Bros.     NA  29.08\n",
       "2            Mario Kart Wii     NA  15.85\n",
       "3         Wii Sports Resort     NA  15.75\n",
       "4  Pokemon Red/Pokemon Blue     NA  11.27"
      ]
     },
     "execution_count": 61,
     "metadata": {},
     "output_type": "execute_result"
    }
   ],
   "source": [
    "video_game_sales_by_region = video_game_sales.melt(\n",
    "                                id_vars = \"Name\",\n",
    "                                value_vars = regional_sales_columns,\n",
    "                                var_name = \"Region\",\n",
    "                                value_name = \"Sales\"\n",
    "                                )\n",
    "video_game_sales_by_region.head()"
   ]
  },
  {
   "cell_type": "markdown",
   "id": "ac5e030d",
   "metadata": {},
   "source": [
    "# The GroupBy object\n",
    "\n",
    "The pandas library’s <code>GroupBy</code> object is a storage container for grouping <code>DataFrame</code> rows into buckets. \n",
    "\n",
    "It provides a set of methods to aggregate and analyze each independent group in the collection. "
   ]
  },
  {
   "cell_type": "markdown",
   "id": "cb61e402",
   "metadata": {},
   "source": [
    "Let’s begin by creating a <code>DataFrame</code> that stores the prices of fruits and vegetables in a supermarket:"
   ]
  },
  {
   "cell_type": "code",
   "execution_count": 62,
   "id": "67d64c99",
   "metadata": {},
   "outputs": [
    {
     "data": {
      "text/html": [
       "<div>\n",
       "<style scoped>\n",
       "    .dataframe tbody tr th:only-of-type {\n",
       "        vertical-align: middle;\n",
       "    }\n",
       "\n",
       "    .dataframe tbody tr th {\n",
       "        vertical-align: top;\n",
       "    }\n",
       "\n",
       "    .dataframe thead th {\n",
       "        text-align: right;\n",
       "    }\n",
       "</style>\n",
       "<table border=\"1\" class=\"dataframe\">\n",
       "  <thead>\n",
       "    <tr style=\"text-align: right;\">\n",
       "      <th></th>\n",
       "      <th>Item</th>\n",
       "      <th>Type</th>\n",
       "      <th>Price</th>\n",
       "    </tr>\n",
       "  </thead>\n",
       "  <tbody>\n",
       "    <tr>\n",
       "      <th>0</th>\n",
       "      <td>Banana</td>\n",
       "      <td>Fruit</td>\n",
       "      <td>0.99</td>\n",
       "    </tr>\n",
       "    <tr>\n",
       "      <th>1</th>\n",
       "      <td>Cucumber</td>\n",
       "      <td>Vegetable</td>\n",
       "      <td>1.25</td>\n",
       "    </tr>\n",
       "    <tr>\n",
       "      <th>2</th>\n",
       "      <td>Orange</td>\n",
       "      <td>Fruit</td>\n",
       "      <td>0.25</td>\n",
       "    </tr>\n",
       "    <tr>\n",
       "      <th>3</th>\n",
       "      <td>Tomato</td>\n",
       "      <td>Vegetable</td>\n",
       "      <td>0.33</td>\n",
       "    </tr>\n",
       "    <tr>\n",
       "      <th>4</th>\n",
       "      <td>Watermelon</td>\n",
       "      <td>Fruit</td>\n",
       "      <td>3.00</td>\n",
       "    </tr>\n",
       "  </tbody>\n",
       "</table>\n",
       "</div>"
      ],
      "text/plain": [
       "         Item       Type  Price\n",
       "0      Banana      Fruit   0.99\n",
       "1    Cucumber  Vegetable   1.25\n",
       "2      Orange      Fruit   0.25\n",
       "3      Tomato  Vegetable   0.33\n",
       "4  Watermelon      Fruit   3.00"
      ]
     },
     "execution_count": 62,
     "metadata": {},
     "output_type": "execute_result"
    }
   ],
   "source": [
    "food_data = {\n",
    "            \"Item\": [\"Banana\", \"Cucumber\", \"Orange\", \"Tomato\", \"Watermelon\"],\n",
    "            \"Type\": [\"Fruit\", \"Vegetable\", \"Fruit\", \"Vegetable\", \"Fruit\"],\n",
    "            \"Price\": [0.99, 1.25, 0.25, 0.33, 3.00]\n",
    "            }\n",
    "supermarket = pd.DataFrame(data = food_data)\n",
    "supermarket"
   ]
  },
  {
   "cell_type": "markdown",
   "id": "14427749",
   "metadata": {},
   "source": [
    "The Type column identifies the group to which an Item belongs. \n",
    "\n",
    "There are two groups of items in the supermarket data set: fruits and vegetables. \n",
    "\n",
    "We can use terms such as *groups*, *buckets*, and *clusters* interchangeably to describe the same idea. \n",
    "\n",
    "Multiple rows fall into the same category."
   ]
  },
  {
   "cell_type": "markdown",
   "id": "2261c625",
   "metadata": {},
   "source": [
    "The <code>GroupBy</code> object organizes <code>DataFrame</code> rows into buckets based on shared values in a column.\n",
    "\n",
    "Let’s begin by invoking the <code>groupby</code> method on the supermarket <code>DataFrame</code>. \n",
    "\n",
    "We need to pass it the column whose values pandas will use to create the groups."
   ]
  },
  {
   "cell_type": "code",
   "execution_count": 63,
   "id": "239669eb",
   "metadata": {},
   "outputs": [
    {
     "data": {
      "text/plain": [
       "<pandas.core.groupby.generic.DataFrameGroupBy object at 0x7f87ee043c10>"
      ]
     },
     "execution_count": 63,
     "metadata": {},
     "output_type": "execute_result"
    }
   ],
   "source": [
    "groups = supermarket.groupby(\"Type\")\n",
    "groups"
   ]
  },
  {
   "cell_type": "markdown",
   "id": "664f3eb6",
   "metadata": {},
   "source": [
    "The <code>get_group</code> method accepts a group name and returns a <code>DataFrame</code> with the\n",
    "corresponding rows. Let’s pull out the \"<code>Fruit</code>\" rows:"
   ]
  },
  {
   "cell_type": "code",
   "execution_count": 64,
   "id": "d694c05b",
   "metadata": {},
   "outputs": [
    {
     "data": {
      "text/html": [
       "<div>\n",
       "<style scoped>\n",
       "    .dataframe tbody tr th:only-of-type {\n",
       "        vertical-align: middle;\n",
       "    }\n",
       "\n",
       "    .dataframe tbody tr th {\n",
       "        vertical-align: top;\n",
       "    }\n",
       "\n",
       "    .dataframe thead th {\n",
       "        text-align: right;\n",
       "    }\n",
       "</style>\n",
       "<table border=\"1\" class=\"dataframe\">\n",
       "  <thead>\n",
       "    <tr style=\"text-align: right;\">\n",
       "      <th></th>\n",
       "      <th>Item</th>\n",
       "      <th>Type</th>\n",
       "      <th>Price</th>\n",
       "    </tr>\n",
       "  </thead>\n",
       "  <tbody>\n",
       "    <tr>\n",
       "      <th>0</th>\n",
       "      <td>Banana</td>\n",
       "      <td>Fruit</td>\n",
       "      <td>0.99</td>\n",
       "    </tr>\n",
       "    <tr>\n",
       "      <th>2</th>\n",
       "      <td>Orange</td>\n",
       "      <td>Fruit</td>\n",
       "      <td>0.25</td>\n",
       "    </tr>\n",
       "    <tr>\n",
       "      <th>4</th>\n",
       "      <td>Watermelon</td>\n",
       "      <td>Fruit</td>\n",
       "      <td>3.00</td>\n",
       "    </tr>\n",
       "  </tbody>\n",
       "</table>\n",
       "</div>"
      ],
      "text/plain": [
       "         Item   Type  Price\n",
       "0      Banana  Fruit   0.99\n",
       "2      Orange  Fruit   0.25\n",
       "4  Watermelon  Fruit   3.00"
      ]
     },
     "execution_count": 64,
     "metadata": {},
     "output_type": "execute_result"
    }
   ],
   "source": [
    "groups.get_group(\"Fruit\")"
   ]
  },
  {
   "cell_type": "code",
   "execution_count": 65,
   "id": "a2d40c4a",
   "metadata": {},
   "outputs": [
    {
     "data": {
      "text/html": [
       "<div>\n",
       "<style scoped>\n",
       "    .dataframe tbody tr th:only-of-type {\n",
       "        vertical-align: middle;\n",
       "    }\n",
       "\n",
       "    .dataframe tbody tr th {\n",
       "        vertical-align: top;\n",
       "    }\n",
       "\n",
       "    .dataframe thead th {\n",
       "        text-align: right;\n",
       "    }\n",
       "</style>\n",
       "<table border=\"1\" class=\"dataframe\">\n",
       "  <thead>\n",
       "    <tr style=\"text-align: right;\">\n",
       "      <th></th>\n",
       "      <th>Item</th>\n",
       "      <th>Type</th>\n",
       "      <th>Price</th>\n",
       "    </tr>\n",
       "  </thead>\n",
       "  <tbody>\n",
       "    <tr>\n",
       "      <th>1</th>\n",
       "      <td>Cucumber</td>\n",
       "      <td>Vegetable</td>\n",
       "      <td>1.25</td>\n",
       "    </tr>\n",
       "    <tr>\n",
       "      <th>3</th>\n",
       "      <td>Tomato</td>\n",
       "      <td>Vegetable</td>\n",
       "      <td>0.33</td>\n",
       "    </tr>\n",
       "  </tbody>\n",
       "</table>\n",
       "</div>"
      ],
      "text/plain": [
       "       Item       Type  Price\n",
       "1  Cucumber  Vegetable   1.25\n",
       "3    Tomato  Vegetable   0.33"
      ]
     },
     "execution_count": 65,
     "metadata": {},
     "output_type": "execute_result"
    }
   ],
   "source": [
    "groups.get_group(\"Vegetable\")"
   ]
  },
  {
   "cell_type": "markdown",
   "id": "6d85c5e1",
   "metadata": {},
   "source": [
    "The <code>GroupBy</code> object excels at aggregate operations. Our original goal was to calculate the average price of the fruits and vegetables in supermarket."
   ]
  },
  {
   "cell_type": "code",
   "execution_count": 68,
   "id": "a3c75564",
   "metadata": {},
   "outputs": [
    {
     "data": {
      "text/html": [
       "<div>\n",
       "<style scoped>\n",
       "    .dataframe tbody tr th:only-of-type {\n",
       "        vertical-align: middle;\n",
       "    }\n",
       "\n",
       "    .dataframe tbody tr th {\n",
       "        vertical-align: top;\n",
       "    }\n",
       "\n",
       "    .dataframe thead th {\n",
       "        text-align: right;\n",
       "    }\n",
       "</style>\n",
       "<table border=\"1\" class=\"dataframe\">\n",
       "  <thead>\n",
       "    <tr style=\"text-align: right;\">\n",
       "      <th></th>\n",
       "      <th>Price</th>\n",
       "    </tr>\n",
       "    <tr>\n",
       "      <th>Type</th>\n",
       "      <th></th>\n",
       "    </tr>\n",
       "  </thead>\n",
       "  <tbody>\n",
       "    <tr>\n",
       "      <th>Fruit</th>\n",
       "      <td>1.413333</td>\n",
       "    </tr>\n",
       "    <tr>\n",
       "      <th>Vegetable</th>\n",
       "      <td>0.790000</td>\n",
       "    </tr>\n",
       "  </tbody>\n",
       "</table>\n",
       "</div>"
      ],
      "text/plain": [
       "              Price\n",
       "Type               \n",
       "Fruit      1.413333\n",
       "Vegetable  0.790000"
      ]
     },
     "execution_count": 68,
     "metadata": {},
     "output_type": "execute_result"
    }
   ],
   "source": [
    "groups.mean()"
   ]
  },
  {
   "cell_type": "markdown",
   "id": "8986a6e7",
   "metadata": {},
   "source": [
    "## Creating a GroupBy object from a data set\n",
    "\n",
    "The Fortune 1000 is a listing of the 1,000 largest companies in the United States by revenue. \n",
    "\n",
    "The <code>fortune1000.csv</code> file is a collection of Fortune 1000 companies from 2018. \n",
    "\n",
    "Each row includes a company’s name, revenue, profits, employee count, sector, and industry:"
   ]
  },
  {
   "cell_type": "code",
   "execution_count": 69,
   "id": "fa82a374",
   "metadata": {},
   "outputs": [
    {
     "data": {
      "text/html": [
       "<div>\n",
       "<style scoped>\n",
       "    .dataframe tbody tr th:only-of-type {\n",
       "        vertical-align: middle;\n",
       "    }\n",
       "\n",
       "    .dataframe tbody tr th {\n",
       "        vertical-align: top;\n",
       "    }\n",
       "\n",
       "    .dataframe thead th {\n",
       "        text-align: right;\n",
       "    }\n",
       "</style>\n",
       "<table border=\"1\" class=\"dataframe\">\n",
       "  <thead>\n",
       "    <tr style=\"text-align: right;\">\n",
       "      <th></th>\n",
       "      <th>Company</th>\n",
       "      <th>Revenues</th>\n",
       "      <th>Profits</th>\n",
       "      <th>Employees</th>\n",
       "      <th>Sector</th>\n",
       "      <th>Industry</th>\n",
       "    </tr>\n",
       "  </thead>\n",
       "  <tbody>\n",
       "    <tr>\n",
       "      <th>0</th>\n",
       "      <td>Walmart</td>\n",
       "      <td>500343.0</td>\n",
       "      <td>9862.0</td>\n",
       "      <td>2300000</td>\n",
       "      <td>Retailing</td>\n",
       "      <td>General Merchandisers</td>\n",
       "    </tr>\n",
       "    <tr>\n",
       "      <th>1</th>\n",
       "      <td>Exxon Mobil</td>\n",
       "      <td>244363.0</td>\n",
       "      <td>19710.0</td>\n",
       "      <td>71200</td>\n",
       "      <td>Energy</td>\n",
       "      <td>Petroleum Refining</td>\n",
       "    </tr>\n",
       "    <tr>\n",
       "      <th>2</th>\n",
       "      <td>Berkshire Hathaway</td>\n",
       "      <td>242137.0</td>\n",
       "      <td>44940.0</td>\n",
       "      <td>377000</td>\n",
       "      <td>Financials</td>\n",
       "      <td>Insurance: Property and Casualty (Stock)</td>\n",
       "    </tr>\n",
       "    <tr>\n",
       "      <th>3</th>\n",
       "      <td>Apple</td>\n",
       "      <td>229234.0</td>\n",
       "      <td>48351.0</td>\n",
       "      <td>123000</td>\n",
       "      <td>Technology</td>\n",
       "      <td>Computers, Office Equipment</td>\n",
       "    </tr>\n",
       "    <tr>\n",
       "      <th>4</th>\n",
       "      <td>UnitedHealth Group</td>\n",
       "      <td>201159.0</td>\n",
       "      <td>10558.0</td>\n",
       "      <td>260000</td>\n",
       "      <td>Health Care</td>\n",
       "      <td>Health Care: Insurance and Managed Care</td>\n",
       "    </tr>\n",
       "    <tr>\n",
       "      <th>...</th>\n",
       "      <td>...</td>\n",
       "      <td>...</td>\n",
       "      <td>...</td>\n",
       "      <td>...</td>\n",
       "      <td>...</td>\n",
       "      <td>...</td>\n",
       "    </tr>\n",
       "    <tr>\n",
       "      <th>995</th>\n",
       "      <td>SiteOne Landscape Supply</td>\n",
       "      <td>1862.0</td>\n",
       "      <td>54.6</td>\n",
       "      <td>3664</td>\n",
       "      <td>Wholesalers</td>\n",
       "      <td>Wholesalers: Diversified</td>\n",
       "    </tr>\n",
       "    <tr>\n",
       "      <th>996</th>\n",
       "      <td>Charles River Laboratories Intl</td>\n",
       "      <td>1858.0</td>\n",
       "      <td>123.4</td>\n",
       "      <td>11800</td>\n",
       "      <td>Health Care</td>\n",
       "      <td>Health Care: Pharmacy and Other Services</td>\n",
       "    </tr>\n",
       "    <tr>\n",
       "      <th>997</th>\n",
       "      <td>CoreLogic</td>\n",
       "      <td>1851.0</td>\n",
       "      <td>152.2</td>\n",
       "      <td>5900</td>\n",
       "      <td>Business Services</td>\n",
       "      <td>Financial Data Services</td>\n",
       "    </tr>\n",
       "    <tr>\n",
       "      <th>998</th>\n",
       "      <td>Ensign Group</td>\n",
       "      <td>1849.0</td>\n",
       "      <td>40.5</td>\n",
       "      <td>21301</td>\n",
       "      <td>Health Care</td>\n",
       "      <td>Health Care: Medical Facilities</td>\n",
       "    </tr>\n",
       "    <tr>\n",
       "      <th>999</th>\n",
       "      <td>HCP</td>\n",
       "      <td>1848.0</td>\n",
       "      <td>414.2</td>\n",
       "      <td>190</td>\n",
       "      <td>Financials</td>\n",
       "      <td>Real estate</td>\n",
       "    </tr>\n",
       "  </tbody>\n",
       "</table>\n",
       "<p>1000 rows × 6 columns</p>\n",
       "</div>"
      ],
      "text/plain": [
       "                             Company  Revenues  Profits  Employees  \\\n",
       "0                            Walmart  500343.0   9862.0    2300000   \n",
       "1                        Exxon Mobil  244363.0  19710.0      71200   \n",
       "2                 Berkshire Hathaway  242137.0  44940.0     377000   \n",
       "3                              Apple  229234.0  48351.0     123000   \n",
       "4                 UnitedHealth Group  201159.0  10558.0     260000   \n",
       "..                               ...       ...      ...        ...   \n",
       "995         SiteOne Landscape Supply    1862.0     54.6       3664   \n",
       "996  Charles River Laboratories Intl    1858.0    123.4      11800   \n",
       "997                        CoreLogic    1851.0    152.2       5900   \n",
       "998                     Ensign Group    1849.0     40.5      21301   \n",
       "999                              HCP    1848.0    414.2        190   \n",
       "\n",
       "                Sector                                  Industry  \n",
       "0            Retailing                     General Merchandisers  \n",
       "1               Energy                        Petroleum Refining  \n",
       "2           Financials  Insurance: Property and Casualty (Stock)  \n",
       "3           Technology               Computers, Office Equipment  \n",
       "4          Health Care   Health Care: Insurance and Managed Care  \n",
       "..                 ...                                       ...  \n",
       "995        Wholesalers                  Wholesalers: Diversified  \n",
       "996        Health Care  Health Care: Pharmacy and Other Services  \n",
       "997  Business Services                   Financial Data Services  \n",
       "998        Health Care           Health Care: Medical Facilities  \n",
       "999         Financials                               Real estate  \n",
       "\n",
       "[1000 rows x 6 columns]"
      ]
     },
     "execution_count": 69,
     "metadata": {},
     "output_type": "execute_result"
    }
   ],
   "source": [
    "fortune = pd.read_csv(\"../data/fortune1000.csv\")\n",
    "fortune"
   ]
  },
  {
   "cell_type": "markdown",
   "id": "3a5a541e",
   "metadata": {},
   "source": [
    "The Sector column holds 21 unique sectors. \n",
    "\n",
    "Suppose that we want to find the average revenue across the companies within each sector.\n",
    "\n",
    "Let’s invoke the <code>groupby</code> method on the fortune <code>DataFrame</code>. \n",
    "\n",
    "The method accepts the column whose values pandas will use to group the rows."
   ]
  },
  {
   "cell_type": "code",
   "execution_count": 71,
   "id": "084b4566",
   "metadata": {},
   "outputs": [
    {
     "data": {
      "text/plain": [
       "<pandas.core.groupby.generic.DataFrameGroupBy object at 0x7f87ee062490>"
      ]
     },
     "execution_count": 71,
     "metadata": {},
     "output_type": "execute_result"
    }
   ],
   "source": [
    "sectors = fortune.groupby(\"Sector\")\n",
    "sectors"
   ]
  },
  {
   "cell_type": "markdown",
   "id": "366e6ec5",
   "metadata": {},
   "source": [
    "A <code>DataFrameGroupBy</code> object is a bundle of <code>DataFrame</code>s. \n",
    "    \n",
    "Behind the scenes, pandas repeated the extraction process we used for the \"Retailing\" sector but for all 21 values in the Sector column.\n",
    "\n",
    "We can count the number of groups in sectors by passing the GroupBy object into Python’s built-in <code>len</code> function:"
   ]
  },
  {
   "cell_type": "code",
   "execution_count": 72,
   "id": "3d65d287",
   "metadata": {},
   "outputs": [
    {
     "data": {
      "text/plain": [
       "21"
      ]
     },
     "execution_count": 72,
     "metadata": {},
     "output_type": "execute_result"
    }
   ],
   "source": [
    "len(sectors)"
   ]
  },
  {
   "cell_type": "markdown",
   "id": "1e93f23c",
   "metadata": {},
   "source": [
    "The sectors <code>GroupBy</code> object has 21 <code>DataFrame</code>s. \n",
    "\n",
    "The number is equal to the number of unique values in fortune ’s Sector column.\n",
    "\n",
    "The <code>size</code> method on the <code>GroupBy</code> object returns a <code>Series</code> with an alphabetical list of the groups and their row counts."
   ]
  },
  {
   "cell_type": "code",
   "execution_count": 77,
   "id": "0333ad22",
   "metadata": {},
   "outputs": [
    {
     "data": {
      "text/plain": [
       "Sector\n",
       "Aerospace & Defense               25\n",
       "Apparel                           14\n",
       "Business Services                 53\n",
       "Chemicals                         33\n",
       "Energy                           107\n",
       "Engineering & Construction        27\n",
       "Financials                       155\n",
       "Food &  Drug Stores               12\n",
       "Food, Beverages & Tobacco         37\n",
       "Health Care                       71\n",
       "Hotels, Restaurants & Leisure     26\n",
       "Household Products                28\n",
       "Industrials                       49\n",
       "Materials                         45\n",
       "Media                             25\n",
       "Motor Vehicles & Parts            19\n",
       "Retailing                         77\n",
       "Technology                       103\n",
       "Telecommunications                10\n",
       "Transportation                    40\n",
       "Wholesalers                       44\n",
       "dtype: int64"
      ]
     },
     "execution_count": 77,
     "metadata": {},
     "output_type": "execute_result"
    }
   ],
   "source": [
    "sectors.size()"
   ]
  },
  {
   "cell_type": "markdown",
   "id": "53a1cbea",
   "metadata": {},
   "source": [
    "## Attributes  of a <code>GroupBy</code> object\n",
    "\n",
    "One way to visualize our <code>GroupBy</code> object is as a dictionary that maps the 21 sectors to a collection of fortune rows belonging to each one. \n",
    "\n",
    "The <code>groups</code> attribute stores a dictionary with these group-to-row associations; its keys are sector names, and its values are <code>Index</code> objects storing the row index positions from the fortune <code>DataFrame</code> ."
   ]
  },
  {
   "cell_type": "code",
   "execution_count": 81,
   "id": "726478a1",
   "metadata": {},
   "outputs": [
    {
     "data": {
      "text/plain": [
       "Int64Index([ 26,  50,  58,  98, 117, 118, 207, 224, 275, 380, 404, 406, 414,\n",
       "            540, 660, 661, 806, 829, 884, 930, 954, 955, 959, 975, 988],\n",
       "           dtype='int64')"
      ]
     },
     "execution_count": 81,
     "metadata": {},
     "output_type": "execute_result"
    }
   ],
   "source": [
    "sectors.groups['Aerospace & Defense']"
   ]
  },
  {
   "cell_type": "markdown",
   "id": "3b563d13",
   "metadata": {},
   "source": [
    "## Aggregate operations\n",
    "\n",
    "We can invoke methods on the <code>GroupBy</code> object to apply aggregate operations to every nested group. \n",
    "\n",
    "In the next example, the <code>sum</code> method calculates the sum per sector for the three numeric columns (Revenues, Profits, and Employees) in the fortune <code>DataFrame</code> ."
   ]
  },
  {
   "cell_type": "code",
   "execution_count": 83,
   "id": "a2dcbeb2",
   "metadata": {},
   "outputs": [
    {
     "data": {
      "text/html": [
       "<div>\n",
       "<style scoped>\n",
       "    .dataframe tbody tr th:only-of-type {\n",
       "        vertical-align: middle;\n",
       "    }\n",
       "\n",
       "    .dataframe tbody tr th {\n",
       "        vertical-align: top;\n",
       "    }\n",
       "\n",
       "    .dataframe thead th {\n",
       "        text-align: right;\n",
       "    }\n",
       "</style>\n",
       "<table border=\"1\" class=\"dataframe\">\n",
       "  <thead>\n",
       "    <tr style=\"text-align: right;\">\n",
       "      <th></th>\n",
       "      <th>Revenues</th>\n",
       "      <th>Profits</th>\n",
       "      <th>Employees</th>\n",
       "    </tr>\n",
       "    <tr>\n",
       "      <th>Sector</th>\n",
       "      <th></th>\n",
       "      <th></th>\n",
       "      <th></th>\n",
       "    </tr>\n",
       "  </thead>\n",
       "  <tbody>\n",
       "    <tr>\n",
       "      <th>Aerospace &amp; Defense</th>\n",
       "      <td>383835.0</td>\n",
       "      <td>26733.5</td>\n",
       "      <td>1010124</td>\n",
       "    </tr>\n",
       "    <tr>\n",
       "      <th>Apparel</th>\n",
       "      <td>101157.3</td>\n",
       "      <td>6350.7</td>\n",
       "      <td>355699</td>\n",
       "    </tr>\n",
       "    <tr>\n",
       "      <th>Business Services</th>\n",
       "      <td>316090.0</td>\n",
       "      <td>37179.2</td>\n",
       "      <td>1593999</td>\n",
       "    </tr>\n",
       "    <tr>\n",
       "      <th>Chemicals</th>\n",
       "      <td>251151.0</td>\n",
       "      <td>20475.0</td>\n",
       "      <td>474020</td>\n",
       "    </tr>\n",
       "    <tr>\n",
       "      <th>Energy</th>\n",
       "      <td>1543507.2</td>\n",
       "      <td>85369.6</td>\n",
       "      <td>981207</td>\n",
       "    </tr>\n",
       "  </tbody>\n",
       "</table>\n",
       "</div>"
      ],
      "text/plain": [
       "                      Revenues  Profits  Employees\n",
       "Sector                                            \n",
       "Aerospace & Defense   383835.0  26733.5    1010124\n",
       "Apparel               101157.3   6350.7     355699\n",
       "Business Services     316090.0  37179.2    1593999\n",
       "Chemicals             251151.0  20475.0     474020\n",
       "Energy               1543507.2  85369.6     981207"
      ]
     },
     "execution_count": 83,
     "metadata": {},
     "output_type": "execute_result"
    }
   ],
   "source": [
    "sectors.sum().head()"
   ]
  },
  {
   "cell_type": "code",
   "execution_count": 88,
   "id": "0d61715c",
   "metadata": {},
   "outputs": [
    {
     "data": {
      "text/plain": [
       "383835.0"
      ]
     },
     "execution_count": 88,
     "metadata": {},
     "output_type": "execute_result"
    }
   ],
   "source": [
    "sectors.get_group(\"Aerospace & Defense\")[\"Revenues\"].sum()"
   ]
  },
  {
   "cell_type": "markdown",
   "id": "8582f266",
   "metadata": {},
   "source": [
    "The <code>GroupBy</code> object supports many other aggregation methods. \n",
    "\n",
    "The next example invokes the <code>mean</code> method to calculate the average of the Revenues, Profits, and\n",
    "Employees columns per sector."
   ]
  },
  {
   "cell_type": "code",
   "execution_count": 89,
   "id": "391300a6",
   "metadata": {},
   "outputs": [
    {
     "data": {
      "text/html": [
       "<div>\n",
       "<style scoped>\n",
       "    .dataframe tbody tr th:only-of-type {\n",
       "        vertical-align: middle;\n",
       "    }\n",
       "\n",
       "    .dataframe tbody tr th {\n",
       "        vertical-align: top;\n",
       "    }\n",
       "\n",
       "    .dataframe thead th {\n",
       "        text-align: right;\n",
       "    }\n",
       "</style>\n",
       "<table border=\"1\" class=\"dataframe\">\n",
       "  <thead>\n",
       "    <tr style=\"text-align: right;\">\n",
       "      <th></th>\n",
       "      <th>Revenues</th>\n",
       "      <th>Profits</th>\n",
       "      <th>Employees</th>\n",
       "    </tr>\n",
       "    <tr>\n",
       "      <th>Sector</th>\n",
       "      <th></th>\n",
       "      <th></th>\n",
       "      <th></th>\n",
       "    </tr>\n",
       "  </thead>\n",
       "  <tbody>\n",
       "    <tr>\n",
       "      <th>Aerospace &amp; Defense</th>\n",
       "      <td>15353.400000</td>\n",
       "      <td>1069.340000</td>\n",
       "      <td>40404.960000</td>\n",
       "    </tr>\n",
       "    <tr>\n",
       "      <th>Apparel</th>\n",
       "      <td>7225.521429</td>\n",
       "      <td>453.621429</td>\n",
       "      <td>25407.071429</td>\n",
       "    </tr>\n",
       "    <tr>\n",
       "      <th>Business Services</th>\n",
       "      <td>5963.962264</td>\n",
       "      <td>701.494340</td>\n",
       "      <td>30075.452830</td>\n",
       "    </tr>\n",
       "    <tr>\n",
       "      <th>Chemicals</th>\n",
       "      <td>7610.636364</td>\n",
       "      <td>620.454545</td>\n",
       "      <td>14364.242424</td>\n",
       "    </tr>\n",
       "    <tr>\n",
       "      <th>Energy</th>\n",
       "      <td>14425.300935</td>\n",
       "      <td>805.373585</td>\n",
       "      <td>9170.158879</td>\n",
       "    </tr>\n",
       "  </tbody>\n",
       "</table>\n",
       "</div>"
      ],
      "text/plain": [
       "                         Revenues      Profits     Employees\n",
       "Sector                                                      \n",
       "Aerospace & Defense  15353.400000  1069.340000  40404.960000\n",
       "Apparel               7225.521429   453.621429  25407.071429\n",
       "Business Services     5963.962264   701.494340  30075.452830\n",
       "Chemicals             7610.636364   620.454545  14364.242424\n",
       "Energy               14425.300935   805.373585   9170.158879"
      ]
     },
     "execution_count": 89,
     "metadata": {},
     "output_type": "execute_result"
    }
   ],
   "source": [
    "sectors.mean().head()"
   ]
  },
  {
   "cell_type": "markdown",
   "id": "34477dce",
   "metadata": {},
   "source": [
    "We can target a single fortune column by passing its name inside square brackets after\n",
    "the <code>GroupBy</code> object. \n",
    "\n",
    "Pandas returns a new object, a <code>SeriesGroupBy</code> :"
   ]
  },
  {
   "cell_type": "code",
   "execution_count": 90,
   "id": "15a96d3c",
   "metadata": {},
   "outputs": [
    {
     "data": {
      "text/plain": [
       "<pandas.core.groupby.generic.SeriesGroupBy object at 0x7f87edc13650>"
      ]
     },
     "execution_count": 90,
     "metadata": {},
     "output_type": "execute_result"
    }
   ],
   "source": [
    "sectors[\"Revenues\"]"
   ]
  },
  {
   "cell_type": "code",
   "execution_count": 93,
   "id": "ccb1b065",
   "metadata": {},
   "outputs": [
    {
     "data": {
      "text/plain": [
       "Sector\n",
       "Aerospace & Defense     383835.0\n",
       "Apparel                 101157.3\n",
       "Business Services       316090.0\n",
       "Chemicals               251151.0\n",
       "Energy                 1543507.2\n",
       "Name: Revenues, dtype: float64"
      ]
     },
     "execution_count": 93,
     "metadata": {},
     "output_type": "execute_result"
    }
   ],
   "source": [
    "sectors[\"Revenues\"].sum().head()"
   ]
  },
  {
   "cell_type": "markdown",
   "id": "be8accdc",
   "metadata": {},
   "source": [
    "The next example calculates the average number of employees per sector:"
   ]
  },
  {
   "cell_type": "code",
   "execution_count": 92,
   "id": "fd310fd8",
   "metadata": {},
   "outputs": [
    {
     "data": {
      "text/plain": [
       "Sector\n",
       "Aerospace & Defense    40404.960000\n",
       "Apparel                25407.071429\n",
       "Business Services      30075.452830\n",
       "Chemicals              14364.242424\n",
       "Energy                  9170.158879\n",
       "Name: Employees, dtype: float64"
      ]
     },
     "execution_count": 92,
     "metadata": {},
     "output_type": "execute_result"
    }
   ],
   "source": [
    "sectors[\"Employees\"].mean().head()"
   ]
  },
  {
   "cell_type": "markdown",
   "id": "bf9a413a",
   "metadata": {},
   "source": [
    "The <code>agg</code> method applies multiple aggregate operations to different columns and accepts a dictionary as its argument. \n",
    "\n",
    "In each key-value pair, the key denotes a <code>DataFrame</code> column, and the value specifies the aggregate operation to apply to the column. \n",
    "\n",
    "The next example extracts the lowest revenue, highest profit, and average number of employees for each sector:"
   ]
  },
  {
   "cell_type": "code",
   "execution_count": 94,
   "id": "8ecb0e59",
   "metadata": {},
   "outputs": [
    {
     "data": {
      "text/html": [
       "<div>\n",
       "<style scoped>\n",
       "    .dataframe tbody tr th:only-of-type {\n",
       "        vertical-align: middle;\n",
       "    }\n",
       "\n",
       "    .dataframe tbody tr th {\n",
       "        vertical-align: top;\n",
       "    }\n",
       "\n",
       "    .dataframe thead th {\n",
       "        text-align: right;\n",
       "    }\n",
       "</style>\n",
       "<table border=\"1\" class=\"dataframe\">\n",
       "  <thead>\n",
       "    <tr style=\"text-align: right;\">\n",
       "      <th></th>\n",
       "      <th>Revenues</th>\n",
       "      <th>Profits</th>\n",
       "      <th>Employees</th>\n",
       "    </tr>\n",
       "    <tr>\n",
       "      <th>Sector</th>\n",
       "      <th></th>\n",
       "      <th></th>\n",
       "      <th></th>\n",
       "    </tr>\n",
       "  </thead>\n",
       "  <tbody>\n",
       "    <tr>\n",
       "      <th>Aerospace &amp; Defense</th>\n",
       "      <td>1877.0</td>\n",
       "      <td>8197.0</td>\n",
       "      <td>40404.960000</td>\n",
       "    </tr>\n",
       "    <tr>\n",
       "      <th>Apparel</th>\n",
       "      <td>2350.0</td>\n",
       "      <td>4240.0</td>\n",
       "      <td>25407.071429</td>\n",
       "    </tr>\n",
       "    <tr>\n",
       "      <th>Business Services</th>\n",
       "      <td>1851.0</td>\n",
       "      <td>6699.0</td>\n",
       "      <td>30075.452830</td>\n",
       "    </tr>\n",
       "    <tr>\n",
       "      <th>Chemicals</th>\n",
       "      <td>1925.0</td>\n",
       "      <td>3000.4</td>\n",
       "      <td>14364.242424</td>\n",
       "    </tr>\n",
       "    <tr>\n",
       "      <th>Energy</th>\n",
       "      <td>1874.0</td>\n",
       "      <td>19710.0</td>\n",
       "      <td>9170.158879</td>\n",
       "    </tr>\n",
       "  </tbody>\n",
       "</table>\n",
       "</div>"
      ],
      "text/plain": [
       "                     Revenues  Profits     Employees\n",
       "Sector                                              \n",
       "Aerospace & Defense    1877.0   8197.0  40404.960000\n",
       "Apparel                2350.0   4240.0  25407.071429\n",
       "Business Services      1851.0   6699.0  30075.452830\n",
       "Chemicals              1925.0   3000.4  14364.242424\n",
       "Energy                 1874.0  19710.0   9170.158879"
      ]
     },
     "execution_count": 94,
     "metadata": {},
     "output_type": "execute_result"
    }
   ],
   "source": [
    "aggregations = {\n",
    "                \"Revenues\": \"min\",\n",
    "                \"Profits\": \"max\",\n",
    "                \"Employees\": \"mean\"\n",
    "                }\n",
    "sectors.agg(aggregations).head()"
   ]
  },
  {
   "cell_type": "markdown",
   "id": "0b685fda",
   "metadata": {},
   "source": [
    "### Applying a custom operation to all groups\n",
    "\n",
    "The <code>GroupBy</code> object’s <code>apply</code> method expects a function as an argument. \n",
    "\n",
    "It invokes the function once for each group in the GroupBy object. Then it collects the return values from the function invocations and returns them in a new <code>DataFrame</code>.\n",
    "\n",
    "Let’s define a get_largest_row function that accepts a single argument: a <code>DataFrame</code>.\n",
    "\n",
    "The function will return the <code>DataFrame</code> row with the greatest value in the Revenues column."
   ]
  },
  {
   "cell_type": "code",
   "execution_count": 96,
   "id": "ff01e135",
   "metadata": {},
   "outputs": [],
   "source": [
    "def get_largest_row(df):\n",
    "    return df.nlargest(1, \"Revenues\")"
   ]
  },
  {
   "cell_type": "markdown",
   "id": "f1a1e7e7",
   "metadata": {},
   "source": [
    "We can invoke the <code>apply</code> method and pass in the uninvoked <code>get_largest_row</code> function. \n",
    "\n",
    "Pandas invokes <code>get_largest_row</code> once for each sector and returns a <code>DataFrame</code> with the companies with the highest revenue in their sector:"
   ]
  },
  {
   "cell_type": "code",
   "execution_count": 97,
   "id": "cf33fc7a",
   "metadata": {},
   "outputs": [
    {
     "data": {
      "text/html": [
       "<div>\n",
       "<style scoped>\n",
       "    .dataframe tbody tr th:only-of-type {\n",
       "        vertical-align: middle;\n",
       "    }\n",
       "\n",
       "    .dataframe tbody tr th {\n",
       "        vertical-align: top;\n",
       "    }\n",
       "\n",
       "    .dataframe thead th {\n",
       "        text-align: right;\n",
       "    }\n",
       "</style>\n",
       "<table border=\"1\" class=\"dataframe\">\n",
       "  <thead>\n",
       "    <tr style=\"text-align: right;\">\n",
       "      <th></th>\n",
       "      <th></th>\n",
       "      <th>Company</th>\n",
       "      <th>Revenues</th>\n",
       "      <th>Profits</th>\n",
       "      <th>Employees</th>\n",
       "      <th>Sector</th>\n",
       "      <th>Industry</th>\n",
       "    </tr>\n",
       "    <tr>\n",
       "      <th>Sector</th>\n",
       "      <th></th>\n",
       "      <th></th>\n",
       "      <th></th>\n",
       "      <th></th>\n",
       "      <th></th>\n",
       "      <th></th>\n",
       "      <th></th>\n",
       "    </tr>\n",
       "  </thead>\n",
       "  <tbody>\n",
       "    <tr>\n",
       "      <th>Aerospace &amp; Defense</th>\n",
       "      <th>26</th>\n",
       "      <td>Boeing</td>\n",
       "      <td>93392.0</td>\n",
       "      <td>8197.0</td>\n",
       "      <td>140800</td>\n",
       "      <td>Aerospace &amp; Defense</td>\n",
       "      <td>Aerospace and Defense</td>\n",
       "    </tr>\n",
       "    <tr>\n",
       "      <th>Apparel</th>\n",
       "      <th>88</th>\n",
       "      <td>Nike</td>\n",
       "      <td>34350.0</td>\n",
       "      <td>4240.0</td>\n",
       "      <td>74400</td>\n",
       "      <td>Apparel</td>\n",
       "      <td>Apparel</td>\n",
       "    </tr>\n",
       "    <tr>\n",
       "      <th>Business Services</th>\n",
       "      <th>142</th>\n",
       "      <td>ManpowerGroup</td>\n",
       "      <td>21034.0</td>\n",
       "      <td>545.4</td>\n",
       "      <td>29000</td>\n",
       "      <td>Business Services</td>\n",
       "      <td>Temporary Help</td>\n",
       "    </tr>\n",
       "    <tr>\n",
       "      <th>Chemicals</th>\n",
       "      <th>46</th>\n",
       "      <td>DowDuPont</td>\n",
       "      <td>62683.0</td>\n",
       "      <td>1460.0</td>\n",
       "      <td>98000</td>\n",
       "      <td>Chemicals</td>\n",
       "      <td>Chemicals</td>\n",
       "    </tr>\n",
       "    <tr>\n",
       "      <th>Energy</th>\n",
       "      <th>1</th>\n",
       "      <td>Exxon Mobil</td>\n",
       "      <td>244363.0</td>\n",
       "      <td>19710.0</td>\n",
       "      <td>71200</td>\n",
       "      <td>Energy</td>\n",
       "      <td>Petroleum Refining</td>\n",
       "    </tr>\n",
       "  </tbody>\n",
       "</table>\n",
       "</div>"
      ],
      "text/plain": [
       "                               Company  Revenues  Profits  Employees  \\\n",
       "Sector                                                                 \n",
       "Aerospace & Defense 26          Boeing   93392.0   8197.0     140800   \n",
       "Apparel             88            Nike   34350.0   4240.0      74400   \n",
       "Business Services   142  ManpowerGroup   21034.0    545.4      29000   \n",
       "Chemicals           46       DowDuPont   62683.0   1460.0      98000   \n",
       "Energy              1      Exxon Mobil  244363.0  19710.0      71200   \n",
       "\n",
       "                                      Sector               Industry  \n",
       "Sector                                                               \n",
       "Aerospace & Defense 26   Aerospace & Defense  Aerospace and Defense  \n",
       "Apparel             88               Apparel                Apparel  \n",
       "Business Services   142    Business Services         Temporary Help  \n",
       "Chemicals           46             Chemicals              Chemicals  \n",
       "Energy              1                 Energy     Petroleum Refining  "
      ]
     },
     "execution_count": 97,
     "metadata": {},
     "output_type": "execute_result"
    }
   ],
   "source": [
    "sectors.apply(get_largest_row).head()"
   ]
  },
  {
   "cell_type": "markdown",
   "id": "56159207",
   "metadata": {},
   "source": [
    "### Grouping by multiple columns\n",
    "\n",
    "We can create a <code>GroupBy</code> object with values from multiple <code>DataFrame</code> columns. \n",
    "\n",
    "This operation is optimal when a combination of column values serves as the best identifier for a group.\n",
    "\n",
    "The next example passes a list of two strings to the <code>groupby</code> method.\n",
    "\n",
    "Pandas groups the rows first by the Sector column’s values and then by the Industry column’s values."
   ]
  },
  {
   "cell_type": "code",
   "execution_count": 102,
   "id": "eb7cedea",
   "metadata": {},
   "outputs": [
    {
     "data": {
      "text/plain": [
       "Sector               Industry                                     \n",
       "Aerospace & Defense  Aerospace and Defense                            25\n",
       "Apparel              Apparel                                          14\n",
       "Business Services    Advertising, marketing                            2\n",
       "                     Diversified Outsourcing Services                 14\n",
       "                     Education                                         2\n",
       "                                                                      ..\n",
       "Transportation       Trucking, Truck Leasing                          11\n",
       "Wholesalers          Wholesalers: Diversified                         24\n",
       "                     Wholesalers: Electronics and Office Equipment     8\n",
       "                     Wholesalers: Food and Grocery                     6\n",
       "                     Wholesalers: Health Care                          6\n",
       "Length: 82, dtype: int64"
      ]
     },
     "execution_count": 102,
     "metadata": {},
     "output_type": "execute_result"
    }
   ],
   "source": [
    "sector_and_industry = fortune.groupby(by = [\"Sector\", \"Industry\"])\n",
    "sector_and_industry.size()"
   ]
  },
  {
   "cell_type": "markdown",
   "id": "23803613",
   "metadata": {},
   "source": [
    "For all aggregations, pandas returns a <code>MultiIndex DataFrame</code> with the calculations.\n",
    "\n",
    "The next example calculates the sum of the three numeric columns in <code>fortune</code> (Revenues, Profits, and Employees), grouped first by sector and then by the industries within each sector:"
   ]
  },
  {
   "cell_type": "code",
   "execution_count": 104,
   "id": "5fea5e6f",
   "metadata": {},
   "outputs": [
    {
     "data": {
      "text/html": [
       "<div>\n",
       "<style scoped>\n",
       "    .dataframe tbody tr th:only-of-type {\n",
       "        vertical-align: middle;\n",
       "    }\n",
       "\n",
       "    .dataframe tbody tr th {\n",
       "        vertical-align: top;\n",
       "    }\n",
       "\n",
       "    .dataframe thead th {\n",
       "        text-align: right;\n",
       "    }\n",
       "</style>\n",
       "<table border=\"1\" class=\"dataframe\">\n",
       "  <thead>\n",
       "    <tr style=\"text-align: right;\">\n",
       "      <th></th>\n",
       "      <th></th>\n",
       "      <th>Revenues</th>\n",
       "      <th>Profits</th>\n",
       "      <th>Employees</th>\n",
       "    </tr>\n",
       "    <tr>\n",
       "      <th>Sector</th>\n",
       "      <th>Industry</th>\n",
       "      <th></th>\n",
       "      <th></th>\n",
       "      <th></th>\n",
       "    </tr>\n",
       "  </thead>\n",
       "  <tbody>\n",
       "    <tr>\n",
       "      <th>Aerospace &amp; Defense</th>\n",
       "      <th>Aerospace and Defense</th>\n",
       "      <td>383835.0</td>\n",
       "      <td>26733.5</td>\n",
       "      <td>1010124</td>\n",
       "    </tr>\n",
       "    <tr>\n",
       "      <th>Apparel</th>\n",
       "      <th>Apparel</th>\n",
       "      <td>101157.3</td>\n",
       "      <td>6350.7</td>\n",
       "      <td>355699</td>\n",
       "    </tr>\n",
       "    <tr>\n",
       "      <th rowspan=\"3\" valign=\"top\">Business Services</th>\n",
       "      <th>Advertising, marketing</th>\n",
       "      <td>23156.0</td>\n",
       "      <td>1667.4</td>\n",
       "      <td>127500</td>\n",
       "    </tr>\n",
       "    <tr>\n",
       "      <th>Diversified Outsourcing Services</th>\n",
       "      <td>74175.0</td>\n",
       "      <td>5043.7</td>\n",
       "      <td>858600</td>\n",
       "    </tr>\n",
       "    <tr>\n",
       "      <th>Education</th>\n",
       "      <td>6970.0</td>\n",
       "      <td>393.5</td>\n",
       "      <td>70653</td>\n",
       "    </tr>\n",
       "  </tbody>\n",
       "</table>\n",
       "</div>"
      ],
      "text/plain": [
       "                                                      Revenues  Profits  \\\n",
       "Sector              Industry                                              \n",
       "Aerospace & Defense Aerospace and Defense             383835.0  26733.5   \n",
       "Apparel             Apparel                           101157.3   6350.7   \n",
       "Business Services   Advertising, marketing             23156.0   1667.4   \n",
       "                    Diversified Outsourcing Services   74175.0   5043.7   \n",
       "                    Education                           6970.0    393.5   \n",
       "\n",
       "                                                      Employees  \n",
       "Sector              Industry                                     \n",
       "Aerospace & Defense Aerospace and Defense               1010124  \n",
       "Apparel             Apparel                              355699  \n",
       "Business Services   Advertising, marketing               127500  \n",
       "                    Diversified Outsourcing Services     858600  \n",
       "                    Education                             70653  "
      ]
     },
     "execution_count": 104,
     "metadata": {},
     "output_type": "execute_result"
    }
   ],
   "source": [
    "sector_and_industry.sum().head()"
   ]
  },
  {
   "cell_type": "code",
   "execution_count": 105,
   "id": "eecf1240",
   "metadata": {},
   "outputs": [
    {
     "data": {
      "text/html": [
       "<div>\n",
       "<style scoped>\n",
       "    .dataframe tbody tr th:only-of-type {\n",
       "        vertical-align: middle;\n",
       "    }\n",
       "\n",
       "    .dataframe tbody tr th {\n",
       "        vertical-align: top;\n",
       "    }\n",
       "\n",
       "    .dataframe thead th {\n",
       "        text-align: right;\n",
       "    }\n",
       "</style>\n",
       "<table border=\"1\" class=\"dataframe\">\n",
       "  <thead>\n",
       "    <tr style=\"text-align: right;\">\n",
       "      <th></th>\n",
       "      <th>Sector</th>\n",
       "      <th>Industry</th>\n",
       "      <th>Revenues</th>\n",
       "      <th>Profits</th>\n",
       "      <th>Employees</th>\n",
       "    </tr>\n",
       "  </thead>\n",
       "  <tbody>\n",
       "    <tr>\n",
       "      <th>0</th>\n",
       "      <td>Aerospace &amp; Defense</td>\n",
       "      <td>Aerospace and Defense</td>\n",
       "      <td>383835.0</td>\n",
       "      <td>26733.5</td>\n",
       "      <td>1010124</td>\n",
       "    </tr>\n",
       "    <tr>\n",
       "      <th>1</th>\n",
       "      <td>Apparel</td>\n",
       "      <td>Apparel</td>\n",
       "      <td>101157.3</td>\n",
       "      <td>6350.7</td>\n",
       "      <td>355699</td>\n",
       "    </tr>\n",
       "    <tr>\n",
       "      <th>2</th>\n",
       "      <td>Business Services</td>\n",
       "      <td>Advertising, marketing</td>\n",
       "      <td>23156.0</td>\n",
       "      <td>1667.4</td>\n",
       "      <td>127500</td>\n",
       "    </tr>\n",
       "    <tr>\n",
       "      <th>3</th>\n",
       "      <td>Business Services</td>\n",
       "      <td>Diversified Outsourcing Services</td>\n",
       "      <td>74175.0</td>\n",
       "      <td>5043.7</td>\n",
       "      <td>858600</td>\n",
       "    </tr>\n",
       "    <tr>\n",
       "      <th>4</th>\n",
       "      <td>Business Services</td>\n",
       "      <td>Education</td>\n",
       "      <td>6970.0</td>\n",
       "      <td>393.5</td>\n",
       "      <td>70653</td>\n",
       "    </tr>\n",
       "    <tr>\n",
       "      <th>...</th>\n",
       "      <td>...</td>\n",
       "      <td>...</td>\n",
       "      <td>...</td>\n",
       "      <td>...</td>\n",
       "      <td>...</td>\n",
       "    </tr>\n",
       "    <tr>\n",
       "      <th>77</th>\n",
       "      <td>Transportation</td>\n",
       "      <td>Trucking, Truck Leasing</td>\n",
       "      <td>43676.0</td>\n",
       "      <td>3535.5</td>\n",
       "      <td>208312</td>\n",
       "    </tr>\n",
       "    <tr>\n",
       "      <th>78</th>\n",
       "      <td>Wholesalers</td>\n",
       "      <td>Wholesalers: Diversified</td>\n",
       "      <td>130984.0</td>\n",
       "      <td>5231.5</td>\n",
       "      <td>262390</td>\n",
       "    </tr>\n",
       "    <tr>\n",
       "      <th>79</th>\n",
       "      <td>Wholesalers</td>\n",
       "      <td>Wholesalers: Electronics and Office Equipment</td>\n",
       "      <td>122231.0</td>\n",
       "      <td>1259.4</td>\n",
       "      <td>183518</td>\n",
       "    </tr>\n",
       "    <tr>\n",
       "      <th>80</th>\n",
       "      <td>Wholesalers</td>\n",
       "      <td>Wholesalers: Food and Grocery</td>\n",
       "      <td>125908.0</td>\n",
       "      <td>1794.0</td>\n",
       "      <td>135767</td>\n",
       "    </tr>\n",
       "    <tr>\n",
       "      <th>81</th>\n",
       "      <td>Wholesalers</td>\n",
       "      <td>Wholesalers: Health Care</td>\n",
       "      <td>509026.0</td>\n",
       "      <td>7372.5</td>\n",
       "      <td>162500</td>\n",
       "    </tr>\n",
       "  </tbody>\n",
       "</table>\n",
       "<p>82 rows × 5 columns</p>\n",
       "</div>"
      ],
      "text/plain": [
       "                 Sector                                       Industry  \\\n",
       "0   Aerospace & Defense                          Aerospace and Defense   \n",
       "1               Apparel                                        Apparel   \n",
       "2     Business Services                         Advertising, marketing   \n",
       "3     Business Services               Diversified Outsourcing Services   \n",
       "4     Business Services                                      Education   \n",
       "..                  ...                                            ...   \n",
       "77       Transportation                        Trucking, Truck Leasing   \n",
       "78          Wholesalers                       Wholesalers: Diversified   \n",
       "79          Wholesalers  Wholesalers: Electronics and Office Equipment   \n",
       "80          Wholesalers                  Wholesalers: Food and Grocery   \n",
       "81          Wholesalers                       Wholesalers: Health Care   \n",
       "\n",
       "    Revenues  Profits  Employees  \n",
       "0   383835.0  26733.5    1010124  \n",
       "1   101157.3   6350.7     355699  \n",
       "2    23156.0   1667.4     127500  \n",
       "3    74175.0   5043.7     858600  \n",
       "4     6970.0    393.5      70653  \n",
       "..       ...      ...        ...  \n",
       "77   43676.0   3535.5     208312  \n",
       "78  130984.0   5231.5     262390  \n",
       "79  122231.0   1259.4     183518  \n",
       "80  125908.0   1794.0     135767  \n",
       "81  509026.0   7372.5     162500  \n",
       "\n",
       "[82 rows x 5 columns]"
      ]
     },
     "execution_count": 105,
     "metadata": {},
     "output_type": "execute_result"
    }
   ],
   "source": [
    "sector_and_industry.sum().reset_index()"
   ]
  },
  {
   "cell_type": "code",
   "execution_count": null,
   "id": "fc5336ee",
   "metadata": {},
   "outputs": [],
   "source": []
  }
 ],
 "metadata": {
  "celltoolbar": "Slideshow",
  "kernelspec": {
   "display_name": "Python 3 (ipykernel)",
   "language": "python",
   "name": "python3"
  },
  "language_info": {
   "codemirror_mode": {
    "name": "ipython",
    "version": 3
   },
   "file_extension": ".py",
   "mimetype": "text/x-python",
   "name": "python",
   "nbconvert_exporter": "python",
   "pygments_lexer": "ipython3",
   "version": "3.7.11"
  }
 },
 "nbformat": 4,
 "nbformat_minor": 5
}
