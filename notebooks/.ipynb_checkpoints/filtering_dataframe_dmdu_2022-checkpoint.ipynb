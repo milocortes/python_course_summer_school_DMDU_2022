{
 "cells": [
  {
   "cell_type": "markdown",
   "id": "2a4007b1",
   "metadata": {},
   "source": [
    "# Filtering a DataFrame"
   ]
  },
  {
   "cell_type": "markdown",
   "id": "76c975d9",
   "metadata": {},
   "source": [
    "## Optimizing a data set for memory use\n",
    "\n",
    "Before we segue into filtering, let’s quickly talk about reducing memory in pandas. Whenever importing a data set, it’s important to consider whether each column stores its data in the most optimal type. The “best” data type is the one that consumes the least memory or provides the most utility.\n",
    "\n",
    "As another example, if your data set includes dates, it’s ideal to import them as datetimes rather than as strings, which allows for datetime-specific operations"
   ]
  },
  {
   "cell_type": "code",
   "execution_count": 1,
   "id": "9a957be0",
   "metadata": {},
   "outputs": [
    {
     "data": {
      "text/html": [
       "<div>\n",
       "<style scoped>\n",
       "    .dataframe tbody tr th:only-of-type {\n",
       "        vertical-align: middle;\n",
       "    }\n",
       "\n",
       "    .dataframe tbody tr th {\n",
       "        vertical-align: top;\n",
       "    }\n",
       "\n",
       "    .dataframe thead th {\n",
       "        text-align: right;\n",
       "    }\n",
       "</style>\n",
       "<table border=\"1\" class=\"dataframe\">\n",
       "  <thead>\n",
       "    <tr style=\"text-align: right;\">\n",
       "      <th></th>\n",
       "      <th>First Name</th>\n",
       "      <th>Gender</th>\n",
       "      <th>Start Date</th>\n",
       "      <th>Salary</th>\n",
       "      <th>Mgmt</th>\n",
       "      <th>Team</th>\n",
       "    </tr>\n",
       "  </thead>\n",
       "  <tbody>\n",
       "    <tr>\n",
       "      <th>0</th>\n",
       "      <td>Douglas</td>\n",
       "      <td>Male</td>\n",
       "      <td>8/6/93</td>\n",
       "      <td>NaN</td>\n",
       "      <td>True</td>\n",
       "      <td>Marketing</td>\n",
       "    </tr>\n",
       "    <tr>\n",
       "      <th>1</th>\n",
       "      <td>Thomas</td>\n",
       "      <td>Male</td>\n",
       "      <td>3/31/96</td>\n",
       "      <td>61933.0</td>\n",
       "      <td>True</td>\n",
       "      <td>NaN</td>\n",
       "    </tr>\n",
       "    <tr>\n",
       "      <th>2</th>\n",
       "      <td>Maria</td>\n",
       "      <td>Female</td>\n",
       "      <td>NaN</td>\n",
       "      <td>130590.0</td>\n",
       "      <td>False</td>\n",
       "      <td>Finance</td>\n",
       "    </tr>\n",
       "    <tr>\n",
       "      <th>3</th>\n",
       "      <td>Jerry</td>\n",
       "      <td>NaN</td>\n",
       "      <td>3/4/05</td>\n",
       "      <td>138705.0</td>\n",
       "      <td>True</td>\n",
       "      <td>Finance</td>\n",
       "    </tr>\n",
       "    <tr>\n",
       "      <th>4</th>\n",
       "      <td>Larry</td>\n",
       "      <td>Male</td>\n",
       "      <td>1/24/98</td>\n",
       "      <td>101004.0</td>\n",
       "      <td>True</td>\n",
       "      <td>IT</td>\n",
       "    </tr>\n",
       "    <tr>\n",
       "      <th>...</th>\n",
       "      <td>...</td>\n",
       "      <td>...</td>\n",
       "      <td>...</td>\n",
       "      <td>...</td>\n",
       "      <td>...</td>\n",
       "      <td>...</td>\n",
       "    </tr>\n",
       "    <tr>\n",
       "      <th>996</th>\n",
       "      <td>Phillip</td>\n",
       "      <td>Male</td>\n",
       "      <td>1/31/84</td>\n",
       "      <td>42392.0</td>\n",
       "      <td>False</td>\n",
       "      <td>Finance</td>\n",
       "    </tr>\n",
       "    <tr>\n",
       "      <th>997</th>\n",
       "      <td>Russell</td>\n",
       "      <td>Male</td>\n",
       "      <td>5/20/13</td>\n",
       "      <td>96914.0</td>\n",
       "      <td>False</td>\n",
       "      <td>Product</td>\n",
       "    </tr>\n",
       "    <tr>\n",
       "      <th>998</th>\n",
       "      <td>Larry</td>\n",
       "      <td>Male</td>\n",
       "      <td>4/20/13</td>\n",
       "      <td>60500.0</td>\n",
       "      <td>False</td>\n",
       "      <td>Business Dev</td>\n",
       "    </tr>\n",
       "    <tr>\n",
       "      <th>999</th>\n",
       "      <td>Albert</td>\n",
       "      <td>Male</td>\n",
       "      <td>5/15/12</td>\n",
       "      <td>129949.0</td>\n",
       "      <td>True</td>\n",
       "      <td>Sales</td>\n",
       "    </tr>\n",
       "    <tr>\n",
       "      <th>1000</th>\n",
       "      <td>NaN</td>\n",
       "      <td>NaN</td>\n",
       "      <td>NaN</td>\n",
       "      <td>NaN</td>\n",
       "      <td>NaN</td>\n",
       "      <td>NaN</td>\n",
       "    </tr>\n",
       "  </tbody>\n",
       "</table>\n",
       "<p>1001 rows × 6 columns</p>\n",
       "</div>"
      ],
      "text/plain": [
       "     First Name  Gender Start Date    Salary   Mgmt          Team\n",
       "0       Douglas    Male     8/6/93       NaN   True     Marketing\n",
       "1        Thomas    Male    3/31/96   61933.0   True           NaN\n",
       "2         Maria  Female        NaN  130590.0  False       Finance\n",
       "3         Jerry     NaN     3/4/05  138705.0   True       Finance\n",
       "4         Larry    Male    1/24/98  101004.0   True            IT\n",
       "...         ...     ...        ...       ...    ...           ...\n",
       "996     Phillip    Male    1/31/84   42392.0  False       Finance\n",
       "997     Russell    Male    5/20/13   96914.0  False       Product\n",
       "998       Larry    Male    4/20/13   60500.0  False  Business Dev\n",
       "999      Albert    Male    5/15/12  129949.0   True         Sales\n",
       "1000        NaN     NaN        NaN       NaN    NaN           NaN\n",
       "\n",
       "[1001 rows x 6 columns]"
      ]
     },
     "execution_count": 1,
     "metadata": {},
     "output_type": "execute_result"
    }
   ],
   "source": [
    "import pandas as pd\n",
    "\n",
    "pd.read_csv(\"../data/employees.csv\")"
   ]
  },
  {
   "cell_type": "markdown",
   "id": "f12a7c5c",
   "metadata": {},
   "source": [
    "How can we increase the utility of our data set? \n",
    "\n",
    "We can convert the text values in the Start Date column to datetimes with the <code>parse_dates</code> parameter:"
   ]
  },
  {
   "cell_type": "code",
   "execution_count": 3,
   "id": "cb5312f8",
   "metadata": {},
   "outputs": [
    {
     "data": {
      "text/html": [
       "<div>\n",
       "<style scoped>\n",
       "    .dataframe tbody tr th:only-of-type {\n",
       "        vertical-align: middle;\n",
       "    }\n",
       "\n",
       "    .dataframe tbody tr th {\n",
       "        vertical-align: top;\n",
       "    }\n",
       "\n",
       "    .dataframe thead th {\n",
       "        text-align: right;\n",
       "    }\n",
       "</style>\n",
       "<table border=\"1\" class=\"dataframe\">\n",
       "  <thead>\n",
       "    <tr style=\"text-align: right;\">\n",
       "      <th></th>\n",
       "      <th>First Name</th>\n",
       "      <th>Gender</th>\n",
       "      <th>Start Date</th>\n",
       "      <th>Salary</th>\n",
       "      <th>Mgmt</th>\n",
       "      <th>Team</th>\n",
       "    </tr>\n",
       "  </thead>\n",
       "  <tbody>\n",
       "    <tr>\n",
       "      <th>0</th>\n",
       "      <td>Douglas</td>\n",
       "      <td>Male</td>\n",
       "      <td>1993-08-06</td>\n",
       "      <td>NaN</td>\n",
       "      <td>True</td>\n",
       "      <td>Marketing</td>\n",
       "    </tr>\n",
       "    <tr>\n",
       "      <th>1</th>\n",
       "      <td>Thomas</td>\n",
       "      <td>Male</td>\n",
       "      <td>1996-03-31</td>\n",
       "      <td>61933.0</td>\n",
       "      <td>True</td>\n",
       "      <td>NaN</td>\n",
       "    </tr>\n",
       "    <tr>\n",
       "      <th>2</th>\n",
       "      <td>Maria</td>\n",
       "      <td>Female</td>\n",
       "      <td>NaT</td>\n",
       "      <td>130590.0</td>\n",
       "      <td>False</td>\n",
       "      <td>Finance</td>\n",
       "    </tr>\n",
       "    <tr>\n",
       "      <th>3</th>\n",
       "      <td>Jerry</td>\n",
       "      <td>NaN</td>\n",
       "      <td>2005-03-04</td>\n",
       "      <td>138705.0</td>\n",
       "      <td>True</td>\n",
       "      <td>Finance</td>\n",
       "    </tr>\n",
       "    <tr>\n",
       "      <th>4</th>\n",
       "      <td>Larry</td>\n",
       "      <td>Male</td>\n",
       "      <td>1998-01-24</td>\n",
       "      <td>101004.0</td>\n",
       "      <td>True</td>\n",
       "      <td>IT</td>\n",
       "    </tr>\n",
       "  </tbody>\n",
       "</table>\n",
       "</div>"
      ],
      "text/plain": [
       "  First Name  Gender Start Date    Salary   Mgmt       Team\n",
       "0    Douglas    Male 1993-08-06       NaN   True  Marketing\n",
       "1     Thomas    Male 1996-03-31   61933.0   True        NaN\n",
       "2      Maria  Female        NaT  130590.0  False    Finance\n",
       "3      Jerry     NaN 2005-03-04  138705.0   True    Finance\n",
       "4      Larry    Male 1998-01-24  101004.0   True         IT"
      ]
     },
     "execution_count": 3,
     "metadata": {},
     "output_type": "execute_result"
    }
   ],
   "source": [
    "employees = pd.read_csv(\"../data/employees.csv\", parse_dates = [\"Start Date\"]).head()\n",
    "employees"
   ]
  },
  {
   "cell_type": "markdown",
   "id": "ea642b48",
   "metadata": {},
   "source": [
    "A few options are available for improving the speed and efficiency of <code>DataFrame</code> operations.\n",
    "\n",
    "First, let’s summarize the data set as it currently stands. We can invoke the <code>info</code> method to see a list of the columns, their data types, a count of missing values, and the <code>DataFrame</code> ’s total memory consumption:"
   ]
  },
  {
   "cell_type": "code",
   "execution_count": 4,
   "id": "12d44be2",
   "metadata": {},
   "outputs": [
    {
     "name": "stdout",
     "output_type": "stream",
     "text": [
      "<class 'pandas.core.frame.DataFrame'>\n",
      "RangeIndex: 5 entries, 0 to 4\n",
      "Data columns (total 6 columns):\n",
      " #   Column      Non-Null Count  Dtype         \n",
      "---  ------      --------------  -----         \n",
      " 0   First Name  5 non-null      object        \n",
      " 1   Gender      4 non-null      object        \n",
      " 2   Start Date  4 non-null      datetime64[ns]\n",
      " 3   Salary      4 non-null      float64       \n",
      " 4   Mgmt        5 non-null      object        \n",
      " 5   Team        4 non-null      object        \n",
      "dtypes: datetime64[ns](1), float64(1), object(4)\n",
      "memory usage: 368.0+ bytes\n"
     ]
    }
   ],
   "source": [
    "employees.info()"
   ]
  },
  {
   "cell_type": "markdown",
   "id": "418c9d84",
   "metadata": {},
   "source": [
    "## Converting data types with the astype method\n",
    "\n",
    "Did you notice that pandas imported the Mgmt column’s values as strings? The column stores only two values: True and False . We can reduce memory use by converting the values to the more lightweight Boolean data type.\n",
    "\n",
    "The <code>astype</code> method converts a Series ’ values to a different data type."
   ]
  },
  {
   "cell_type": "code",
   "execution_count": 5,
   "id": "52829131",
   "metadata": {},
   "outputs": [
    {
     "data": {
      "text/plain": [
       "0     True\n",
       "1     True\n",
       "2    False\n",
       "3     True\n",
       "4     True\n",
       "Name: Mgmt, dtype: bool"
      ]
     },
     "execution_count": 5,
     "metadata": {},
     "output_type": "execute_result"
    }
   ],
   "source": [
    "employees[\"Mgmt\"].astype(bool)"
   ]
  },
  {
   "cell_type": "code",
   "execution_count": 6,
   "id": "032cc4d5",
   "metadata": {},
   "outputs": [],
   "source": [
    "employees[\"Mgmt\"] = employees[\"Mgmt\"].astype(bool)"
   ]
  },
  {
   "cell_type": "code",
   "execution_count": 7,
   "id": "9a20f01f",
   "metadata": {},
   "outputs": [
    {
     "name": "stdout",
     "output_type": "stream",
     "text": [
      "<class 'pandas.core.frame.DataFrame'>\n",
      "RangeIndex: 5 entries, 0 to 4\n",
      "Data columns (total 6 columns):\n",
      " #   Column      Non-Null Count  Dtype         \n",
      "---  ------      --------------  -----         \n",
      " 0   First Name  5 non-null      object        \n",
      " 1   Gender      4 non-null      object        \n",
      " 2   Start Date  4 non-null      datetime64[ns]\n",
      " 3   Salary      4 non-null      float64       \n",
      " 4   Mgmt        5 non-null      bool          \n",
      " 5   Team        4 non-null      object        \n",
      "dtypes: bool(1), datetime64[ns](1), float64(1), object(3)\n",
      "memory usage: 333.0+ bytes\n"
     ]
    }
   ],
   "source": [
    "employees.info()"
   ]
  },
  {
   "cell_type": "markdown",
   "id": "007f0a38",
   "metadata": {},
   "source": [
    "In <code>employees</code> , however, pandas stores the Salary values at floats. To support the <code>NaNs</code> throughout the column, pandas converts the integers to floating-point numbers—a technical requirement of the library that we observed in earlier chapters."
   ]
  },
  {
   "cell_type": "code",
   "execution_count": 9,
   "id": "74ab5820",
   "metadata": {},
   "outputs": [
    {
     "data": {
      "text/plain": [
       "0         0\n",
       "1     61933\n",
       "2    130590\n",
       "3    138705\n",
       "4    101004\n",
       "Name: Salary, dtype: int64"
      ]
     },
     "execution_count": 9,
     "metadata": {},
     "output_type": "execute_result"
    }
   ],
   "source": [
    "employees[\"Salary\"].fillna(0).astype(int)"
   ]
  },
  {
   "cell_type": "code",
   "execution_count": 11,
   "id": "03204b41",
   "metadata": {},
   "outputs": [],
   "source": [
    "employees[\"Salary\"] = employees[\"Salary\"].fillna(0).astype(int)"
   ]
  },
  {
   "cell_type": "code",
   "execution_count": 16,
   "id": "0b0392a5",
   "metadata": {},
   "outputs": [
    {
     "name": "stdout",
     "output_type": "stream",
     "text": [
      "<class 'pandas.core.frame.DataFrame'>\n",
      "RangeIndex: 5 entries, 0 to 4\n",
      "Data columns (total 6 columns):\n",
      " #   Column      Non-Null Count  Dtype         \n",
      "---  ------      --------------  -----         \n",
      " 0   First Name  5 non-null      object        \n",
      " 1   Gender      4 non-null      category      \n",
      " 2   Start Date  4 non-null      datetime64[ns]\n",
      " 3   Salary      5 non-null      int64         \n",
      " 4   Mgmt        5 non-null      bool          \n",
      " 5   Team        4 non-null      object        \n",
      "dtypes: bool(1), category(1), datetime64[ns](1), int64(1), object(2)\n",
      "memory usage: 422.0+ bytes\n"
     ]
    }
   ],
   "source": [
    "employees.info()"
   ]
  },
  {
   "cell_type": "markdown",
   "id": "6d2897f7",
   "metadata": {},
   "source": [
    "We can make one additional optimization. \n",
    "\n",
    "Pandas includes a special data type called a *category*, which is ideal for a column consisting of a small number of unique values relative to its total size. Some everyday examples of data points with a limited number of values include gender, weekdays, blood types, planets, and income groups. Behind the scenes, pandas stores only one copy of each categorical value rather than storing duplicates across rows."
   ]
  },
  {
   "cell_type": "code",
   "execution_count": 12,
   "id": "d14b4bae",
   "metadata": {},
   "outputs": [
    {
     "data": {
      "text/plain": [
       "First Name    5\n",
       "Gender        2\n",
       "Start Date    4\n",
       "Salary        5\n",
       "Mgmt          2\n",
       "Team          3\n",
       "dtype: int64"
      ]
     },
     "execution_count": 12,
     "metadata": {},
     "output_type": "execute_result"
    }
   ],
   "source": [
    "employees.nunique()"
   ]
  },
  {
   "cell_type": "code",
   "execution_count": 13,
   "id": "3671c889",
   "metadata": {},
   "outputs": [
    {
     "data": {
      "text/plain": [
       "0      Male\n",
       "1      Male\n",
       "2    Female\n",
       "3       NaN\n",
       "4      Male\n",
       "Name: Gender, dtype: category\n",
       "Categories (2, object): ['Female', 'Male']"
      ]
     },
     "execution_count": 13,
     "metadata": {},
     "output_type": "execute_result"
    }
   ],
   "source": [
    "employees[\"Gender\"].astype(\"category\")"
   ]
  },
  {
   "cell_type": "code",
   "execution_count": 14,
   "id": "91d3a7b6",
   "metadata": {},
   "outputs": [],
   "source": [
    "employees[\"Gender\"] = employees[\"Gender\"].astype(\"category\")"
   ]
  },
  {
   "cell_type": "code",
   "execution_count": 15,
   "id": "ab317cb2",
   "metadata": {},
   "outputs": [
    {
     "name": "stdout",
     "output_type": "stream",
     "text": [
      "<class 'pandas.core.frame.DataFrame'>\n",
      "RangeIndex: 5 entries, 0 to 4\n",
      "Data columns (total 6 columns):\n",
      " #   Column      Non-Null Count  Dtype         \n",
      "---  ------      --------------  -----         \n",
      " 0   First Name  5 non-null      object        \n",
      " 1   Gender      4 non-null      category      \n",
      " 2   Start Date  4 non-null      datetime64[ns]\n",
      " 3   Salary      5 non-null      int64         \n",
      " 4   Mgmt        5 non-null      bool          \n",
      " 5   Team        4 non-null      object        \n",
      "dtypes: bool(1), category(1), datetime64[ns](1), int64(1), object(2)\n",
      "memory usage: 422.0+ bytes\n"
     ]
    }
   ],
   "source": [
    "employees.info()"
   ]
  },
  {
   "cell_type": "code",
   "execution_count": 17,
   "id": "939d483c",
   "metadata": {},
   "outputs": [
    {
     "name": "stdout",
     "output_type": "stream",
     "text": [
      "<class 'pandas.core.frame.DataFrame'>\n",
      "RangeIndex: 5 entries, 0 to 4\n",
      "Data columns (total 6 columns):\n",
      " #   Column      Non-Null Count  Dtype         \n",
      "---  ------      --------------  -----         \n",
      " 0   First Name  5 non-null      object        \n",
      " 1   Gender      4 non-null      category      \n",
      " 2   Start Date  4 non-null      datetime64[ns]\n",
      " 3   Salary      5 non-null      int64         \n",
      " 4   Mgmt        5 non-null      bool          \n",
      " 5   Team        4 non-null      category      \n",
      "dtypes: bool(1), category(2), datetime64[ns](1), int64(1), object(1)\n",
      "memory usage: 519.0+ bytes\n"
     ]
    }
   ],
   "source": [
    "employees[\"Team\"] = employees[\"Team\"].astype(\"category\")\n",
    "employees.info()"
   ]
  },
  {
   "cell_type": "markdown",
   "id": "530ce0e7",
   "metadata": {},
   "source": [
    "## Filtering by a single condition\n",
    "\n",
    "Extracting a subset of data is perhaps the most common operation in data analysis. A *subset* is a portion of a larger data set that fits some kind of condition.\n",
    "\n",
    "Suppose that we want to generate a list of all employees named \"<code>Maria</code>\" . To accomplish this task, we need to filter our employees data set based on the values in the First Name column. The list of employees named Maria is a subset of all employees.\n",
    "\n",
    "To compare every Series entry with a constant value, we place the Series on one side of the equality operator and the value on the other:"
   ]
  },
  {
   "cell_type": "code",
   "execution_count": null,
   "id": "76be8385",
   "metadata": {},
   "outputs": [],
   "source": [
    "Series == value"
   ]
  },
  {
   "cell_type": "markdown",
   "id": "055a5e14",
   "metadata": {},
   "source": [
    "When we combine a <code>Series</code> with an equality operator, pandas returns a <code>Series</code> of Booleans."
   ]
  },
  {
   "cell_type": "code",
   "execution_count": 18,
   "id": "ae6a0c91",
   "metadata": {},
   "outputs": [
    {
     "data": {
      "text/plain": [
       "0    False\n",
       "1    False\n",
       "2     True\n",
       "3    False\n",
       "4    False\n",
       "Name: First Name, dtype: bool"
      ]
     },
     "execution_count": 18,
     "metadata": {},
     "output_type": "execute_result"
    }
   ],
   "source": [
    "employees[\"First Name\"] == \"Maria\""
   ]
  },
  {
   "cell_type": "markdown",
   "id": "b625b663",
   "metadata": {},
   "source": [
    "Pandas offers a convenient syntax for extracting rows by using a Boolean <code>Series</code>. \n",
    "\n",
    "To filter rows, we provide the Boolean <code>Series</code> between square brackets following the <code>DataFrame</code> :"
   ]
  },
  {
   "cell_type": "code",
   "execution_count": 19,
   "id": "5d3fa8a6",
   "metadata": {},
   "outputs": [
    {
     "data": {
      "text/html": [
       "<div>\n",
       "<style scoped>\n",
       "    .dataframe tbody tr th:only-of-type {\n",
       "        vertical-align: middle;\n",
       "    }\n",
       "\n",
       "    .dataframe tbody tr th {\n",
       "        vertical-align: top;\n",
       "    }\n",
       "\n",
       "    .dataframe thead th {\n",
       "        text-align: right;\n",
       "    }\n",
       "</style>\n",
       "<table border=\"1\" class=\"dataframe\">\n",
       "  <thead>\n",
       "    <tr style=\"text-align: right;\">\n",
       "      <th></th>\n",
       "      <th>First Name</th>\n",
       "      <th>Gender</th>\n",
       "      <th>Start Date</th>\n",
       "      <th>Salary</th>\n",
       "      <th>Mgmt</th>\n",
       "      <th>Team</th>\n",
       "    </tr>\n",
       "  </thead>\n",
       "  <tbody>\n",
       "    <tr>\n",
       "      <th>2</th>\n",
       "      <td>Maria</td>\n",
       "      <td>Female</td>\n",
       "      <td>NaT</td>\n",
       "      <td>130590</td>\n",
       "      <td>False</td>\n",
       "      <td>Finance</td>\n",
       "    </tr>\n",
       "  </tbody>\n",
       "</table>\n",
       "</div>"
      ],
      "text/plain": [
       "  First Name  Gender Start Date  Salary   Mgmt     Team\n",
       "2      Maria  Female        NaT  130590  False  Finance"
      ]
     },
     "execution_count": 19,
     "metadata": {},
     "output_type": "execute_result"
    }
   ],
   "source": [
    "employees[employees[\"First Name\"] == \"Maria\"]"
   ]
  },
  {
   "cell_type": "markdown",
   "id": "3bc7d09b",
   "metadata": {},
   "source": [
    "If the use of multiple square brackets is confusing, you can assign the Boolean <code>Series</code> to a descriptive variable and then pass the variable into the square brackets instead."
   ]
  },
  {
   "cell_type": "code",
   "execution_count": 20,
   "id": "6e0504d6",
   "metadata": {},
   "outputs": [
    {
     "data": {
      "text/html": [
       "<div>\n",
       "<style scoped>\n",
       "    .dataframe tbody tr th:only-of-type {\n",
       "        vertical-align: middle;\n",
       "    }\n",
       "\n",
       "    .dataframe tbody tr th {\n",
       "        vertical-align: top;\n",
       "    }\n",
       "\n",
       "    .dataframe thead th {\n",
       "        text-align: right;\n",
       "    }\n",
       "</style>\n",
       "<table border=\"1\" class=\"dataframe\">\n",
       "  <thead>\n",
       "    <tr style=\"text-align: right;\">\n",
       "      <th></th>\n",
       "      <th>First Name</th>\n",
       "      <th>Gender</th>\n",
       "      <th>Start Date</th>\n",
       "      <th>Salary</th>\n",
       "      <th>Mgmt</th>\n",
       "      <th>Team</th>\n",
       "    </tr>\n",
       "  </thead>\n",
       "  <tbody>\n",
       "    <tr>\n",
       "      <th>2</th>\n",
       "      <td>Maria</td>\n",
       "      <td>Female</td>\n",
       "      <td>NaT</td>\n",
       "      <td>130590</td>\n",
       "      <td>False</td>\n",
       "      <td>Finance</td>\n",
       "    </tr>\n",
       "  </tbody>\n",
       "</table>\n",
       "</div>"
      ],
      "text/plain": [
       "  First Name  Gender Start Date  Salary   Mgmt     Team\n",
       "2      Maria  Female        NaT  130590  False  Finance"
      ]
     },
     "execution_count": 20,
     "metadata": {},
     "output_type": "execute_result"
    }
   ],
   "source": [
    "marias = employees[\"First Name\"] == \"Maria\"\n",
    "employees[marias]"
   ]
  },
  {
   "cell_type": "markdown",
   "id": "550be31e",
   "metadata": {},
   "source": [
    "Let’s try another example. What if we want to extract a subset of employees who are not on the Finance team? The protocol remains the same, but with a slight twist."
   ]
  },
  {
   "cell_type": "code",
   "execution_count": 21,
   "id": "dba63607",
   "metadata": {},
   "outputs": [
    {
     "data": {
      "text/plain": [
       "0     True\n",
       "1     True\n",
       "2    False\n",
       "3    False\n",
       "4     True\n",
       "Name: Team, dtype: bool"
      ]
     },
     "execution_count": 21,
     "metadata": {},
     "output_type": "execute_result"
    }
   ],
   "source": [
    "employees[\"Team\"] != \"Finance\""
   ]
  },
  {
   "cell_type": "code",
   "execution_count": null,
   "id": "df3ddafa",
   "metadata": {},
   "outputs": [],
   "source": [
    "employees[employees[\"Team\"] != \"Finance\"]"
   ]
  },
  {
   "cell_type": "markdown",
   "id": "421b4692",
   "metadata": {},
   "source": [
    "What if we want to retrieve all the managers in the company? Managers have a value of <code>True</code> in the Mgmt column. \n",
    "\n",
    "We could execute <code>employees[\"Mgmt\"]==True</code> , but we don’t need to because Mgmt is already a <code>Series</code> of Booleans."
   ]
  },
  {
   "cell_type": "code",
   "execution_count": 22,
   "id": "5789b248",
   "metadata": {},
   "outputs": [
    {
     "data": {
      "text/html": [
       "<div>\n",
       "<style scoped>\n",
       "    .dataframe tbody tr th:only-of-type {\n",
       "        vertical-align: middle;\n",
       "    }\n",
       "\n",
       "    .dataframe tbody tr th {\n",
       "        vertical-align: top;\n",
       "    }\n",
       "\n",
       "    .dataframe thead th {\n",
       "        text-align: right;\n",
       "    }\n",
       "</style>\n",
       "<table border=\"1\" class=\"dataframe\">\n",
       "  <thead>\n",
       "    <tr style=\"text-align: right;\">\n",
       "      <th></th>\n",
       "      <th>First Name</th>\n",
       "      <th>Gender</th>\n",
       "      <th>Start Date</th>\n",
       "      <th>Salary</th>\n",
       "      <th>Mgmt</th>\n",
       "      <th>Team</th>\n",
       "    </tr>\n",
       "  </thead>\n",
       "  <tbody>\n",
       "    <tr>\n",
       "      <th>0</th>\n",
       "      <td>Douglas</td>\n",
       "      <td>Male</td>\n",
       "      <td>1993-08-06</td>\n",
       "      <td>0</td>\n",
       "      <td>True</td>\n",
       "      <td>Marketing</td>\n",
       "    </tr>\n",
       "    <tr>\n",
       "      <th>1</th>\n",
       "      <td>Thomas</td>\n",
       "      <td>Male</td>\n",
       "      <td>1996-03-31</td>\n",
       "      <td>61933</td>\n",
       "      <td>True</td>\n",
       "      <td>NaN</td>\n",
       "    </tr>\n",
       "    <tr>\n",
       "      <th>3</th>\n",
       "      <td>Jerry</td>\n",
       "      <td>NaN</td>\n",
       "      <td>2005-03-04</td>\n",
       "      <td>138705</td>\n",
       "      <td>True</td>\n",
       "      <td>Finance</td>\n",
       "    </tr>\n",
       "    <tr>\n",
       "      <th>4</th>\n",
       "      <td>Larry</td>\n",
       "      <td>Male</td>\n",
       "      <td>1998-01-24</td>\n",
       "      <td>101004</td>\n",
       "      <td>True</td>\n",
       "      <td>IT</td>\n",
       "    </tr>\n",
       "  </tbody>\n",
       "</table>\n",
       "</div>"
      ],
      "text/plain": [
       "  First Name Gender Start Date  Salary  Mgmt       Team\n",
       "0    Douglas   Male 1993-08-06       0  True  Marketing\n",
       "1     Thomas   Male 1996-03-31   61933  True        NaN\n",
       "3      Jerry    NaN 2005-03-04  138705  True    Finance\n",
       "4      Larry   Male 1998-01-24  101004  True         IT"
      ]
     },
     "execution_count": 22,
     "metadata": {},
     "output_type": "execute_result"
    }
   ],
   "source": [
    "employees[employees[\"Mgmt\"]]"
   ]
  },
  {
   "cell_type": "markdown",
   "id": "56a1fb87",
   "metadata": {},
   "source": [
    "The next example generates a Boolean <code>Series</code> for Salary values greater than $100,000:"
   ]
  },
  {
   "cell_type": "code",
   "execution_count": 24,
   "id": "186741d3",
   "metadata": {},
   "outputs": [
    {
     "data": {
      "text/html": [
       "<div>\n",
       "<style scoped>\n",
       "    .dataframe tbody tr th:only-of-type {\n",
       "        vertical-align: middle;\n",
       "    }\n",
       "\n",
       "    .dataframe tbody tr th {\n",
       "        vertical-align: top;\n",
       "    }\n",
       "\n",
       "    .dataframe thead th {\n",
       "        text-align: right;\n",
       "    }\n",
       "</style>\n",
       "<table border=\"1\" class=\"dataframe\">\n",
       "  <thead>\n",
       "    <tr style=\"text-align: right;\">\n",
       "      <th></th>\n",
       "      <th>First Name</th>\n",
       "      <th>Gender</th>\n",
       "      <th>Start Date</th>\n",
       "      <th>Salary</th>\n",
       "      <th>Mgmt</th>\n",
       "      <th>Team</th>\n",
       "    </tr>\n",
       "  </thead>\n",
       "  <tbody>\n",
       "    <tr>\n",
       "      <th>2</th>\n",
       "      <td>Maria</td>\n",
       "      <td>Female</td>\n",
       "      <td>NaT</td>\n",
       "      <td>130590</td>\n",
       "      <td>False</td>\n",
       "      <td>Finance</td>\n",
       "    </tr>\n",
       "    <tr>\n",
       "      <th>3</th>\n",
       "      <td>Jerry</td>\n",
       "      <td>NaN</td>\n",
       "      <td>2005-03-04</td>\n",
       "      <td>138705</td>\n",
       "      <td>True</td>\n",
       "      <td>Finance</td>\n",
       "    </tr>\n",
       "    <tr>\n",
       "      <th>4</th>\n",
       "      <td>Larry</td>\n",
       "      <td>Male</td>\n",
       "      <td>1998-01-24</td>\n",
       "      <td>101004</td>\n",
       "      <td>True</td>\n",
       "      <td>IT</td>\n",
       "    </tr>\n",
       "  </tbody>\n",
       "</table>\n",
       "</div>"
      ],
      "text/plain": [
       "  First Name  Gender Start Date  Salary   Mgmt     Team\n",
       "2      Maria  Female        NaT  130590  False  Finance\n",
       "3      Jerry     NaN 2005-03-04  138705   True  Finance\n",
       "4      Larry    Male 1998-01-24  101004   True       IT"
      ]
     },
     "execution_count": 24,
     "metadata": {},
     "output_type": "execute_result"
    }
   ],
   "source": [
    "high_earners = employees[\"Salary\"] > 100000\n",
    "employees[high_earners].head()"
   ]
  },
  {
   "cell_type": "markdown",
   "id": "186de159",
   "metadata": {},
   "source": [
    "## Filtering by multiple conditions\n",
    "\n",
    "We can filter a <code>DataFrame</code> with multiple conditions by creating two independent Boolean Series and then declaring the logical criterion that pandas should apply between them.\n",
    "\n",
    "### The AND condition\n",
    "\n",
    "Suppose that we want to find all female employees who work on the business develop-\n",
    "ment team. Now pandas must look for two conditions to select a row: a value of \"<code>Female</code>\" in the Gender column and a value of \"<code>Business Dev</code>\" in the Team column."
   ]
  },
  {
   "cell_type": "code",
   "execution_count": 25,
   "id": "25278030",
   "metadata": {},
   "outputs": [
    {
     "data": {
      "text/plain": [
       "0    False\n",
       "1    False\n",
       "2    False\n",
       "3    False\n",
       "4    False\n",
       "dtype: bool"
      ]
     },
     "execution_count": 25,
     "metadata": {},
     "output_type": "execute_result"
    }
   ],
   "source": [
    "is_female = employees[\"Gender\"] == \"Female\"\n",
    "in_biz_dev = employees[\"Team\"] == \"Business Dev\"\n",
    "\n",
    "is_female & in_biz_dev"
   ]
  },
  {
   "cell_type": "code",
   "execution_count": 27,
   "id": "d5de2301",
   "metadata": {},
   "outputs": [
    {
     "data": {
      "text/html": [
       "<div>\n",
       "<style scoped>\n",
       "    .dataframe tbody tr th:only-of-type {\n",
       "        vertical-align: middle;\n",
       "    }\n",
       "\n",
       "    .dataframe tbody tr th {\n",
       "        vertical-align: top;\n",
       "    }\n",
       "\n",
       "    .dataframe thead th {\n",
       "        text-align: right;\n",
       "    }\n",
       "</style>\n",
       "<table border=\"1\" class=\"dataframe\">\n",
       "  <thead>\n",
       "    <tr style=\"text-align: right;\">\n",
       "      <th></th>\n",
       "      <th>First Name</th>\n",
       "      <th>Gender</th>\n",
       "      <th>Start Date</th>\n",
       "      <th>Salary</th>\n",
       "      <th>Mgmt</th>\n",
       "      <th>Team</th>\n",
       "    </tr>\n",
       "  </thead>\n",
       "  <tbody>\n",
       "  </tbody>\n",
       "</table>\n",
       "</div>"
      ],
      "text/plain": [
       "Empty DataFrame\n",
       "Columns: [First Name, Gender, Start Date, Salary, Mgmt, Team]\n",
       "Index: []"
      ]
     },
     "execution_count": 27,
     "metadata": {},
     "output_type": "execute_result"
    }
   ],
   "source": [
    "employees[is_female & in_biz_dev]"
   ]
  },
  {
   "cell_type": "markdown",
   "id": "a4dd98ac",
   "metadata": {},
   "source": [
    "We can include any amount of Series within the square brackets as long as we separate every subsequent two with a & symbol."
   ]
  },
  {
   "cell_type": "code",
   "execution_count": 28,
   "id": "e55009d3",
   "metadata": {},
   "outputs": [
    {
     "data": {
      "text/html": [
       "<div>\n",
       "<style scoped>\n",
       "    .dataframe tbody tr th:only-of-type {\n",
       "        vertical-align: middle;\n",
       "    }\n",
       "\n",
       "    .dataframe tbody tr th {\n",
       "        vertical-align: top;\n",
       "    }\n",
       "\n",
       "    .dataframe thead th {\n",
       "        text-align: right;\n",
       "    }\n",
       "</style>\n",
       "<table border=\"1\" class=\"dataframe\">\n",
       "  <thead>\n",
       "    <tr style=\"text-align: right;\">\n",
       "      <th></th>\n",
       "      <th>First Name</th>\n",
       "      <th>Gender</th>\n",
       "      <th>Start Date</th>\n",
       "      <th>Salary</th>\n",
       "      <th>Mgmt</th>\n",
       "      <th>Team</th>\n",
       "    </tr>\n",
       "  </thead>\n",
       "  <tbody>\n",
       "  </tbody>\n",
       "</table>\n",
       "</div>"
      ],
      "text/plain": [
       "Empty DataFrame\n",
       "Columns: [First Name, Gender, Start Date, Salary, Mgmt, Team]\n",
       "Index: []"
      ]
     },
     "execution_count": 28,
     "metadata": {},
     "output_type": "execute_result"
    }
   ],
   "source": [
    "is_manager = employees[\"Mgmt\"]\n",
    "employees[is_female & in_biz_dev & is_manager]"
   ]
  },
  {
   "cell_type": "markdown",
   "id": "ce24fe35",
   "metadata": {},
   "source": [
    "## The OR condition\n",
    "\n",
    "We can also extract rows if they fit one of several conditions. Not all conditions have to\n",
    "be true, but at least one does. \n",
    "\n",
    "Suppose that we want to identify all employees with a Salary below $40,000 or a Start Date after January 1, 2015. We can use mathematical operators such as < and > to arrive at two separate Boolean Series for these conditions:"
   ]
  },
  {
   "cell_type": "code",
   "execution_count": 30,
   "id": "49e5634d",
   "metadata": {},
   "outputs": [],
   "source": [
    "earning_below_40k = employees[\"Salary\"] < 40000\n",
    "started_after_2015 = employees[\"Start Date\"] > \"2015-01-01\""
   ]
  },
  {
   "cell_type": "markdown",
   "id": "5740becf",
   "metadata": {},
   "source": [
    "We use a pipe symbol ( | ) between Boolean <code>Series</code> to declare <code>OR</code> criteria. \n",
    "\n",
    "The next example selects the rows in which either of the Boolean <code>Series</code> holds a <code>True</code> value:"
   ]
  },
  {
   "cell_type": "code",
   "execution_count": 31,
   "id": "e88a95fe",
   "metadata": {},
   "outputs": [
    {
     "data": {
      "text/html": [
       "<div>\n",
       "<style scoped>\n",
       "    .dataframe tbody tr th:only-of-type {\n",
       "        vertical-align: middle;\n",
       "    }\n",
       "\n",
       "    .dataframe tbody tr th {\n",
       "        vertical-align: top;\n",
       "    }\n",
       "\n",
       "    .dataframe thead th {\n",
       "        text-align: right;\n",
       "    }\n",
       "</style>\n",
       "<table border=\"1\" class=\"dataframe\">\n",
       "  <thead>\n",
       "    <tr style=\"text-align: right;\">\n",
       "      <th></th>\n",
       "      <th>First Name</th>\n",
       "      <th>Gender</th>\n",
       "      <th>Start Date</th>\n",
       "      <th>Salary</th>\n",
       "      <th>Mgmt</th>\n",
       "      <th>Team</th>\n",
       "    </tr>\n",
       "  </thead>\n",
       "  <tbody>\n",
       "    <tr>\n",
       "      <th>0</th>\n",
       "      <td>Douglas</td>\n",
       "      <td>Male</td>\n",
       "      <td>1993-08-06</td>\n",
       "      <td>0</td>\n",
       "      <td>True</td>\n",
       "      <td>Marketing</td>\n",
       "    </tr>\n",
       "  </tbody>\n",
       "</table>\n",
       "</div>"
      ],
      "text/plain": [
       "  First Name Gender Start Date  Salary  Mgmt       Team\n",
       "0    Douglas   Male 1993-08-06       0  True  Marketing"
      ]
     },
     "execution_count": 31,
     "metadata": {},
     "output_type": "execute_result"
    }
   ],
   "source": [
    "employees[earning_below_40k | started_after_2015].tail()"
   ]
  },
  {
   "cell_type": "markdown",
   "id": "b2439a0c",
   "metadata": {},
   "source": [
    "### Inversion with ~\n",
    "\n",
    "The tilde symbol ( ~ ) inverts the values in a Boolean <code>Series</code> . All <code>True</code> values become\n",
    "<code>False</code> , and all <code>False</code> values become <code>True</code> ."
   ]
  },
  {
   "cell_type": "code",
   "execution_count": 32,
   "id": "6a7ba1f2",
   "metadata": {},
   "outputs": [
    {
     "data": {
      "text/plain": [
       "0     True\n",
       "1    False\n",
       "2     True\n",
       "dtype: bool"
      ]
     },
     "execution_count": 32,
     "metadata": {},
     "output_type": "execute_result"
    }
   ],
   "source": [
    "my_series = pd.Series([True, False, True])\n",
    "my_series"
   ]
  },
  {
   "cell_type": "code",
   "execution_count": 35,
   "id": "f40cf758",
   "metadata": {},
   "outputs": [
    {
     "data": {
      "text/plain": [
       "0    False\n",
       "1     True\n",
       "2    False\n",
       "dtype: bool"
      ]
     },
     "execution_count": 35,
     "metadata": {},
     "output_type": "execute_result"
    }
   ],
   "source": [
    "~my_series"
   ]
  },
  {
   "cell_type": "code",
   "execution_count": 36,
   "id": "d9ae1920",
   "metadata": {},
   "outputs": [
    {
     "data": {
      "text/html": [
       "<div>\n",
       "<style scoped>\n",
       "    .dataframe tbody tr th:only-of-type {\n",
       "        vertical-align: middle;\n",
       "    }\n",
       "\n",
       "    .dataframe tbody tr th {\n",
       "        vertical-align: top;\n",
       "    }\n",
       "\n",
       "    .dataframe thead th {\n",
       "        text-align: right;\n",
       "    }\n",
       "</style>\n",
       "<table border=\"1\" class=\"dataframe\">\n",
       "  <thead>\n",
       "    <tr style=\"text-align: right;\">\n",
       "      <th></th>\n",
       "      <th>First Name</th>\n",
       "      <th>Gender</th>\n",
       "      <th>Start Date</th>\n",
       "      <th>Salary</th>\n",
       "      <th>Mgmt</th>\n",
       "      <th>Team</th>\n",
       "    </tr>\n",
       "  </thead>\n",
       "  <tbody>\n",
       "    <tr>\n",
       "      <th>0</th>\n",
       "      <td>Douglas</td>\n",
       "      <td>Male</td>\n",
       "      <td>1993-08-06</td>\n",
       "      <td>0</td>\n",
       "      <td>True</td>\n",
       "      <td>Marketing</td>\n",
       "    </tr>\n",
       "    <tr>\n",
       "      <th>1</th>\n",
       "      <td>Thomas</td>\n",
       "      <td>Male</td>\n",
       "      <td>1996-03-31</td>\n",
       "      <td>61933</td>\n",
       "      <td>True</td>\n",
       "      <td>NaN</td>\n",
       "    </tr>\n",
       "  </tbody>\n",
       "</table>\n",
       "</div>"
      ],
      "text/plain": [
       "  First Name Gender Start Date  Salary  Mgmt       Team\n",
       "0    Douglas   Male 1993-08-06       0  True  Marketing\n",
       "1     Thomas   Male 1996-03-31   61933  True        NaN"
      ]
     },
     "execution_count": 36,
     "metadata": {},
     "output_type": "execute_result"
    }
   ],
   "source": [
    "employees[employees[\"Salary\"] < 100000]"
   ]
  },
  {
   "cell_type": "code",
   "execution_count": 37,
   "id": "b25b2698",
   "metadata": {},
   "outputs": [
    {
     "data": {
      "text/html": [
       "<div>\n",
       "<style scoped>\n",
       "    .dataframe tbody tr th:only-of-type {\n",
       "        vertical-align: middle;\n",
       "    }\n",
       "\n",
       "    .dataframe tbody tr th {\n",
       "        vertical-align: top;\n",
       "    }\n",
       "\n",
       "    .dataframe thead th {\n",
       "        text-align: right;\n",
       "    }\n",
       "</style>\n",
       "<table border=\"1\" class=\"dataframe\">\n",
       "  <thead>\n",
       "    <tr style=\"text-align: right;\">\n",
       "      <th></th>\n",
       "      <th>First Name</th>\n",
       "      <th>Gender</th>\n",
       "      <th>Start Date</th>\n",
       "      <th>Salary</th>\n",
       "      <th>Mgmt</th>\n",
       "      <th>Team</th>\n",
       "    </tr>\n",
       "  </thead>\n",
       "  <tbody>\n",
       "    <tr>\n",
       "      <th>0</th>\n",
       "      <td>Douglas</td>\n",
       "      <td>Male</td>\n",
       "      <td>1993-08-06</td>\n",
       "      <td>0</td>\n",
       "      <td>True</td>\n",
       "      <td>Marketing</td>\n",
       "    </tr>\n",
       "    <tr>\n",
       "      <th>1</th>\n",
       "      <td>Thomas</td>\n",
       "      <td>Male</td>\n",
       "      <td>1996-03-31</td>\n",
       "      <td>61933</td>\n",
       "      <td>True</td>\n",
       "      <td>NaN</td>\n",
       "    </tr>\n",
       "  </tbody>\n",
       "</table>\n",
       "</div>"
      ],
      "text/plain": [
       "  First Name Gender Start Date  Salary  Mgmt       Team\n",
       "0    Douglas   Male 1993-08-06       0  True  Marketing\n",
       "1     Thomas   Male 1996-03-31   61933  True        NaN"
      ]
     },
     "execution_count": 37,
     "metadata": {},
     "output_type": "execute_result"
    }
   ],
   "source": [
    "employees[~(employees[\"Salary\"] >= 100000)]"
   ]
  },
  {
   "cell_type": "markdown",
   "id": "bb28793e",
   "metadata": {},
   "source": [
    "# Filtering by condition\n",
    "\n",
    "Some filtering operations are more complex than simple equality or inequality checks. Luckily, pandas ships with many helper methods that generate Boolean Series for these types of extractions.\n",
    "\n",
    "## The <code>isin</code> method\n",
    "\n",
    "What if we want to isolate the employees who belong to either the Sales, Legal, or Marketing team? We could provide three separate Boolean <code>Series</code> inside the square brackets and add the | symbol to declare <code>OR</code> criteria:"
   ]
  },
  {
   "cell_type": "code",
   "execution_count": 39,
   "id": "cc867cc9",
   "metadata": {},
   "outputs": [
    {
     "data": {
      "text/html": [
       "<div>\n",
       "<style scoped>\n",
       "    .dataframe tbody tr th:only-of-type {\n",
       "        vertical-align: middle;\n",
       "    }\n",
       "\n",
       "    .dataframe tbody tr th {\n",
       "        vertical-align: top;\n",
       "    }\n",
       "\n",
       "    .dataframe thead th {\n",
       "        text-align: right;\n",
       "    }\n",
       "</style>\n",
       "<table border=\"1\" class=\"dataframe\">\n",
       "  <thead>\n",
       "    <tr style=\"text-align: right;\">\n",
       "      <th></th>\n",
       "      <th>First Name</th>\n",
       "      <th>Gender</th>\n",
       "      <th>Start Date</th>\n",
       "      <th>Salary</th>\n",
       "      <th>Mgmt</th>\n",
       "      <th>Team</th>\n",
       "    </tr>\n",
       "  </thead>\n",
       "  <tbody>\n",
       "    <tr>\n",
       "      <th>0</th>\n",
       "      <td>Douglas</td>\n",
       "      <td>Male</td>\n",
       "      <td>1993-08-06</td>\n",
       "      <td>0</td>\n",
       "      <td>True</td>\n",
       "      <td>Marketing</td>\n",
       "    </tr>\n",
       "  </tbody>\n",
       "</table>\n",
       "</div>"
      ],
      "text/plain": [
       "  First Name Gender Start Date  Salary  Mgmt       Team\n",
       "0    Douglas   Male 1993-08-06       0  True  Marketing"
      ]
     },
     "execution_count": 39,
     "metadata": {},
     "output_type": "execute_result"
    }
   ],
   "source": [
    "sales = employees[\"Team\"]== \"Sales\"\n",
    "legal = employees[\"Team\"]== \"Legal\"\n",
    "mktg = employees[\"Team\"]== \"Marketing\"\n",
    "employees[sales | legal | mktg]"
   ]
  },
  {
   "cell_type": "markdown",
   "id": "b964288e",
   "metadata": {},
   "source": [
    "Although this solution works, it isn’t scalable. What if our next report asked for employees from 15 teams instead of three?\n",
    "\n",
    "A better solution is the isin method, which accepts an iterable of elements (list, tuple, <code>Series</code> , and so on) and returns a Boolean <code>Series</code> . <code>True</code> denotes that pandas found the row’s value among the iterable’s values, and <code>False</code> denotes that it did not. When we have the <code>Series/<code> , we can use it to filter the <code>DataFrame</code> in the usual manner.\n",
    "\n",
    "The next example achieves the same result set:"
   ]
  },
  {
   "cell_type": "code",
   "execution_count": 40,
   "id": "5557f642",
   "metadata": {},
   "outputs": [
    {
     "data": {
      "text/html": [
       "<div>\n",
       "<style scoped>\n",
       "    .dataframe tbody tr th:only-of-type {\n",
       "        vertical-align: middle;\n",
       "    }\n",
       "\n",
       "    .dataframe tbody tr th {\n",
       "        vertical-align: top;\n",
       "    }\n",
       "\n",
       "    .dataframe thead th {\n",
       "        text-align: right;\n",
       "    }\n",
       "</style>\n",
       "<table border=\"1\" class=\"dataframe\">\n",
       "  <thead>\n",
       "    <tr style=\"text-align: right;\">\n",
       "      <th></th>\n",
       "      <th>First Name</th>\n",
       "      <th>Gender</th>\n",
       "      <th>Start Date</th>\n",
       "      <th>Salary</th>\n",
       "      <th>Mgmt</th>\n",
       "      <th>Team</th>\n",
       "    </tr>\n",
       "  </thead>\n",
       "  <tbody>\n",
       "    <tr>\n",
       "      <th>0</th>\n",
       "      <td>Douglas</td>\n",
       "      <td>Male</td>\n",
       "      <td>1993-08-06</td>\n",
       "      <td>0</td>\n",
       "      <td>True</td>\n",
       "      <td>Marketing</td>\n",
       "    </tr>\n",
       "  </tbody>\n",
       "</table>\n",
       "</div>"
      ],
      "text/plain": [
       "  First Name Gender Start Date  Salary  Mgmt       Team\n",
       "0    Douglas   Male 1993-08-06       0  True  Marketing"
      ]
     },
     "execution_count": 40,
     "metadata": {},
     "output_type": "execute_result"
    }
   ],
   "source": [
    "all_star_teams = [\"Sales\", \"Legal\", \"Marketing\"]\n",
    "on_all_star_teams = employees[\"Team\"].isin(all_star_teams)\n",
    "employees[on_all_star_teams]"
   ]
  },
  {
   "cell_type": "markdown",
   "id": "04fc559f",
   "metadata": {},
   "source": [
    "### The <code>isnull</code> and <code>notnull</code> methods\n",
    "\n",
    "Pandas marks missing text values and missing numeric values with a <code>NaN</code> (not a num-\n",
    "ber) designation, and it marks missing datetime values with a <code>NaT</code> (not a time) designation.\n",
    "\n",
    "We can use several pandas methods to isolate rows with either null or present values in a given column. The <code>isnull</code> method returns a Boolean <code>Series</code> in which <code>True</code> denotes that a row’s value is missing:"
   ]
  },
  {
   "cell_type": "code",
   "execution_count": 41,
   "id": "0f8d81d6",
   "metadata": {},
   "outputs": [
    {
     "data": {
      "text/plain": [
       "0    False\n",
       "1     True\n",
       "2    False\n",
       "3    False\n",
       "4    False\n",
       "Name: Team, dtype: bool"
      ]
     },
     "execution_count": 41,
     "metadata": {},
     "output_type": "execute_result"
    }
   ],
   "source": [
    "employees[\"Team\"].isnull()"
   ]
  },
  {
   "cell_type": "markdown",
   "id": "144a396e",
   "metadata": {},
   "source": [
    "Pandas considers the <code>NaT</code> and <code>None</code> values to be null as well. The next example invokes the <code>isnull</code> method on the Start Date column:"
   ]
  },
  {
   "cell_type": "code",
   "execution_count": 42,
   "id": "91f9602f",
   "metadata": {},
   "outputs": [
    {
     "data": {
      "text/plain": [
       "0    False\n",
       "1    False\n",
       "2     True\n",
       "3    False\n",
       "4    False\n",
       "Name: Start Date, dtype: bool"
      ]
     },
     "execution_count": 42,
     "metadata": {},
     "output_type": "execute_result"
    }
   ],
   "source": [
    "employees[\"Start Date\"].isnull()"
   ]
  },
  {
   "cell_type": "markdown",
   "id": "64eb1ed9",
   "metadata": {},
   "source": [
    "The <code>notnull</code> method returns the inverse <code>Series</code> , one in which <code>True</code> indicates that a row’s value is present. The following output communicates that indices 0, 2, 3, and 4 do not have missing values:"
   ]
  },
  {
   "cell_type": "code",
   "execution_count": 43,
   "id": "cee5db86",
   "metadata": {},
   "outputs": [
    {
     "data": {
      "text/plain": [
       "0     True\n",
       "1    False\n",
       "2     True\n",
       "3     True\n",
       "4     True\n",
       "Name: Team, dtype: bool"
      ]
     },
     "execution_count": 43,
     "metadata": {},
     "output_type": "execute_result"
    }
   ],
   "source": [
    "employees[\"Team\"].notnull()"
   ]
  },
  {
   "cell_type": "markdown",
   "id": "01e5c90c",
   "metadata": {},
   "source": [
    "We can produce the same result set by inverting the <code>Series</code> returned by the <code>isnull</code> method. As a reminder, we use the tilde symbol ( ~ ) to invert a Boolean <code>Series</code> :"
   ]
  },
  {
   "cell_type": "code",
   "execution_count": 45,
   "id": "2bb1fdc8",
   "metadata": {},
   "outputs": [
    {
     "data": {
      "text/plain": [
       "0     True\n",
       "1    False\n",
       "2     True\n",
       "3     True\n",
       "4     True\n",
       "Name: Team, dtype: bool"
      ]
     },
     "execution_count": 45,
     "metadata": {},
     "output_type": "execute_result"
    }
   ],
   "source": [
    "(~employees[\"Team\"].isnull())"
   ]
  },
  {
   "cell_type": "markdown",
   "id": "00670967",
   "metadata": {},
   "source": [
    "Either approach works, but <code>notnull</code> is a bit more descriptive and thus is recommended."
   ]
  },
  {
   "cell_type": "markdown",
   "id": "7720f449",
   "metadata": {},
   "source": [
    "## Dealing with null values\n",
    "\n",
    "While we’re on the topic of missing values, let’s discuss some options for dealing with them. In section 5.2, we learned how to use the <code>fillna</code> method to replace NaNs with a constant value. We could also remove them.\n",
    "\n",
    "The <code>dropna</code> method removes <code>DataFrame</code> rows that hold any <code>NaN</code> values. \n",
    "\n",
    "It doesn’t matter how many values a row is missing; the method excludes the row if a single <code>NaN</code> is present."
   ]
  },
  {
   "cell_type": "code",
   "execution_count": 46,
   "id": "97839e02",
   "metadata": {},
   "outputs": [
    {
     "data": {
      "text/html": [
       "<div>\n",
       "<style scoped>\n",
       "    .dataframe tbody tr th:only-of-type {\n",
       "        vertical-align: middle;\n",
       "    }\n",
       "\n",
       "    .dataframe tbody tr th {\n",
       "        vertical-align: top;\n",
       "    }\n",
       "\n",
       "    .dataframe thead th {\n",
       "        text-align: right;\n",
       "    }\n",
       "</style>\n",
       "<table border=\"1\" class=\"dataframe\">\n",
       "  <thead>\n",
       "    <tr style=\"text-align: right;\">\n",
       "      <th></th>\n",
       "      <th>First Name</th>\n",
       "      <th>Gender</th>\n",
       "      <th>Start Date</th>\n",
       "      <th>Salary</th>\n",
       "      <th>Mgmt</th>\n",
       "      <th>Team</th>\n",
       "    </tr>\n",
       "  </thead>\n",
       "  <tbody>\n",
       "    <tr>\n",
       "      <th>0</th>\n",
       "      <td>Douglas</td>\n",
       "      <td>Male</td>\n",
       "      <td>1993-08-06</td>\n",
       "      <td>0</td>\n",
       "      <td>True</td>\n",
       "      <td>Marketing</td>\n",
       "    </tr>\n",
       "    <tr>\n",
       "      <th>4</th>\n",
       "      <td>Larry</td>\n",
       "      <td>Male</td>\n",
       "      <td>1998-01-24</td>\n",
       "      <td>101004</td>\n",
       "      <td>True</td>\n",
       "      <td>IT</td>\n",
       "    </tr>\n",
       "  </tbody>\n",
       "</table>\n",
       "</div>"
      ],
      "text/plain": [
       "  First Name Gender Start Date  Salary  Mgmt       Team\n",
       "0    Douglas   Male 1993-08-06       0  True  Marketing\n",
       "4      Larry   Male 1998-01-24  101004  True         IT"
      ]
     },
     "execution_count": 46,
     "metadata": {},
     "output_type": "execute_result"
    }
   ],
   "source": [
    "employees.dropna()"
   ]
  },
  {
   "cell_type": "markdown",
   "id": "4d26179f",
   "metadata": {},
   "source": [
    "We can pass the <code>how</code> parameter an argument of \"<code>all</code>\" to remove rows in which all values are missing. Only one row in the data set, the last one, satisfies this condition:"
   ]
  },
  {
   "cell_type": "code",
   "execution_count": 47,
   "id": "7997add3",
   "metadata": {},
   "outputs": [
    {
     "data": {
      "text/html": [
       "<div>\n",
       "<style scoped>\n",
       "    .dataframe tbody tr th:only-of-type {\n",
       "        vertical-align: middle;\n",
       "    }\n",
       "\n",
       "    .dataframe tbody tr th {\n",
       "        vertical-align: top;\n",
       "    }\n",
       "\n",
       "    .dataframe thead th {\n",
       "        text-align: right;\n",
       "    }\n",
       "</style>\n",
       "<table border=\"1\" class=\"dataframe\">\n",
       "  <thead>\n",
       "    <tr style=\"text-align: right;\">\n",
       "      <th></th>\n",
       "      <th>First Name</th>\n",
       "      <th>Gender</th>\n",
       "      <th>Start Date</th>\n",
       "      <th>Salary</th>\n",
       "      <th>Mgmt</th>\n",
       "      <th>Team</th>\n",
       "    </tr>\n",
       "  </thead>\n",
       "  <tbody>\n",
       "    <tr>\n",
       "      <th>0</th>\n",
       "      <td>Douglas</td>\n",
       "      <td>Male</td>\n",
       "      <td>1993-08-06</td>\n",
       "      <td>0</td>\n",
       "      <td>True</td>\n",
       "      <td>Marketing</td>\n",
       "    </tr>\n",
       "    <tr>\n",
       "      <th>1</th>\n",
       "      <td>Thomas</td>\n",
       "      <td>Male</td>\n",
       "      <td>1996-03-31</td>\n",
       "      <td>61933</td>\n",
       "      <td>True</td>\n",
       "      <td>NaN</td>\n",
       "    </tr>\n",
       "    <tr>\n",
       "      <th>2</th>\n",
       "      <td>Maria</td>\n",
       "      <td>Female</td>\n",
       "      <td>NaT</td>\n",
       "      <td>130590</td>\n",
       "      <td>False</td>\n",
       "      <td>Finance</td>\n",
       "    </tr>\n",
       "    <tr>\n",
       "      <th>3</th>\n",
       "      <td>Jerry</td>\n",
       "      <td>NaN</td>\n",
       "      <td>2005-03-04</td>\n",
       "      <td>138705</td>\n",
       "      <td>True</td>\n",
       "      <td>Finance</td>\n",
       "    </tr>\n",
       "    <tr>\n",
       "      <th>4</th>\n",
       "      <td>Larry</td>\n",
       "      <td>Male</td>\n",
       "      <td>1998-01-24</td>\n",
       "      <td>101004</td>\n",
       "      <td>True</td>\n",
       "      <td>IT</td>\n",
       "    </tr>\n",
       "  </tbody>\n",
       "</table>\n",
       "</div>"
      ],
      "text/plain": [
       "  First Name  Gender Start Date  Salary   Mgmt       Team\n",
       "0    Douglas    Male 1993-08-06       0   True  Marketing\n",
       "1     Thomas    Male 1996-03-31   61933   True        NaN\n",
       "2      Maria  Female        NaT  130590  False    Finance\n",
       "3      Jerry     NaN 2005-03-04  138705   True    Finance\n",
       "4      Larry    Male 1998-01-24  101004   True         IT"
      ]
     },
     "execution_count": 47,
     "metadata": {},
     "output_type": "execute_result"
    }
   ],
   "source": [
    "employees.dropna(how = \"all\")"
   ]
  },
  {
   "cell_type": "markdown",
   "id": "998e484c",
   "metadata": {},
   "source": [
    "The how parameter’s default argument is \"<code>any</code>\" . An argument of \"<code>any</code>\" removes a row if any of its values is absent.\n",
    "    \n",
    "We can use the <code>subset</code> parameter to target rows with a missing value in a specific column.\n",
    "\n",
    "The next example removes rows that have a missing value in the Gender column:"
   ]
  },
  {
   "cell_type": "code",
   "execution_count": 48,
   "id": "fb103bfb",
   "metadata": {},
   "outputs": [
    {
     "data": {
      "text/html": [
       "<div>\n",
       "<style scoped>\n",
       "    .dataframe tbody tr th:only-of-type {\n",
       "        vertical-align: middle;\n",
       "    }\n",
       "\n",
       "    .dataframe tbody tr th {\n",
       "        vertical-align: top;\n",
       "    }\n",
       "\n",
       "    .dataframe thead th {\n",
       "        text-align: right;\n",
       "    }\n",
       "</style>\n",
       "<table border=\"1\" class=\"dataframe\">\n",
       "  <thead>\n",
       "    <tr style=\"text-align: right;\">\n",
       "      <th></th>\n",
       "      <th>First Name</th>\n",
       "      <th>Gender</th>\n",
       "      <th>Start Date</th>\n",
       "      <th>Salary</th>\n",
       "      <th>Mgmt</th>\n",
       "      <th>Team</th>\n",
       "    </tr>\n",
       "  </thead>\n",
       "  <tbody>\n",
       "    <tr>\n",
       "      <th>0</th>\n",
       "      <td>Douglas</td>\n",
       "      <td>Male</td>\n",
       "      <td>1993-08-06</td>\n",
       "      <td>0</td>\n",
       "      <td>True</td>\n",
       "      <td>Marketing</td>\n",
       "    </tr>\n",
       "    <tr>\n",
       "      <th>1</th>\n",
       "      <td>Thomas</td>\n",
       "      <td>Male</td>\n",
       "      <td>1996-03-31</td>\n",
       "      <td>61933</td>\n",
       "      <td>True</td>\n",
       "      <td>NaN</td>\n",
       "    </tr>\n",
       "    <tr>\n",
       "      <th>2</th>\n",
       "      <td>Maria</td>\n",
       "      <td>Female</td>\n",
       "      <td>NaT</td>\n",
       "      <td>130590</td>\n",
       "      <td>False</td>\n",
       "      <td>Finance</td>\n",
       "    </tr>\n",
       "    <tr>\n",
       "      <th>4</th>\n",
       "      <td>Larry</td>\n",
       "      <td>Male</td>\n",
       "      <td>1998-01-24</td>\n",
       "      <td>101004</td>\n",
       "      <td>True</td>\n",
       "      <td>IT</td>\n",
       "    </tr>\n",
       "  </tbody>\n",
       "</table>\n",
       "</div>"
      ],
      "text/plain": [
       "  First Name  Gender Start Date  Salary   Mgmt       Team\n",
       "0    Douglas    Male 1993-08-06       0   True  Marketing\n",
       "1     Thomas    Male 1996-03-31   61933   True        NaN\n",
       "2      Maria  Female        NaT  130590  False    Finance\n",
       "4      Larry    Male 1998-01-24  101004   True         IT"
      ]
     },
     "execution_count": 48,
     "metadata": {},
     "output_type": "execute_result"
    }
   ],
   "source": [
    "employees.dropna(subset = [\"Gender\"])"
   ]
  },
  {
   "cell_type": "markdown",
   "id": "77bcc753",
   "metadata": {},
   "source": [
    "We can also pass the <code>subset</code> parameter a list of columns. Pandas will remove a row if it has a missing value in any of the specified columns."
   ]
  },
  {
   "cell_type": "code",
   "execution_count": 49,
   "id": "b90a3fd6",
   "metadata": {},
   "outputs": [
    {
     "data": {
      "text/html": [
       "<div>\n",
       "<style scoped>\n",
       "    .dataframe tbody tr th:only-of-type {\n",
       "        vertical-align: middle;\n",
       "    }\n",
       "\n",
       "    .dataframe tbody tr th {\n",
       "        vertical-align: top;\n",
       "    }\n",
       "\n",
       "    .dataframe thead th {\n",
       "        text-align: right;\n",
       "    }\n",
       "</style>\n",
       "<table border=\"1\" class=\"dataframe\">\n",
       "  <thead>\n",
       "    <tr style=\"text-align: right;\">\n",
       "      <th></th>\n",
       "      <th>First Name</th>\n",
       "      <th>Gender</th>\n",
       "      <th>Start Date</th>\n",
       "      <th>Salary</th>\n",
       "      <th>Mgmt</th>\n",
       "      <th>Team</th>\n",
       "    </tr>\n",
       "  </thead>\n",
       "  <tbody>\n",
       "    <tr>\n",
       "      <th>0</th>\n",
       "      <td>Douglas</td>\n",
       "      <td>Male</td>\n",
       "      <td>1993-08-06</td>\n",
       "      <td>0</td>\n",
       "      <td>True</td>\n",
       "      <td>Marketing</td>\n",
       "    </tr>\n",
       "    <tr>\n",
       "      <th>1</th>\n",
       "      <td>Thomas</td>\n",
       "      <td>Male</td>\n",
       "      <td>1996-03-31</td>\n",
       "      <td>61933</td>\n",
       "      <td>True</td>\n",
       "      <td>NaN</td>\n",
       "    </tr>\n",
       "    <tr>\n",
       "      <th>3</th>\n",
       "      <td>Jerry</td>\n",
       "      <td>NaN</td>\n",
       "      <td>2005-03-04</td>\n",
       "      <td>138705</td>\n",
       "      <td>True</td>\n",
       "      <td>Finance</td>\n",
       "    </tr>\n",
       "    <tr>\n",
       "      <th>4</th>\n",
       "      <td>Larry</td>\n",
       "      <td>Male</td>\n",
       "      <td>1998-01-24</td>\n",
       "      <td>101004</td>\n",
       "      <td>True</td>\n",
       "      <td>IT</td>\n",
       "    </tr>\n",
       "  </tbody>\n",
       "</table>\n",
       "</div>"
      ],
      "text/plain": [
       "  First Name Gender Start Date  Salary  Mgmt       Team\n",
       "0    Douglas   Male 1993-08-06       0  True  Marketing\n",
       "1     Thomas   Male 1996-03-31   61933  True        NaN\n",
       "3      Jerry    NaN 2005-03-04  138705  True    Finance\n",
       "4      Larry   Male 1998-01-24  101004  True         IT"
      ]
     },
     "execution_count": 49,
     "metadata": {},
     "output_type": "execute_result"
    }
   ],
   "source": [
    "employees.dropna(subset = [\"Start Date\", \"Salary\"])"
   ]
  },
  {
   "cell_type": "markdown",
   "id": "fe278397",
   "metadata": {},
   "source": [
    "The <code>thresh</code> parameter specifies a minimum threshold of non-null values that a row must have for pandas to keep it. The next example filters <code>employees</code> for rows with at least four present values:"
   ]
  },
  {
   "cell_type": "code",
   "execution_count": null,
   "id": "73fbe445",
   "metadata": {},
   "outputs": [],
   "source": []
  }
 ],
 "metadata": {
  "kernelspec": {
   "display_name": "Python 3 (ipykernel)",
   "language": "python",
   "name": "python3"
  },
  "language_info": {
   "codemirror_mode": {
    "name": "ipython",
    "version": 3
   },
   "file_extension": ".py",
   "mimetype": "text/x-python",
   "name": "python",
   "nbconvert_exporter": "python",
   "pygments_lexer": "ipython3",
   "version": "3.7.13"
  }
 },
 "nbformat": 4,
 "nbformat_minor": 5
}
