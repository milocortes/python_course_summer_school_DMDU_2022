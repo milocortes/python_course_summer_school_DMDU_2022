{
 "cells": [
  {
   "cell_type": "markdown",
   "id": "678ac43e",
   "metadata": {
    "slideshow": {
     "slide_type": "slide"
    }
   },
   "source": [
    "# Clustering y transitividad\n"
   ]
  },
  {
   "cell_type": "markdown",
   "id": "ac6e586f",
   "metadata": {
    "slideshow": {
     "slide_type": "slide"
    }
   },
   "source": [
    "### Introducción \n",
    "\n",
    "* Estrada et al (2015) indica que muchas redes del mundo real se caracterízan por tener una cantidad relativamente grande de triángulos. \n",
    "* Esta característica es producto de la presencia de alta transitividad.\n",
    "* Las medidas que presentan los autores  están relacionadas con la proporción de triángulos que existen en una red y el número potencial de triángulos que se pueden presentar dados los grados de sus nodos.\n",
    "* Esta propiedad es conocida como el **coeficiente de clustering**."
   ]
  },
  {
   "cell_type": "markdown",
   "id": "d5d1d9d3",
   "metadata": {
    "slideshow": {
     "slide_type": "slide"
    }
   },
   "source": [
    "Los autores presentan dos métodos para calcular el coeficiente de clustering:\n",
    "\n",
    "* El coeficiente de clustering de Watts-Strogatz (medida local).\n",
    "* El coeficiente de clustering de Newman (medida global)."
   ]
  },
  {
   "cell_type": "markdown",
   "id": "728880eb",
   "metadata": {
    "slideshow": {
     "slide_type": "slide"
    }
   },
   "source": [
    "### Coeficiente de clustering de Watts-Strogatz\n"
   ]
  },
  {
   "cell_type": "markdown",
   "id": "5199dc4f",
   "metadata": {
    "slideshow": {
     "slide_type": "-"
    }
   },
   "source": [
    "Fue propuesto por Watts-Strogatz en 1998. Suponiendo que el clustering de un nodo es proporcional a:\n",
    "\n",
    "$$\n",
    "    C_i = \\dfrac{\\text{# de relaciones transitivas de un nodo}\\; i}{\\text{# total de posibles relaciones transitivas de un nodo}\\; i}\n",
    "$$\n",
    "\n",
    "si $t_i$ designa el número de triángulos unidos al nodo $i$ con grado $k_i$, entonces:\n",
    "\n",
    "$$\n",
    "C_i= \\dfrac{t_i}{\\frac{k_i(k_i-1)}{2}}= \\dfrac{2t_i}{k_i(k_i-1)}\n",
    "$$\n",
    "\n",
    "El coeficiente de clustering promedio de la red es:\n",
    "$$\n",
    "\\overline{C}= \\dfrac{1}{n} \\sum_i^n C_i\n",
    "$$"
   ]
  },
  {
   "cell_type": "markdown",
   "id": "10db8a2d",
   "metadata": {
    "slideshow": {
     "slide_type": "slide"
    }
   },
   "source": [
    "\n",
    "### ¿Cómo obtenemos $t_i$?"
   ]
  },
  {
   "cell_type": "markdown",
   "id": "756d00f7",
   "metadata": {
    "slideshow": {
     "slide_type": "slide"
    }
   },
   "source": [
    "Latora et al (2017) proponen la siguiente expresión : \n",
    " \n",
    " \n",
    "\\begin{equation}\n",
    "C_i =\n",
    "  \\begin{cases}\n",
    "   \\dfrac{K[G_i]}{k_i(k_i-1)/2} & \\quad \\text{para }  k_i \\geq 2\\\\\n",
    "    0  & \\quad \\text{para } k_i= 0,1\n",
    "  \\end{cases}\n",
    "\\end{equation}\n",
    "\n",
    "\n",
    "\n",
    "donde $K[G_i]$ es el número de conexiones en $G_i$, la subgráfica inducida por la vecindad de $i$.\n",
    "\n",
    "\n",
    "El número de aristas $K[G_i]$ en la gráfica $G_i$ puede ser obtenida en términos de la matriz de adyacencia de la gráfica. "
   ]
  },
  {
   "cell_type": "markdown",
   "id": "ce84b924",
   "metadata": {
    "slideshow": {
     "slide_type": "slide"
    }
   },
   "source": [
    "Latora et al (2017) indican que podemos obtener el coeficiente de clustering a partir de la matriz de adyacencia de la siguiente manera:\n",
    "\\begin{equation}\n",
    " c_i =\n",
    "  \\begin{cases}\n",
    "   \\dfrac{\\sum_{l,m} a_{il}a_{lm}a_{mi}}{k_i(k_i-1)}=\\dfrac{\\big( A\\big)^3_{ij}}{k_i(k_i-1)} & \\quad \\text{para }  k_i \\geq 2\\\\\n",
    "    0  & \\quad \\text{para } k_i= 0,1\n",
    "  \\end{cases}\n",
    "\\end{equation}\n",
    "\n",
    "* De acuerdo a los autores, $\\big( A\\big)^3_{ij}=\\sum_{l,m} a_{il}a_{lm}a_{mj}$ es igual al número de recorridos de 3 pasos que conectan al nodo $i$ con el nodo $j$.\n",
    "* En particular, para $i=j$, la cantidad $\\big( A\\big)^3_{ii}=\\sum_{l,m} a_{il}a_{lm}a_{mi}$ denota el número de trayectorias de 3 pasos que llevan del nodo $i$ a si mismo.\n",
    "* Esto es dos veces la cantidad de triángulos generados en la vecindad del nodo $i$."
   ]
  },
  {
   "cell_type": "markdown",
   "id": "43d6295c",
   "metadata": {
    "slideshow": {
     "slide_type": "slide"
    }
   },
   "source": [
    "El triángulo que contiene al nodo $i$ y a los dos nodos $l$ y $m$ está compuesto por dos aristas conectadas al nodo $i$, llámese $(i,l)$ y $(m,i)$, y por la arista $(l,m)$ que pertenece a la gráfica $G_i$ inducida por los primeros vecinos de $i$.  Dado que la arista $(l,m)$ aparece dos veces (en las trayectorias $(i,l,m,i)$ y $(i,m,l,i)$), el número de aristas $K[G_i]$ está dado por:\n",
    "\n",
    "\\begin{equation}\n",
    "K[G_i]=\\frac{1}{2}\\big( A\\big)^3_{ii}=\\frac{1}{2}\\sum_{l,m} a_{il}a_{lm}a_{mi}\n",
    "\\end{equation}\n"
   ]
  },
  {
   "cell_type": "markdown",
   "id": "ab20b8c3",
   "metadata": {
    "slideshow": {
     "slide_type": "slide"
    }
   },
   "source": [
    "De manera que sustituyento (3) en (1) obtenemos la siguiente expresión (2).\n",
    "\n",
    "Así, para el cálculo del coeficiente de clustering tenemos que calcular el cuadrado de la matriz de adyacencia($A^2$). No es necesario calcular por completo el cubo de la matriz de adyacencia, pues los valores que necesitamos de esta son los de la diagonal principal, los cuales lo obtenemos de realizar la multiplicación de las $i$ filas de $A^2$ por las de la matriz de adyacencia.\n"
   ]
  },
  {
   "cell_type": "markdown",
   "id": "5daa3f67",
   "metadata": {
    "slideshow": {
     "slide_type": "slide"
    }
   },
   "source": [
    "\n",
    "<center><img src=\"images/network_estrada.png \"/></center>\n",
    "\n",
    "$$\n",
    "A=\\begin{bmatrix} 0  &  1  &  1  &  1   & 1 & 0 & 0 & 0 \\\\ \n",
    "\t\t\t\t\t1  &  0  &  1   & 0  &  0 & 1 & 0 & 0 \\\\\n",
    "\t\t\t\t\t1  &  1  &  0   & 1  &  0 & 0 & 1 & 0 \\\\\n",
    "\t\t\t\t\t1  &  0  &  1   & 0  &  0 & 0 & 0 & 1 \\\\\n",
    "\t\t\t\t\t1  &  0  &  0   & 0  &  0 & 0 & 0 & 0 \\\\\n",
    "\t\t\t\t\t0  &  1  &  0   & 0  &  0 & 0 & 0 & 0 \\\\\n",
    "\t\t\t\t\t0  &  0  &  1   & 0  &  0 & 0 & 0 & 0 \\\\                    \n",
    "\t\t\t\t\t0  &  0  &  0   & 1  &  0 & 0 & 0 & 0 \n",
    " \\end{bmatrix}\n",
    "$$"
   ]
  },
  {
   "cell_type": "markdown",
   "id": "d4a1a8cc",
   "metadata": {
    "slideshow": {
     "slide_type": "slide"
    }
   },
   "source": [
    "<center><img src=\"network_estrada.png \"/></center>\n"
   ]
  },
  {
   "cell_type": "code",
   "execution_count": 1,
   "id": "fdd3f341",
   "metadata": {
    "slideshow": {
     "slide_type": "-"
    }
   },
   "outputs": [
    {
     "data": {
      "text/plain": [
       "array([4, 2, 4, 2, 0, 0, 0, 0])"
      ]
     },
     "execution_count": 1,
     "metadata": {},
     "output_type": "execute_result"
    }
   ],
   "source": [
    "import numpy as np\n",
    "A=np.array([[0,1,1,1,1,0,0,0], \n",
    "[1,0,1,0,0,1,0,0],\n",
    "[1,1,0,1,0,0,1,0],\n",
    "[1,0,1,0,0,0,0,1],\n",
    "[1,0,0,0,0,0,0,0],\n",
    "[0,1,0,0,0,0,0,0],\n",
    "[0,0,1,0,0,0,0,0],                    \n",
    "[0,0,0,1,0,0,0,0]])\n",
    "A2=np.matmul(A, A)\n",
    "A3=np.matmul(A2, A)\n",
    "A3.diagonal()"
   ]
  },
  {
   "cell_type": "code",
   "execution_count": 2,
   "id": "8d1ea4e1",
   "metadata": {
    "slideshow": {
     "slide_type": "skip"
    }
   },
   "outputs": [],
   "source": [
    "def division(triangulos,ki):\n",
    "    if triangulos==0:\n",
    "        return \"0.0000\"\n",
    "    else:\n",
    "        return round(triangulos/(ki*(ki-1)),4)\n",
    "        "
   ]
  },
  {
   "cell_type": "code",
   "execution_count": 6,
   "id": "7393bc7c",
   "metadata": {
    "slideshow": {
     "slide_type": "slide"
    }
   },
   "outputs": [
    {
     "name": "stdout",
     "output_type": "stream",
     "text": [
      "| i | k_i |  Aii^3 |    Ci    |\n",
      "-------------------------------\n",
      "| 1 |  4  |    4   |  0.3333  |\n",
      "| 2 |  3  |    2   |  0.3333  |\n",
      "| 3 |  4  |    4   |  0.3333  |\n",
      "| 4 |  3  |    2   |  0.3333  |\n",
      "| 5 |  1  |    0   |  0.0000  |\n",
      "| 6 |  1  |    0   |  0.0000  |\n",
      "| 7 |  1  |    0   |  0.0000  |\n",
      "| 8 |  1  |    0   |  0.0000  |\n",
      "El coefiente de clustering promedio es 0.16665\n"
     ]
    }
   ],
   "source": [
    "n=8\n",
    "suma=0\n",
    "ki_lista=[]\n",
    "print(\"| i | k_i |  Aii^3 |    Ci    |\")\n",
    "print(\"-------------------------------\")\n",
    "for i in range(n):\n",
    "    ki=sum(A[i])\n",
    "    ki_lista.append(ki)\n",
    "    triangulos= int(A3[i][i])\n",
    "    ci = division(triangulos,ki)\n",
    "    if isinstance(ci, float):\n",
    "        suma+=ci\n",
    "    print(\"| {} |  {}  |    {}   |  {}  |\".format(i+1,ki,triangulos,ci))\n",
    "\n",
    "print(\"El coefiente de clustering promedio es {}\".format(suma/n))"
   ]
  },
  {
   "cell_type": "markdown",
   "id": "786123f6",
   "metadata": {
    "slideshow": {
     "slide_type": "slide"
    }
   },
   "source": [
    "## Coeficiente de clustering de Newman.\n",
    "\n",
    "El coeficiente de clustering, también conocido como $\\textit{índice de transitividad}$, ofrece una medida global de clustering de la red.\n",
    "\n",
    "Sea $t=|C_3|$ el número total de triángulos y sea $|P_2|$ el número de trayectorias de tamaño dos en la red (qué representa las potenciales relaciones de tres vías). Entonces:\n",
    "\n",
    "\\begin{equation}\n",
    "C=\\dfrac{3t}{|P_2|}= \\dfrac{3|C_3|}{|P_2|}\n",
    "\\end{equation}"
   ]
  },
  {
   "cell_type": "markdown",
   "id": "8cc227e8",
   "metadata": {
    "slideshow": {
     "slide_type": "slide"
    }
   },
   "source": [
    "El número de triángulos es igual a:\n",
    "\n",
    "\\begin{equation}\n",
    "t=\\dfrac{1}{6}\\text{tr}(A^3)\n",
    "\\end{equation}\n",
    "\n",
    "El número de trayectorias de tamaño dos en la red puede ser obtenidas con la siguiente fórmula:\n",
    "\n",
    "\\begin{equation}\n",
    "|P_2|=\\sum_{i=1}^n {k_1 \\choose 2}= \\sum_{i=1}^n \\dfrac{k_i(k_i-1)}{2}\n",
    "\\end{equation}"
   ]
  },
  {
   "cell_type": "markdown",
   "id": "147bf185",
   "metadata": {
    "slideshow": {
     "slide_type": "slide"
    }
   },
   "source": [
    "Para la gráfica que hemos usado, el coeficiente de clustering de Newman sería:"
   ]
  },
  {
   "cell_type": "code",
   "execution_count": 13,
   "id": "abf2277b",
   "metadata": {
    "slideshow": {
     "slide_type": "-"
    }
   },
   "outputs": [
    {
     "name": "stdout",
     "output_type": "stream",
     "text": [
      "t= 2.0.\n",
      "P2 = 18.0.\n",
      "El Coeficiente de clustering de Newman es 0.3333333333333333\n"
     ]
    }
   ],
   "source": [
    "t= (1/6) * A3.trace()\n",
    "P2=0\n",
    "\n",
    "for ki in ki_lista:\n",
    "    P2+=(ki*(ki-1))/2\n",
    "\n",
    "coef_newman = (3*t)/P2\n",
    "print(\"t= {}.\\nP2 = {}.\\nEl Coeficiente de clustering de Newman es {}\".format(t,P2,coef_newman))"
   ]
  },
  {
   "cell_type": "code",
   "execution_count": null,
   "id": "232f95aa",
   "metadata": {
    "slideshow": {
     "slide_type": "slide"
    }
   },
   "outputs": [],
   "source": []
  }
 ],
 "metadata": {
  "celltoolbar": "Slideshow",
  "kernelspec": {
   "display_name": "Python 3 (ipykernel)",
   "language": "python",
   "name": "python3"
  },
  "language_info": {
   "codemirror_mode": {
    "name": "ipython",
    "version": 3
   },
   "file_extension": ".py",
   "mimetype": "text/x-python",
   "name": "python",
   "nbconvert_exporter": "python",
   "pygments_lexer": "ipython3",
   "version": "3.7.11"
  }
 },
 "nbformat": 4,
 "nbformat_minor": 5
}
